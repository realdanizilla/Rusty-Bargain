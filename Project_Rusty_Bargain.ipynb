{
 "cells": [
  {
   "cell_type": "markdown",
   "metadata": {},
   "source": [
    "## Data Preparation"
   ]
  },
  {
   "cell_type": "code",
   "execution_count": 1,
   "metadata": {},
   "outputs": [],
   "source": [
    "# importando as bibliotecas\n",
    "import pandas as pd\n",
    "import numpy as np\n",
    "import math\n",
    "import time\n",
    "import seaborn as sns\n",
    "import matplotlib.pyplot as plt\n",
    "from sklearn.preprocessing import MaxAbsScaler\n",
    "from sklearn.metrics import r2_score, mean_squared_error\n",
    "from sklearn.metrics import roc_auc_score\n",
    "from sklearn.model_selection import train_test_split\n",
    "from sklearn.ensemble import RandomForestRegressor, GradientBoostingRegressor\n",
    "from sklearn.linear_model import LinearRegression\n",
    "from sklearn.tree import DecisionTreeRegressor\n",
    "import lightgbm as lgb\n",
    "from catboost import CatBoostRegressor\n",
    "from xgboost import XGBRegressor\n",
    "from scipy.stats import shapiro, anderson, kstest\n",
    "from scipy.stats import boxcox\n",
    "from sklearn.preprocessing import LabelEncoder"
   ]
  },
  {
   "cell_type": "code",
   "execution_count": 2,
   "metadata": {},
   "outputs": [],
   "source": [
    "# carregando os dados\n",
    "df = pd.read_csv(\"/datasets/car_data.csv\")"
   ]
  },
  {
   "cell_type": "code",
   "execution_count": 3,
   "metadata": {
    "scrolled": false
   },
   "outputs": [
    {
     "data": {
      "text/html": [
       "<div>\n",
       "<style scoped>\n",
       "    .dataframe tbody tr th:only-of-type {\n",
       "        vertical-align: middle;\n",
       "    }\n",
       "\n",
       "    .dataframe tbody tr th {\n",
       "        vertical-align: top;\n",
       "    }\n",
       "\n",
       "    .dataframe thead th {\n",
       "        text-align: right;\n",
       "    }\n",
       "</style>\n",
       "<table border=\"1\" class=\"dataframe\">\n",
       "  <thead>\n",
       "    <tr style=\"text-align: right;\">\n",
       "      <th></th>\n",
       "      <th>DateCrawled</th>\n",
       "      <th>Price</th>\n",
       "      <th>VehicleType</th>\n",
       "      <th>RegistrationYear</th>\n",
       "      <th>Gearbox</th>\n",
       "      <th>Power</th>\n",
       "      <th>Model</th>\n",
       "      <th>Mileage</th>\n",
       "      <th>RegistrationMonth</th>\n",
       "      <th>FuelType</th>\n",
       "      <th>Brand</th>\n",
       "      <th>NotRepaired</th>\n",
       "      <th>DateCreated</th>\n",
       "      <th>NumberOfPictures</th>\n",
       "      <th>PostalCode</th>\n",
       "      <th>LastSeen</th>\n",
       "    </tr>\n",
       "  </thead>\n",
       "  <tbody>\n",
       "    <tr>\n",
       "      <th>129269</th>\n",
       "      <td>18/03/2016 19:47</td>\n",
       "      <td>6800</td>\n",
       "      <td>small</td>\n",
       "      <td>2011</td>\n",
       "      <td>auto</td>\n",
       "      <td>71</td>\n",
       "      <td>fortwo</td>\n",
       "      <td>50000</td>\n",
       "      <td>2</td>\n",
       "      <td>petrol</td>\n",
       "      <td>smart</td>\n",
       "      <td>no</td>\n",
       "      <td>18/03/2016 00:00</td>\n",
       "      <td>0</td>\n",
       "      <td>84100</td>\n",
       "      <td>05/04/2016 22:47</td>\n",
       "    </tr>\n",
       "    <tr>\n",
       "      <th>23369</th>\n",
       "      <td>05/04/2016 02:36</td>\n",
       "      <td>2450</td>\n",
       "      <td>small</td>\n",
       "      <td>2006</td>\n",
       "      <td>manual</td>\n",
       "      <td>60</td>\n",
       "      <td>corsa</td>\n",
       "      <td>80000</td>\n",
       "      <td>4</td>\n",
       "      <td>petrol</td>\n",
       "      <td>opel</td>\n",
       "      <td>no</td>\n",
       "      <td>05/04/2016 00:00</td>\n",
       "      <td>0</td>\n",
       "      <td>53797</td>\n",
       "      <td>05/04/2016 08:39</td>\n",
       "    </tr>\n",
       "    <tr>\n",
       "      <th>226076</th>\n",
       "      <td>16/03/2016 14:48</td>\n",
       "      <td>4899</td>\n",
       "      <td>small</td>\n",
       "      <td>2007</td>\n",
       "      <td>manual</td>\n",
       "      <td>125</td>\n",
       "      <td>corsa</td>\n",
       "      <td>150000</td>\n",
       "      <td>9</td>\n",
       "      <td>gasoline</td>\n",
       "      <td>opel</td>\n",
       "      <td>no</td>\n",
       "      <td>16/03/2016 00:00</td>\n",
       "      <td>0</td>\n",
       "      <td>31789</td>\n",
       "      <td>17/03/2016 12:46</td>\n",
       "    </tr>\n",
       "    <tr>\n",
       "      <th>61875</th>\n",
       "      <td>14/03/2016 21:56</td>\n",
       "      <td>4750</td>\n",
       "      <td>bus</td>\n",
       "      <td>2002</td>\n",
       "      <td>auto</td>\n",
       "      <td>116</td>\n",
       "      <td>galaxy</td>\n",
       "      <td>150000</td>\n",
       "      <td>4</td>\n",
       "      <td>gasoline</td>\n",
       "      <td>ford</td>\n",
       "      <td>NaN</td>\n",
       "      <td>14/03/2016 00:00</td>\n",
       "      <td>0</td>\n",
       "      <td>70191</td>\n",
       "      <td>28/03/2016 13:17</td>\n",
       "    </tr>\n",
       "    <tr>\n",
       "      <th>64183</th>\n",
       "      <td>25/03/2016 14:44</td>\n",
       "      <td>400</td>\n",
       "      <td>wagon</td>\n",
       "      <td>1996</td>\n",
       "      <td>manual</td>\n",
       "      <td>140</td>\n",
       "      <td>v40</td>\n",
       "      <td>150000</td>\n",
       "      <td>10</td>\n",
       "      <td>NaN</td>\n",
       "      <td>volvo</td>\n",
       "      <td>yes</td>\n",
       "      <td>25/03/2016 00:00</td>\n",
       "      <td>0</td>\n",
       "      <td>92533</td>\n",
       "      <td>06/04/2016 17:17</td>\n",
       "    </tr>\n",
       "    <tr>\n",
       "      <th>229496</th>\n",
       "      <td>05/03/2016 17:57</td>\n",
       "      <td>5890</td>\n",
       "      <td>bus</td>\n",
       "      <td>2006</td>\n",
       "      <td>manual</td>\n",
       "      <td>150</td>\n",
       "      <td>zafira</td>\n",
       "      <td>150000</td>\n",
       "      <td>11</td>\n",
       "      <td>petrol</td>\n",
       "      <td>opel</td>\n",
       "      <td>no</td>\n",
       "      <td>05/03/2016 00:00</td>\n",
       "      <td>0</td>\n",
       "      <td>79232</td>\n",
       "      <td>22/03/2016 00:17</td>\n",
       "    </tr>\n",
       "    <tr>\n",
       "      <th>301580</th>\n",
       "      <td>22/03/2016 13:48</td>\n",
       "      <td>1150</td>\n",
       "      <td>small</td>\n",
       "      <td>2004</td>\n",
       "      <td>manual</td>\n",
       "      <td>84</td>\n",
       "      <td>corsa</td>\n",
       "      <td>150000</td>\n",
       "      <td>0</td>\n",
       "      <td>gasoline</td>\n",
       "      <td>opel</td>\n",
       "      <td>NaN</td>\n",
       "      <td>22/03/2016 00:00</td>\n",
       "      <td>0</td>\n",
       "      <td>59379</td>\n",
       "      <td>23/03/2016 21:18</td>\n",
       "    </tr>\n",
       "    <tr>\n",
       "      <th>248088</th>\n",
       "      <td>10/03/2016 17:46</td>\n",
       "      <td>1200</td>\n",
       "      <td>sedan</td>\n",
       "      <td>1997</td>\n",
       "      <td>manual</td>\n",
       "      <td>150</td>\n",
       "      <td>passat</td>\n",
       "      <td>150000</td>\n",
       "      <td>12</td>\n",
       "      <td>petrol</td>\n",
       "      <td>volkswagen</td>\n",
       "      <td>no</td>\n",
       "      <td>10/03/2016 00:00</td>\n",
       "      <td>0</td>\n",
       "      <td>24238</td>\n",
       "      <td>05/04/2016 19:18</td>\n",
       "    </tr>\n",
       "    <tr>\n",
       "      <th>148587</th>\n",
       "      <td>08/03/2016 21:47</td>\n",
       "      <td>3990</td>\n",
       "      <td>bus</td>\n",
       "      <td>2005</td>\n",
       "      <td>manual</td>\n",
       "      <td>109</td>\n",
       "      <td>c_max</td>\n",
       "      <td>150000</td>\n",
       "      <td>5</td>\n",
       "      <td>gasoline</td>\n",
       "      <td>ford</td>\n",
       "      <td>no</td>\n",
       "      <td>08/03/2016 00:00</td>\n",
       "      <td>0</td>\n",
       "      <td>32756</td>\n",
       "      <td>17/03/2016 08:44</td>\n",
       "    </tr>\n",
       "    <tr>\n",
       "      <th>241047</th>\n",
       "      <td>23/03/2016 21:47</td>\n",
       "      <td>13500</td>\n",
       "      <td>wagon</td>\n",
       "      <td>2011</td>\n",
       "      <td>manual</td>\n",
       "      <td>140</td>\n",
       "      <td>passat</td>\n",
       "      <td>60000</td>\n",
       "      <td>11</td>\n",
       "      <td>gasoline</td>\n",
       "      <td>volkswagen</td>\n",
       "      <td>no</td>\n",
       "      <td>23/03/2016 00:00</td>\n",
       "      <td>0</td>\n",
       "      <td>83539</td>\n",
       "      <td>06/04/2016 03:16</td>\n",
       "    </tr>\n",
       "  </tbody>\n",
       "</table>\n",
       "</div>"
      ],
      "text/plain": [
       "             DateCrawled  Price VehicleType  RegistrationYear Gearbox  Power  \\\n",
       "129269  18/03/2016 19:47   6800       small              2011    auto     71   \n",
       "23369   05/04/2016 02:36   2450       small              2006  manual     60   \n",
       "226076  16/03/2016 14:48   4899       small              2007  manual    125   \n",
       "61875   14/03/2016 21:56   4750         bus              2002    auto    116   \n",
       "64183   25/03/2016 14:44    400       wagon              1996  manual    140   \n",
       "229496  05/03/2016 17:57   5890         bus              2006  manual    150   \n",
       "301580  22/03/2016 13:48   1150       small              2004  manual     84   \n",
       "248088  10/03/2016 17:46   1200       sedan              1997  manual    150   \n",
       "148587  08/03/2016 21:47   3990         bus              2005  manual    109   \n",
       "241047  23/03/2016 21:47  13500       wagon              2011  manual    140   \n",
       "\n",
       "         Model  Mileage  RegistrationMonth  FuelType       Brand NotRepaired  \\\n",
       "129269  fortwo    50000                  2    petrol       smart          no   \n",
       "23369    corsa    80000                  4    petrol        opel          no   \n",
       "226076   corsa   150000                  9  gasoline        opel          no   \n",
       "61875   galaxy   150000                  4  gasoline        ford         NaN   \n",
       "64183      v40   150000                 10       NaN       volvo         yes   \n",
       "229496  zafira   150000                 11    petrol        opel          no   \n",
       "301580   corsa   150000                  0  gasoline        opel         NaN   \n",
       "248088  passat   150000                 12    petrol  volkswagen          no   \n",
       "148587   c_max   150000                  5  gasoline        ford          no   \n",
       "241047  passat    60000                 11  gasoline  volkswagen          no   \n",
       "\n",
       "             DateCreated  NumberOfPictures  PostalCode          LastSeen  \n",
       "129269  18/03/2016 00:00                 0       84100  05/04/2016 22:47  \n",
       "23369   05/04/2016 00:00                 0       53797  05/04/2016 08:39  \n",
       "226076  16/03/2016 00:00                 0       31789  17/03/2016 12:46  \n",
       "61875   14/03/2016 00:00                 0       70191  28/03/2016 13:17  \n",
       "64183   25/03/2016 00:00                 0       92533  06/04/2016 17:17  \n",
       "229496  05/03/2016 00:00                 0       79232  22/03/2016 00:17  \n",
       "301580  22/03/2016 00:00                 0       59379  23/03/2016 21:18  \n",
       "248088  10/03/2016 00:00                 0       24238  05/04/2016 19:18  \n",
       "148587  08/03/2016 00:00                 0       32756  17/03/2016 08:44  \n",
       "241047  23/03/2016 00:00                 0       83539  06/04/2016 03:16  "
      ]
     },
     "execution_count": 3,
     "metadata": {},
     "output_type": "execute_result"
    }
   ],
   "source": [
    "# visualizando os dados\n",
    "df.sample(10)"
   ]
  },
  {
   "cell_type": "code",
   "execution_count": 4,
   "metadata": {
    "scrolled": false
   },
   "outputs": [
    {
     "name": "stdout",
     "output_type": "stream",
     "text": [
      "<class 'pandas.core.frame.DataFrame'>\n",
      "RangeIndex: 354369 entries, 0 to 354368\n",
      "Data columns (total 16 columns):\n",
      " #   Column             Non-Null Count   Dtype \n",
      "---  ------             --------------   ----- \n",
      " 0   DateCrawled        354369 non-null  object\n",
      " 1   Price              354369 non-null  int64 \n",
      " 2   VehicleType        316879 non-null  object\n",
      " 3   RegistrationYear   354369 non-null  int64 \n",
      " 4   Gearbox            334536 non-null  object\n",
      " 5   Power              354369 non-null  int64 \n",
      " 6   Model              334664 non-null  object\n",
      " 7   Mileage            354369 non-null  int64 \n",
      " 8   RegistrationMonth  354369 non-null  int64 \n",
      " 9   FuelType           321474 non-null  object\n",
      " 10  Brand              354369 non-null  object\n",
      " 11  NotRepaired        283215 non-null  object\n",
      " 12  DateCreated        354369 non-null  object\n",
      " 13  NumberOfPictures   354369 non-null  int64 \n",
      " 14  PostalCode         354369 non-null  int64 \n",
      " 15  LastSeen           354369 non-null  object\n",
      "dtypes: int64(7), object(9)\n",
      "memory usage: 43.3+ MB\n"
     ]
    }
   ],
   "source": [
    "# visualizando os tipos de dados\n",
    "df.info()"
   ]
  },
  {
   "cell_type": "code",
   "execution_count": 5,
   "metadata": {
    "scrolled": false
   },
   "outputs": [
    {
     "data": {
      "text/plain": [
       "DateCrawled              0\n",
       "Price                    0\n",
       "VehicleType          37490\n",
       "RegistrationYear         0\n",
       "Gearbox              19833\n",
       "Power                    0\n",
       "Model                19705\n",
       "Mileage                  0\n",
       "RegistrationMonth        0\n",
       "FuelType             32895\n",
       "Brand                    0\n",
       "NotRepaired          71154\n",
       "DateCreated              0\n",
       "NumberOfPictures         0\n",
       "PostalCode               0\n",
       "LastSeen                 0\n",
       "dtype: int64"
      ]
     },
     "execution_count": 5,
     "metadata": {},
     "output_type": "execute_result"
    }
   ],
   "source": [
    "# contando valores nulos\n",
    "df.isna().sum()"
   ]
  },
  {
   "cell_type": "code",
   "execution_count": 6,
   "metadata": {},
   "outputs": [
    {
     "name": "stdout",
     "output_type": "stream",
     "text": [
      "sedan          91457\n",
      "small          79831\n",
      "wagon          65166\n",
      "bus            28775\n",
      "convertible    20203\n",
      "coupe          16163\n",
      "suv            11996\n",
      "other           3288\n",
      "Name: VehicleType, dtype: int64\n",
      "\n",
      "manual    268251\n",
      "auto       66285\n",
      "Name: Gearbox, dtype: int64\n",
      "\n",
      "golf                  29232\n",
      "other                 24421\n",
      "3er                   19761\n",
      "polo                  13066\n",
      "corsa                 12570\n",
      "                      ...  \n",
      "i3                        8\n",
      "serie_3                   4\n",
      "rangerover                4\n",
      "serie_1                   2\n",
      "range_rover_evoque        2\n",
      "Name: Model, Length: 250, dtype: int64\n",
      "\n",
      "petrol      216352\n",
      "gasoline     98720\n",
      "lpg           5310\n",
      "cng            565\n",
      "hybrid         233\n",
      "other          204\n",
      "electric        90\n",
      "Name: FuelType, dtype: int64\n",
      "\n",
      "no     247161\n",
      "yes     36054\n",
      "Name: NotRepaired, dtype: int64\n",
      "\n",
      "volkswagen        77013\n",
      "opel              39931\n",
      "bmw               36914\n",
      "mercedes_benz     32046\n",
      "audi              29456\n",
      "ford              25179\n",
      "renault           17927\n",
      "peugeot           10998\n",
      "fiat               9643\n",
      "seat               6907\n",
      "mazda              5615\n",
      "skoda              5500\n",
      "smart              5246\n",
      "citroen            5148\n",
      "nissan             4941\n",
      "toyota             4606\n",
      "hyundai            3587\n",
      "sonstige_autos     3374\n",
      "volvo              3210\n",
      "mini               3202\n",
      "mitsubishi         3022\n",
      "honda              2817\n",
      "kia                2465\n",
      "suzuki             2323\n",
      "alfa_romeo         2314\n",
      "chevrolet          1754\n",
      "chrysler           1439\n",
      "dacia               900\n",
      "daihatsu            806\n",
      "subaru              762\n",
      "porsche             758\n",
      "jeep                677\n",
      "trabant             589\n",
      "land_rover          545\n",
      "daewoo              542\n",
      "saab                526\n",
      "jaguar              505\n",
      "rover               486\n",
      "lancia              471\n",
      "lada                225\n",
      "Name: Brand, dtype: int64\n"
     ]
    }
   ],
   "source": [
    "# contando valores em alguns campos\n",
    "print(df[\"VehicleType\"].value_counts())\n",
    "print()\n",
    "print(df[\"Gearbox\"].value_counts())\n",
    "print()\n",
    "print(df[\"Model\"].value_counts())\n",
    "print()\n",
    "print(df[\"FuelType\"].value_counts())\n",
    "print()\n",
    "print(df[\"NotRepaired\"].value_counts())\n",
    "print()\n",
    "print(df[\"Brand\"].value_counts())"
   ]
  },
  {
   "cell_type": "markdown",
   "metadata": {},
   "source": [
    "## Conclusions\n",
    "- We need to convert column headers to lowercase.\n",
    "- We need to convert data types:\n",
    "  - `DateCrawled`, `DateCreated`, and `LastSeen` should be of type `datetime`.\n",
    "- We identified and need to handle missing values in the following columns:\n",
    "  - `VehicleType`\n",
    "  - `Gearbox`\n",
    "  - `Model`\n",
    "  - `FuelType`\n",
    "  - `NotRepaired`\n",
    "- We need to encode certain categorical fields using One-Hot Encoding (OHE):\n",
    "  - `Gearbox`\n",
    "  - `NotRepaired`\n",
    "  - `FuelType`\n",
    "  - `VehicleType`\n",
    "- We need to encode some categorical fields using label encoding:\n",
    "  - `Model`\n",
    "  - `Brand`\n",
    "- We need to scale the data, as the features vary significantly in magnitude.\n",
    "- Since we need to predict the price, this is a regression problem, so we will use Decision Tree, Random Forest, and Linear Regression as models.\n",
    "- We will use gradient descent to minimize the MSE loss function and apply gradient boosting. We will implement regularization by adjusting tree depth and the number of elements in each node to reduce overfitting in gradient boosting.\n"
   ]
  },
  {
   "cell_type": "code",
   "execution_count": 7,
   "metadata": {},
   "outputs": [
    {
     "name": "stdout",
     "output_type": "stream",
     "text": [
      "<class 'pandas.core.frame.DataFrame'>\n",
      "RangeIndex: 354369 entries, 0 to 354368\n",
      "Data columns (total 16 columns):\n",
      " #   Column             Non-Null Count   Dtype \n",
      "---  ------             --------------   ----- \n",
      " 0   datecrawled        354369 non-null  object\n",
      " 1   price              354369 non-null  int64 \n",
      " 2   vehicletype        316879 non-null  object\n",
      " 3   registrationyear   354369 non-null  int64 \n",
      " 4   gearbox            334536 non-null  object\n",
      " 5   power              354369 non-null  int64 \n",
      " 6   model              334664 non-null  object\n",
      " 7   mileage            354369 non-null  int64 \n",
      " 8   registrationmonth  354369 non-null  int64 \n",
      " 9   fueltype           321474 non-null  object\n",
      " 10  brand              354369 non-null  object\n",
      " 11  notrepaired        283215 non-null  object\n",
      " 12  datecreated        354369 non-null  object\n",
      " 13  numberofpictures   354369 non-null  int64 \n",
      " 14  postalcode         354369 non-null  int64 \n",
      " 15  lastseen           354369 non-null  object\n",
      "dtypes: int64(7), object(9)\n",
      "memory usage: 43.3+ MB\n"
     ]
    }
   ],
   "source": [
    "# colocando headers em minúsculas\n",
    "df.columns = df.columns.str.lower()\n",
    "df.info()"
   ]
  },
  {
   "cell_type": "code",
   "execution_count": 8,
   "metadata": {
    "scrolled": false
   },
   "outputs": [
    {
     "data": {
      "text/html": [
       "<div>\n",
       "<style scoped>\n",
       "    .dataframe tbody tr th:only-of-type {\n",
       "        vertical-align: middle;\n",
       "    }\n",
       "\n",
       "    .dataframe tbody tr th {\n",
       "        vertical-align: top;\n",
       "    }\n",
       "\n",
       "    .dataframe thead th {\n",
       "        text-align: right;\n",
       "    }\n",
       "</style>\n",
       "<table border=\"1\" class=\"dataframe\">\n",
       "  <thead>\n",
       "    <tr style=\"text-align: right;\">\n",
       "      <th></th>\n",
       "      <th>datecrawled</th>\n",
       "      <th>vehicletype</th>\n",
       "      <th>registrationyear</th>\n",
       "      <th>gearbox</th>\n",
       "      <th>power</th>\n",
       "      <th>model</th>\n",
       "      <th>mileage</th>\n",
       "      <th>registrationmonth</th>\n",
       "      <th>fueltype</th>\n",
       "      <th>brand</th>\n",
       "      <th>notrepaired</th>\n",
       "      <th>datecreated</th>\n",
       "      <th>numberofpictures</th>\n",
       "      <th>postalcode</th>\n",
       "      <th>lastseen</th>\n",
       "    </tr>\n",
       "  </thead>\n",
       "  <tbody>\n",
       "    <tr>\n",
       "      <th>0</th>\n",
       "      <td>24/03/2016 11:52</td>\n",
       "      <td>NaN</td>\n",
       "      <td>1993</td>\n",
       "      <td>manual</td>\n",
       "      <td>0</td>\n",
       "      <td>golf</td>\n",
       "      <td>150000</td>\n",
       "      <td>0</td>\n",
       "      <td>petrol</td>\n",
       "      <td>volkswagen</td>\n",
       "      <td>NaN</td>\n",
       "      <td>24/03/2016 00:00</td>\n",
       "      <td>0</td>\n",
       "      <td>70435</td>\n",
       "      <td>07/04/2016 03:16</td>\n",
       "    </tr>\n",
       "    <tr>\n",
       "      <th>1</th>\n",
       "      <td>24/03/2016 10:58</td>\n",
       "      <td>coupe</td>\n",
       "      <td>2011</td>\n",
       "      <td>manual</td>\n",
       "      <td>190</td>\n",
       "      <td>NaN</td>\n",
       "      <td>125000</td>\n",
       "      <td>5</td>\n",
       "      <td>gasoline</td>\n",
       "      <td>audi</td>\n",
       "      <td>yes</td>\n",
       "      <td>24/03/2016 00:00</td>\n",
       "      <td>0</td>\n",
       "      <td>66954</td>\n",
       "      <td>07/04/2016 01:46</td>\n",
       "    </tr>\n",
       "    <tr>\n",
       "      <th>2</th>\n",
       "      <td>14/03/2016 12:52</td>\n",
       "      <td>suv</td>\n",
       "      <td>2004</td>\n",
       "      <td>auto</td>\n",
       "      <td>163</td>\n",
       "      <td>grand</td>\n",
       "      <td>125000</td>\n",
       "      <td>8</td>\n",
       "      <td>gasoline</td>\n",
       "      <td>jeep</td>\n",
       "      <td>NaN</td>\n",
       "      <td>14/03/2016 00:00</td>\n",
       "      <td>0</td>\n",
       "      <td>90480</td>\n",
       "      <td>05/04/2016 12:47</td>\n",
       "    </tr>\n",
       "    <tr>\n",
       "      <th>3</th>\n",
       "      <td>17/03/2016 16:54</td>\n",
       "      <td>small</td>\n",
       "      <td>2001</td>\n",
       "      <td>manual</td>\n",
       "      <td>75</td>\n",
       "      <td>golf</td>\n",
       "      <td>150000</td>\n",
       "      <td>6</td>\n",
       "      <td>petrol</td>\n",
       "      <td>volkswagen</td>\n",
       "      <td>no</td>\n",
       "      <td>17/03/2016 00:00</td>\n",
       "      <td>0</td>\n",
       "      <td>91074</td>\n",
       "      <td>17/03/2016 17:40</td>\n",
       "    </tr>\n",
       "    <tr>\n",
       "      <th>4</th>\n",
       "      <td>31/03/2016 17:25</td>\n",
       "      <td>small</td>\n",
       "      <td>2008</td>\n",
       "      <td>manual</td>\n",
       "      <td>69</td>\n",
       "      <td>fabia</td>\n",
       "      <td>90000</td>\n",
       "      <td>7</td>\n",
       "      <td>gasoline</td>\n",
       "      <td>skoda</td>\n",
       "      <td>no</td>\n",
       "      <td>31/03/2016 00:00</td>\n",
       "      <td>0</td>\n",
       "      <td>60437</td>\n",
       "      <td>06/04/2016 10:17</td>\n",
       "    </tr>\n",
       "    <tr>\n",
       "      <th>5</th>\n",
       "      <td>04/04/2016 17:36</td>\n",
       "      <td>sedan</td>\n",
       "      <td>1995</td>\n",
       "      <td>manual</td>\n",
       "      <td>102</td>\n",
       "      <td>3er</td>\n",
       "      <td>150000</td>\n",
       "      <td>10</td>\n",
       "      <td>petrol</td>\n",
       "      <td>bmw</td>\n",
       "      <td>yes</td>\n",
       "      <td>04/04/2016 00:00</td>\n",
       "      <td>0</td>\n",
       "      <td>33775</td>\n",
       "      <td>06/04/2016 19:17</td>\n",
       "    </tr>\n",
       "    <tr>\n",
       "      <th>6</th>\n",
       "      <td>01/04/2016 20:48</td>\n",
       "      <td>convertible</td>\n",
       "      <td>2004</td>\n",
       "      <td>manual</td>\n",
       "      <td>109</td>\n",
       "      <td>2_reihe</td>\n",
       "      <td>150000</td>\n",
       "      <td>8</td>\n",
       "      <td>petrol</td>\n",
       "      <td>peugeot</td>\n",
       "      <td>no</td>\n",
       "      <td>01/04/2016 00:00</td>\n",
       "      <td>0</td>\n",
       "      <td>67112</td>\n",
       "      <td>05/04/2016 18:18</td>\n",
       "    </tr>\n",
       "    <tr>\n",
       "      <th>7</th>\n",
       "      <td>21/03/2016 18:54</td>\n",
       "      <td>sedan</td>\n",
       "      <td>1980</td>\n",
       "      <td>manual</td>\n",
       "      <td>50</td>\n",
       "      <td>other</td>\n",
       "      <td>40000</td>\n",
       "      <td>7</td>\n",
       "      <td>petrol</td>\n",
       "      <td>volkswagen</td>\n",
       "      <td>no</td>\n",
       "      <td>21/03/2016 00:00</td>\n",
       "      <td>0</td>\n",
       "      <td>19348</td>\n",
       "      <td>25/03/2016 16:47</td>\n",
       "    </tr>\n",
       "    <tr>\n",
       "      <th>8</th>\n",
       "      <td>04/04/2016 23:42</td>\n",
       "      <td>bus</td>\n",
       "      <td>2014</td>\n",
       "      <td>manual</td>\n",
       "      <td>125</td>\n",
       "      <td>c_max</td>\n",
       "      <td>30000</td>\n",
       "      <td>8</td>\n",
       "      <td>petrol</td>\n",
       "      <td>ford</td>\n",
       "      <td>NaN</td>\n",
       "      <td>04/04/2016 00:00</td>\n",
       "      <td>0</td>\n",
       "      <td>94505</td>\n",
       "      <td>04/04/2016 23:42</td>\n",
       "    </tr>\n",
       "    <tr>\n",
       "      <th>9</th>\n",
       "      <td>17/03/2016 10:53</td>\n",
       "      <td>small</td>\n",
       "      <td>1998</td>\n",
       "      <td>manual</td>\n",
       "      <td>101</td>\n",
       "      <td>golf</td>\n",
       "      <td>150000</td>\n",
       "      <td>0</td>\n",
       "      <td>NaN</td>\n",
       "      <td>volkswagen</td>\n",
       "      <td>NaN</td>\n",
       "      <td>17/03/2016 00:00</td>\n",
       "      <td>0</td>\n",
       "      <td>27472</td>\n",
       "      <td>31/03/2016 17:17</td>\n",
       "    </tr>\n",
       "  </tbody>\n",
       "</table>\n",
       "</div>"
      ],
      "text/plain": [
       "        datecrawled  vehicletype  registrationyear gearbox  power    model  \\\n",
       "0  24/03/2016 11:52          NaN              1993  manual      0     golf   \n",
       "1  24/03/2016 10:58        coupe              2011  manual    190      NaN   \n",
       "2  14/03/2016 12:52          suv              2004    auto    163    grand   \n",
       "3  17/03/2016 16:54        small              2001  manual     75     golf   \n",
       "4  31/03/2016 17:25        small              2008  manual     69    fabia   \n",
       "5  04/04/2016 17:36        sedan              1995  manual    102      3er   \n",
       "6  01/04/2016 20:48  convertible              2004  manual    109  2_reihe   \n",
       "7  21/03/2016 18:54        sedan              1980  manual     50    other   \n",
       "8  04/04/2016 23:42          bus              2014  manual    125    c_max   \n",
       "9  17/03/2016 10:53        small              1998  manual    101     golf   \n",
       "\n",
       "   mileage  registrationmonth  fueltype       brand notrepaired  \\\n",
       "0   150000                  0    petrol  volkswagen         NaN   \n",
       "1   125000                  5  gasoline        audi         yes   \n",
       "2   125000                  8  gasoline        jeep         NaN   \n",
       "3   150000                  6    petrol  volkswagen          no   \n",
       "4    90000                  7  gasoline       skoda          no   \n",
       "5   150000                 10    petrol         bmw         yes   \n",
       "6   150000                  8    petrol     peugeot          no   \n",
       "7    40000                  7    petrol  volkswagen          no   \n",
       "8    30000                  8    petrol        ford         NaN   \n",
       "9   150000                  0       NaN  volkswagen         NaN   \n",
       "\n",
       "        datecreated  numberofpictures  postalcode          lastseen  \n",
       "0  24/03/2016 00:00                 0       70435  07/04/2016 03:16  \n",
       "1  24/03/2016 00:00                 0       66954  07/04/2016 01:46  \n",
       "2  14/03/2016 00:00                 0       90480  05/04/2016 12:47  \n",
       "3  17/03/2016 00:00                 0       91074  17/03/2016 17:40  \n",
       "4  31/03/2016 00:00                 0       60437  06/04/2016 10:17  \n",
       "5  04/04/2016 00:00                 0       33775  06/04/2016 19:17  \n",
       "6  01/04/2016 00:00                 0       67112  05/04/2016 18:18  \n",
       "7  21/03/2016 00:00                 0       19348  25/03/2016 16:47  \n",
       "8  04/04/2016 00:00                 0       94505  04/04/2016 23:42  \n",
       "9  17/03/2016 00:00                 0       27472  31/03/2016 17:17  "
      ]
     },
     "execution_count": 8,
     "metadata": {},
     "output_type": "execute_result"
    }
   ],
   "source": [
    "# Separando os dados em features e target, removendo campos não codificados e datas pois elas não deveriam impactar os modelos\n",
    "features = df.drop(columns=['price'])\n",
    "target = df[\"price\"]\n",
    "features.head(10)"
   ]
  },
  {
   "cell_type": "code",
   "execution_count": 9,
   "metadata": {
    "scrolled": false
   },
   "outputs": [
    {
     "name": "stdout",
     "output_type": "stream",
     "text": [
      "<class 'pandas.core.frame.DataFrame'>\n",
      "RangeIndex: 354369 entries, 0 to 354368\n",
      "Data columns (total 15 columns):\n",
      " #   Column             Non-Null Count   Dtype         \n",
      "---  ------             --------------   -----         \n",
      " 0   datecrawled        354369 non-null  datetime64[ns]\n",
      " 1   vehicletype        316879 non-null  object        \n",
      " 2   registrationyear   354369 non-null  int64         \n",
      " 3   gearbox            334536 non-null  object        \n",
      " 4   power              354369 non-null  int64         \n",
      " 5   model              334664 non-null  object        \n",
      " 6   mileage            354369 non-null  int64         \n",
      " 7   registrationmonth  354369 non-null  int64         \n",
      " 8   fueltype           321474 non-null  object        \n",
      " 9   brand              354369 non-null  object        \n",
      " 10  notrepaired        283215 non-null  object        \n",
      " 11  datecreated        354369 non-null  datetime64[ns]\n",
      " 12  numberofpictures   354369 non-null  int64         \n",
      " 13  postalcode         354369 non-null  int64         \n",
      " 14  lastseen           354369 non-null  datetime64[ns]\n",
      "dtypes: datetime64[ns](3), int64(6), object(6)\n",
      "memory usage: 40.6+ MB\n"
     ]
    }
   ],
   "source": [
    "# convertendo tipo de dados para datetime\n",
    "features['datecrawled'] = pd.to_datetime(features['datecrawled'],format='%d/%m/%Y %H:%M')\n",
    "features['datecreated'] = pd.to_datetime(features['datecreated'],format='%d/%m/%Y %H:%M')\n",
    "features['lastseen'] = pd.to_datetime(features['lastseen'],format='%d/%m/%Y %H:%M')\n",
    "features.info()"
   ]
  },
  {
   "cell_type": "code",
   "execution_count": 10,
   "metadata": {
    "scrolled": true
   },
   "outputs": [
    {
     "data": {
      "text/html": [
       "<div>\n",
       "<style scoped>\n",
       "    .dataframe tbody tr th:only-of-type {\n",
       "        vertical-align: middle;\n",
       "    }\n",
       "\n",
       "    .dataframe tbody tr th {\n",
       "        vertical-align: top;\n",
       "    }\n",
       "\n",
       "    .dataframe thead th {\n",
       "        text-align: right;\n",
       "    }\n",
       "</style>\n",
       "<table border=\"1\" class=\"dataframe\">\n",
       "  <thead>\n",
       "    <tr style=\"text-align: right;\">\n",
       "      <th></th>\n",
       "      <th>datecrawled</th>\n",
       "      <th>vehicletype</th>\n",
       "      <th>registrationyear</th>\n",
       "      <th>gearbox</th>\n",
       "      <th>power</th>\n",
       "      <th>model</th>\n",
       "      <th>mileage</th>\n",
       "      <th>registrationmonth</th>\n",
       "      <th>fueltype</th>\n",
       "      <th>brand</th>\n",
       "      <th>notrepaired</th>\n",
       "      <th>datecreated</th>\n",
       "      <th>numberofpictures</th>\n",
       "      <th>postalcode</th>\n",
       "      <th>lastseen</th>\n",
       "    </tr>\n",
       "  </thead>\n",
       "  <tbody>\n",
       "    <tr>\n",
       "      <th>0</th>\n",
       "      <td>2016-03-24 11:52:00</td>\n",
       "      <td>unknown</td>\n",
       "      <td>1993</td>\n",
       "      <td>manual</td>\n",
       "      <td>0</td>\n",
       "      <td>golf</td>\n",
       "      <td>150000</td>\n",
       "      <td>0</td>\n",
       "      <td>petrol</td>\n",
       "      <td>volkswagen</td>\n",
       "      <td>unknown</td>\n",
       "      <td>2016-03-24</td>\n",
       "      <td>0</td>\n",
       "      <td>70435</td>\n",
       "      <td>2016-04-07 03:16:00</td>\n",
       "    </tr>\n",
       "    <tr>\n",
       "      <th>1</th>\n",
       "      <td>2016-03-24 10:58:00</td>\n",
       "      <td>coupe</td>\n",
       "      <td>2011</td>\n",
       "      <td>manual</td>\n",
       "      <td>190</td>\n",
       "      <td>unknown</td>\n",
       "      <td>125000</td>\n",
       "      <td>5</td>\n",
       "      <td>gasoline</td>\n",
       "      <td>audi</td>\n",
       "      <td>yes</td>\n",
       "      <td>2016-03-24</td>\n",
       "      <td>0</td>\n",
       "      <td>66954</td>\n",
       "      <td>2016-04-07 01:46:00</td>\n",
       "    </tr>\n",
       "    <tr>\n",
       "      <th>2</th>\n",
       "      <td>2016-03-14 12:52:00</td>\n",
       "      <td>suv</td>\n",
       "      <td>2004</td>\n",
       "      <td>auto</td>\n",
       "      <td>163</td>\n",
       "      <td>grand</td>\n",
       "      <td>125000</td>\n",
       "      <td>8</td>\n",
       "      <td>gasoline</td>\n",
       "      <td>jeep</td>\n",
       "      <td>unknown</td>\n",
       "      <td>2016-03-14</td>\n",
       "      <td>0</td>\n",
       "      <td>90480</td>\n",
       "      <td>2016-04-05 12:47:00</td>\n",
       "    </tr>\n",
       "    <tr>\n",
       "      <th>3</th>\n",
       "      <td>2016-03-17 16:54:00</td>\n",
       "      <td>small</td>\n",
       "      <td>2001</td>\n",
       "      <td>manual</td>\n",
       "      <td>75</td>\n",
       "      <td>golf</td>\n",
       "      <td>150000</td>\n",
       "      <td>6</td>\n",
       "      <td>petrol</td>\n",
       "      <td>volkswagen</td>\n",
       "      <td>no</td>\n",
       "      <td>2016-03-17</td>\n",
       "      <td>0</td>\n",
       "      <td>91074</td>\n",
       "      <td>2016-03-17 17:40:00</td>\n",
       "    </tr>\n",
       "    <tr>\n",
       "      <th>4</th>\n",
       "      <td>2016-03-31 17:25:00</td>\n",
       "      <td>small</td>\n",
       "      <td>2008</td>\n",
       "      <td>manual</td>\n",
       "      <td>69</td>\n",
       "      <td>fabia</td>\n",
       "      <td>90000</td>\n",
       "      <td>7</td>\n",
       "      <td>gasoline</td>\n",
       "      <td>skoda</td>\n",
       "      <td>no</td>\n",
       "      <td>2016-03-31</td>\n",
       "      <td>0</td>\n",
       "      <td>60437</td>\n",
       "      <td>2016-04-06 10:17:00</td>\n",
       "    </tr>\n",
       "  </tbody>\n",
       "</table>\n",
       "</div>"
      ],
      "text/plain": [
       "          datecrawled vehicletype  registrationyear gearbox  power    model  \\\n",
       "0 2016-03-24 11:52:00     unknown              1993  manual      0     golf   \n",
       "1 2016-03-24 10:58:00       coupe              2011  manual    190  unknown   \n",
       "2 2016-03-14 12:52:00         suv              2004    auto    163    grand   \n",
       "3 2016-03-17 16:54:00       small              2001  manual     75     golf   \n",
       "4 2016-03-31 17:25:00       small              2008  manual     69    fabia   \n",
       "\n",
       "   mileage  registrationmonth  fueltype       brand notrepaired datecreated  \\\n",
       "0   150000                  0    petrol  volkswagen     unknown  2016-03-24   \n",
       "1   125000                  5  gasoline        audi         yes  2016-03-24   \n",
       "2   125000                  8  gasoline        jeep     unknown  2016-03-14   \n",
       "3   150000                  6    petrol  volkswagen          no  2016-03-17   \n",
       "4    90000                  7  gasoline       skoda          no  2016-03-31   \n",
       "\n",
       "   numberofpictures  postalcode            lastseen  \n",
       "0                 0       70435 2016-04-07 03:16:00  \n",
       "1                 0       66954 2016-04-07 01:46:00  \n",
       "2                 0       90480 2016-04-05 12:47:00  \n",
       "3                 0       91074 2016-03-17 17:40:00  \n",
       "4                 0       60437 2016-04-06 10:17:00  "
      ]
     },
     "execution_count": 10,
     "metadata": {},
     "output_type": "execute_result"
    }
   ],
   "source": [
    "# tratando valores vazios para poder rodar o label encoder, já que ele não lida bem com NaN\n",
    "\n",
    "features['vehicletype'] = features[\"vehicletype\"].fillna('unknown')\n",
    "features['gearbox'] = features[\"gearbox\"].fillna('unknown')\n",
    "features['model'] = features[\"model\"].fillna('unknown')\n",
    "features['fueltype'] = features[\"fueltype\"].fillna('unknown')\n",
    "features['notrepaired'] = features[\"notrepaired\"].fillna('unknown')\n",
    "features.head()"
   ]
  },
  {
   "cell_type": "code",
   "execution_count": 11,
   "metadata": {},
   "outputs": [
    {
     "name": "stdout",
     "output_type": "stream",
     "text": [
      "<class 'pandas.core.frame.DataFrame'>\n",
      "RangeIndex: 354369 entries, 0 to 354368\n",
      "Data columns (total 16 columns):\n",
      " #   Column             Non-Null Count   Dtype \n",
      "---  ------             --------------   ----- \n",
      " 0   datecrawled        354369 non-null  object\n",
      " 1   price              354369 non-null  int64 \n",
      " 2   vehicletype        316879 non-null  object\n",
      " 3   registrationyear   354369 non-null  int64 \n",
      " 4   gearbox            334536 non-null  object\n",
      " 5   power              354369 non-null  int64 \n",
      " 6   model              334664 non-null  object\n",
      " 7   mileage            354369 non-null  int64 \n",
      " 8   registrationmonth  354369 non-null  int64 \n",
      " 9   fueltype           321474 non-null  object\n",
      " 10  brand              354369 non-null  object\n",
      " 11  notrepaired        283215 non-null  object\n",
      " 12  datecreated        354369 non-null  object\n",
      " 13  numberofpictures   354369 non-null  int64 \n",
      " 14  postalcode         354369 non-null  int64 \n",
      " 15  lastseen           354369 non-null  object\n",
      "dtypes: int64(7), object(9)\n",
      "memory usage: 43.3+ MB\n"
     ]
    },
    {
     "data": {
      "text/html": [
       "<div>\n",
       "<style scoped>\n",
       "    .dataframe tbody tr th:only-of-type {\n",
       "        vertical-align: middle;\n",
       "    }\n",
       "\n",
       "    .dataframe tbody tr th {\n",
       "        vertical-align: top;\n",
       "    }\n",
       "\n",
       "    .dataframe thead th {\n",
       "        text-align: right;\n",
       "    }\n",
       "</style>\n",
       "<table border=\"1\" class=\"dataframe\">\n",
       "  <thead>\n",
       "    <tr style=\"text-align: right;\">\n",
       "      <th></th>\n",
       "      <th>datecrawled</th>\n",
       "      <th>price</th>\n",
       "      <th>vehicletype</th>\n",
       "      <th>registrationyear</th>\n",
       "      <th>gearbox</th>\n",
       "      <th>power</th>\n",
       "      <th>model</th>\n",
       "      <th>mileage</th>\n",
       "      <th>registrationmonth</th>\n",
       "      <th>fueltype</th>\n",
       "      <th>brand</th>\n",
       "      <th>notrepaired</th>\n",
       "      <th>datecreated</th>\n",
       "      <th>numberofpictures</th>\n",
       "      <th>postalcode</th>\n",
       "      <th>lastseen</th>\n",
       "    </tr>\n",
       "  </thead>\n",
       "  <tbody>\n",
       "    <tr>\n",
       "      <th>0</th>\n",
       "      <td>24/03/2016 11:52</td>\n",
       "      <td>480</td>\n",
       "      <td>NaN</td>\n",
       "      <td>1993</td>\n",
       "      <td>manual</td>\n",
       "      <td>0</td>\n",
       "      <td>golf</td>\n",
       "      <td>150000</td>\n",
       "      <td>0</td>\n",
       "      <td>petrol</td>\n",
       "      <td>volkswagen</td>\n",
       "      <td>NaN</td>\n",
       "      <td>24/03/2016 00:00</td>\n",
       "      <td>0</td>\n",
       "      <td>70435</td>\n",
       "      <td>07/04/2016 03:16</td>\n",
       "    </tr>\n",
       "    <tr>\n",
       "      <th>1</th>\n",
       "      <td>24/03/2016 10:58</td>\n",
       "      <td>18300</td>\n",
       "      <td>coupe</td>\n",
       "      <td>2011</td>\n",
       "      <td>manual</td>\n",
       "      <td>190</td>\n",
       "      <td>NaN</td>\n",
       "      <td>125000</td>\n",
       "      <td>5</td>\n",
       "      <td>gasoline</td>\n",
       "      <td>audi</td>\n",
       "      <td>yes</td>\n",
       "      <td>24/03/2016 00:00</td>\n",
       "      <td>0</td>\n",
       "      <td>66954</td>\n",
       "      <td>07/04/2016 01:46</td>\n",
       "    </tr>\n",
       "    <tr>\n",
       "      <th>2</th>\n",
       "      <td>14/03/2016 12:52</td>\n",
       "      <td>9800</td>\n",
       "      <td>suv</td>\n",
       "      <td>2004</td>\n",
       "      <td>auto</td>\n",
       "      <td>163</td>\n",
       "      <td>grand</td>\n",
       "      <td>125000</td>\n",
       "      <td>8</td>\n",
       "      <td>gasoline</td>\n",
       "      <td>jeep</td>\n",
       "      <td>NaN</td>\n",
       "      <td>14/03/2016 00:00</td>\n",
       "      <td>0</td>\n",
       "      <td>90480</td>\n",
       "      <td>05/04/2016 12:47</td>\n",
       "    </tr>\n",
       "    <tr>\n",
       "      <th>3</th>\n",
       "      <td>17/03/2016 16:54</td>\n",
       "      <td>1500</td>\n",
       "      <td>small</td>\n",
       "      <td>2001</td>\n",
       "      <td>manual</td>\n",
       "      <td>75</td>\n",
       "      <td>golf</td>\n",
       "      <td>150000</td>\n",
       "      <td>6</td>\n",
       "      <td>petrol</td>\n",
       "      <td>volkswagen</td>\n",
       "      <td>no</td>\n",
       "      <td>17/03/2016 00:00</td>\n",
       "      <td>0</td>\n",
       "      <td>91074</td>\n",
       "      <td>17/03/2016 17:40</td>\n",
       "    </tr>\n",
       "    <tr>\n",
       "      <th>4</th>\n",
       "      <td>31/03/2016 17:25</td>\n",
       "      <td>3600</td>\n",
       "      <td>small</td>\n",
       "      <td>2008</td>\n",
       "      <td>manual</td>\n",
       "      <td>69</td>\n",
       "      <td>fabia</td>\n",
       "      <td>90000</td>\n",
       "      <td>7</td>\n",
       "      <td>gasoline</td>\n",
       "      <td>skoda</td>\n",
       "      <td>no</td>\n",
       "      <td>31/03/2016 00:00</td>\n",
       "      <td>0</td>\n",
       "      <td>60437</td>\n",
       "      <td>06/04/2016 10:17</td>\n",
       "    </tr>\n",
       "  </tbody>\n",
       "</table>\n",
       "</div>"
      ],
      "text/plain": [
       "        datecrawled  price vehicletype  registrationyear gearbox  power  \\\n",
       "0  24/03/2016 11:52    480         NaN              1993  manual      0   \n",
       "1  24/03/2016 10:58  18300       coupe              2011  manual    190   \n",
       "2  14/03/2016 12:52   9800         suv              2004    auto    163   \n",
       "3  17/03/2016 16:54   1500       small              2001  manual     75   \n",
       "4  31/03/2016 17:25   3600       small              2008  manual     69   \n",
       "\n",
       "   model  mileage  registrationmonth  fueltype       brand notrepaired  \\\n",
       "0   golf   150000                  0    petrol  volkswagen         NaN   \n",
       "1    NaN   125000                  5  gasoline        audi         yes   \n",
       "2  grand   125000                  8  gasoline        jeep         NaN   \n",
       "3   golf   150000                  6    petrol  volkswagen          no   \n",
       "4  fabia    90000                  7  gasoline       skoda          no   \n",
       "\n",
       "        datecreated  numberofpictures  postalcode          lastseen  \n",
       "0  24/03/2016 00:00                 0       70435  07/04/2016 03:16  \n",
       "1  24/03/2016 00:00                 0       66954  07/04/2016 01:46  \n",
       "2  14/03/2016 00:00                 0       90480  05/04/2016 12:47  \n",
       "3  17/03/2016 00:00                 0       91074  17/03/2016 17:40  \n",
       "4  31/03/2016 00:00                 0       60437  06/04/2016 10:17  "
      ]
     },
     "execution_count": 11,
     "metadata": {},
     "output_type": "execute_result"
    }
   ],
   "source": [
    "df.info()\n",
    "df.head()"
   ]
  },
  {
   "cell_type": "code",
   "execution_count": 12,
   "metadata": {},
   "outputs": [
    {
     "data": {
      "image/png": "[encoded data removed]",
      "text/plain": [
       "<Figure size 1000x600 with 1 Axes>"
      ]
     },
     "metadata": {},
     "output_type": "display_data"
    }
   ],
   "source": [
    "# gerando os boxplots para analisar outliers\n",
    "\n",
    "numerical_cols = features.select_dtypes(include=['int64', 'float64']).columns\n",
    "\n",
    "plt.figure(figsize=(10, 6))\n",
    "sns.boxplot(data=features[numerical_cols])\n",
    "plt.title(\"Boxplots of Numerical Columns\")\n",
    "plt.xlabel(\"Columns\")\n",
    "plt.ylabel(\"Values\")\n",
    "plt.show()"
   ]
  },
  {
   "cell_type": "code",
   "execution_count": 13,
   "metadata": {
    "scrolled": false
   },
   "outputs": [
    {
     "name": "stdout",
     "output_type": "stream",
     "text": [
      "Column: registrationyear\n",
      "Number of outliers: 6309\n",
      "Percentage of data that would be lost: 1.78%\n",
      "\n",
      "Column: power\n",
      "Number of outliers: 7340\n",
      "Percentage of data that would be lost: 2.07%\n",
      "\n",
      "Column: mileage\n",
      "Number of outliers: 53257\n",
      "Percentage of data that would be lost: 15.03%\n",
      "\n",
      "Column: registrationmonth\n",
      "Number of outliers: 0\n",
      "Percentage of data that would be lost: 0.00%\n",
      "\n",
      "Column: numberofpictures\n",
      "Number of outliers: 0\n",
      "Percentage of data that would be lost: 0.00%\n",
      "\n",
      "Column: postalcode\n",
      "Number of outliers: 0\n",
      "Percentage of data that would be lost: 0.00%\n",
      "\n"
     ]
    }
   ],
   "source": [
    "# analisando a perda caso sejam descartados os outliers\n",
    "\n",
    "# threshold para outliers (1.5 * IQR)\n",
    "threshold = 1.5\n",
    "\n",
    "outlier_stats = {}\n",
    "\n",
    "# calculando quartis 25 e 75 para cada coluna numérica\n",
    "for col in features.select_dtypes(include=['int64', 'float64']).columns:\n",
    "    \n",
    "    q1 = features[col].quantile(0.25)\n",
    "    q3 = features[col].quantile(0.75)\n",
    "    \n",
    "    # Calculando IQR\n",
    "    iqr = q3 - q1\n",
    "    \n",
    "    # Definindo limites para outliers\n",
    "    lower_bound = q1 - (threshold * iqr)\n",
    "    upper_bound = q3 + (threshold * iqr)\n",
    "    \n",
    "    # identificando outliers\n",
    "    outliers = features[(features[col] < lower_bound) | (features[col] > upper_bound)]\n",
    "    \n",
    "    # calculando número de outliers\n",
    "    num_outliers = len(outliers)\n",
    "    \n",
    "    # calculando % de perda de dados\n",
    "    pct_lost = (num_outliers / len(features)) * 100\n",
    "    \n",
    "    # atualizando dicionario\n",
    "    outlier_stats[col] = {'num_outliers': num_outliers, 'pct_lost': pct_lost}\n",
    "\n",
    "\n",
    "for col, stats in outlier_stats.items():\n",
    "    print(f\"Column: {col}\")\n",
    "    print(f\"Number of outliers: {stats['num_outliers']}\")\n",
    "    print(f\"Percentage of data that would be lost: {stats['pct_lost']:.2f}%\")\n",
    "    print()"
   ]
  },
  {
   "cell_type": "code",
   "execution_count": 14,
   "metadata": {
    "scrolled": true
   },
   "outputs": [
    {
     "data": {
      "text/plain": [
       "count    354369.000000\n",
       "mean     128211.172535\n",
       "std       37905.341530\n",
       "min        5000.000000\n",
       "25%      125000.000000\n",
       "50%      150000.000000\n",
       "75%      150000.000000\n",
       "max      150000.000000\n",
       "Name: mileage, dtype: float64"
      ]
     },
     "execution_count": 14,
     "metadata": {},
     "output_type": "execute_result"
    }
   ],
   "source": [
    "features[\"mileage\"].describe()"
   ]
  },
  {
   "cell_type": "markdown",
   "metadata": {},
   "source": [
    "## Conclusion\n",
    "We can discard outliers from the `registration year` and `power` columns since the loss of data is minimal. However, we will need to handle outliers in the `mileage` column.\n"
   ]
  },
  {
   "cell_type": "code",
   "execution_count": 15,
   "metadata": {},
   "outputs": [
    {
     "name": "stdout",
     "output_type": "stream",
     "text": [
      "Anderson-Darling test: statistic=56653.12, critical values=[0.576 0.656 0.787 0.918 1.092], significance level=[15.  10.   5.   2.5  1. ]\n",
      "Shapiro-Wilk test: statistic=0.63, p-value=0.00\n"
     ]
    },
    {
     "name": "stderr",
     "output_type": "stream",
     "text": [
      "/opt/conda/envs/python3/lib/python3.9/site-packages/scipy/stats/_morestats.py:1816: UserWarning: p-value may not be accurate for N > 5000.\n",
      "  warnings.warn(\"p-value may not be accurate for N > 5000.\")\n"
     ]
    }
   ],
   "source": [
    "# checando a normalidade da distribuição de mileage\n",
    "\n",
    "# Anderson-Darling test\n",
    "result = anderson(features['mileage'])\n",
    "print(f\"Anderson-Darling test: statistic={result.statistic:.2f}, critical values={result.critical_values}, significance level={result.significance_level}\")\n",
    "\n",
    "# Shapiro-Wilk test\n",
    "stat, p = shapiro(features['mileage'])\n",
    "print(f\"Shapiro-Wilk test: statistic={stat:.2f}, p-value={p:.2f}\")"
   ]
  },
  {
   "cell_type": "markdown",
   "metadata": {},
   "source": [
    "Conclusion: Mileage is not normally distributed"
   ]
  },
  {
   "cell_type": "code",
   "execution_count": 16,
   "metadata": {
    "scrolled": false
   },
   "outputs": [
    {
     "data": {
      "image/png": "[encoded data removed]",
      "text/plain": [
       "<Figure size 1000x600 with 1 Axes>"
      ]
     },
     "metadata": {},
     "output_type": "display_data"
    },
    {
     "data": {
      "image/png": "[encoded data removed]",
      "text/plain": [
       "<Figure size 640x480 with 1 Axes>"
      ]
     },
     "metadata": {},
     "output_type": "display_data"
    },
    {
     "data": {
      "image/png": "[encoded data removed]",
      "text/plain": [
       "<Figure size 640x480 with 1 Axes>"
      ]
     },
     "metadata": {},
     "output_type": "display_data"
    },
    {
     "data": {
      "image/png": "[encoded data removed]",
      "text/plain": [
       "<Figure size 640x480 with 1 Axes>"
      ]
     },
     "metadata": {},
     "output_type": "display_data"
    }
   ],
   "source": [
    "# visualizando Mileage\n",
    "\n",
    "# Boxplot\n",
    "plt.figure(figsize=(10, 6))\n",
    "sns.boxplot(data=features[\"mileage\"])\n",
    "plt.title(\"Boxplot Mileage\")\n",
    "plt.xlabel(\"Columns\")\n",
    "plt.ylabel(\"Values\")\n",
    "plt.show()\n",
    "\n",
    "# Histogram\n",
    "plt.hist(features['mileage'], bins=50, alpha=0.7, color='skyblue')\n",
    "plt.xlabel('Mileage')\n",
    "plt.ylabel('Frequency')\n",
    "plt.title('Mileage Distribution')\n",
    "plt.show()\n",
    "\n",
    "# Density Plot\n",
    "sns.kdeplot(features['mileage'], shade=True)\n",
    "plt.xlabel('Mileage')\n",
    "plt.ylabel('Density')\n",
    "plt.title('Mileage Density Plot')\n",
    "plt.show()\n",
    "\n",
    "# Q-Q Plot\n",
    "import scipy.stats as stats\n",
    "stats.probplot(features['mileage'], dist='norm', plot=plt)\n",
    "plt.title('Mileage Q-Q Plot')\n",
    "plt.show()"
   ]
  },
  {
   "cell_type": "markdown",
   "metadata": {},
   "source": [
    "## Conclusion\n",
    "The `mileage` column is left-skewed because the outliers are concentrated towards \"lower mileage.\" Therefore, we will transform the data to stabilize variance and improve symmetry.\n"
   ]
  },
  {
   "cell_type": "code",
   "execution_count": 17,
   "metadata": {
    "scrolled": true
   },
   "outputs": [
    {
     "name": "stdout",
     "output_type": "stream",
     "text": [
      "Anderson-Darling test: statistic=58207.55, critical values=[0.576 0.656 0.787 0.918 1.092], significance level=[15.  10.   5.   2.5  1. ]\n",
      "\n",
      "Shapiro-Wilk test: statistic=0.60, p-value=0.00\n"
     ]
    },
    {
     "name": "stderr",
     "output_type": "stream",
     "text": [
      "/opt/conda/envs/python3/lib/python3.9/site-packages/scipy/stats/_morestats.py:1816: UserWarning: p-value may not be accurate for N > 5000.\n",
      "  warnings.warn(\"p-value may not be accurate for N > 5000.\")\n"
     ]
    }
   ],
   "source": [
    "# transformando dados usando square root\n",
    "sqrt_mileage = np.sqrt(df['mileage'])\n",
    "\n",
    "# testando normalidade novamente\n",
    "# Anderson-Darling test\n",
    "result2 = anderson(sqrt_mileage)\n",
    "print(f\"Anderson-Darling test: statistic={result2.statistic:.2f}, critical values={result2.critical_values}, significance level={result2.significance_level}\")\n",
    "print(\"\")\n",
    "\n",
    "\n",
    "# Shapiro-Wilk test\n",
    "stat2, p2 = shapiro(sqrt_mileage)\n",
    "print(f\"Shapiro-Wilk test: statistic={stat2:.2f}, p-value={p2:.2f}\")"
   ]
  },
  {
   "cell_type": "code",
   "execution_count": 18,
   "metadata": {
    "scrolled": false
   },
   "outputs": [
    {
     "data": {
      "image/png": "[encoded data removed]",
      "text/plain": [
       "<Figure size 1000x600 with 1 Axes>"
      ]
     },
     "metadata": {},
     "output_type": "display_data"
    },
    {
     "data": {
      "image/png": "[encoded data removed]",
      "text/plain": [
       "<Figure size 640x480 with 1 Axes>"
      ]
     },
     "metadata": {},
     "output_type": "display_data"
    },
    {
     "data": {
      "image/png": "[encoded data removed]",
      "text/plain": [
       "<Figure size 640x480 with 1 Axes>"
      ]
     },
     "metadata": {},
     "output_type": "display_data"
    },
    {
     "data": {
      "image/png": "[encoded data removed]",
      "text/plain": [
       "<Figure size 640x480 with 1 Axes>"
      ]
     },
     "metadata": {},
     "output_type": "display_data"
    }
   ],
   "source": [
    "# visualizando Mileage após a transformação\n",
    "\n",
    "# Boxplot\n",
    "plt.figure(figsize=(10, 6))\n",
    "sns.boxplot(data=sqrt_mileage)\n",
    "plt.title(\"Boxplot Mileage\")\n",
    "plt.xlabel(\"Columns\")\n",
    "plt.ylabel(\"Values\")\n",
    "plt.show()\n",
    "\n",
    "# Histogram\n",
    "plt.hist(sqrt_mileage, bins=50, alpha=0.7, color='skyblue')\n",
    "plt.xlabel('Mileage')\n",
    "plt.ylabel('Frequency')\n",
    "plt.title('Mileage Distribution')\n",
    "plt.show()\n",
    "\n",
    "# Density Plot\n",
    "sns.kdeplot(sqrt_mileage, shade=True)\n",
    "plt.xlabel('Mileage')\n",
    "plt.ylabel('Density')\n",
    "plt.title('Mileage Density Plot')\n",
    "plt.show()\n",
    "\n",
    "# Q-Q Plot\n",
    "import scipy.stats as stats\n",
    "stats.probplot(sqrt_mileage, dist='norm', plot=plt)\n",
    "plt.title('Mileage Q-Q Plot')\n",
    "plt.show()"
   ]
  },
  {
   "cell_type": "markdown",
   "metadata": {},
   "source": [
    "Conclusion: Square root transformation did not eliminate non-normality, let's try box-cox transformation"
   ]
  },
  {
   "cell_type": "code",
   "execution_count": 19,
   "metadata": {},
   "outputs": [
    {
     "name": "stdout",
     "output_type": "stream",
     "text": [
      "Anderson-Darling test: statistic=58243.58, critical values=[0.576 0.656 0.787 0.918 1.092], significance level=[15.  10.   5.   2.5  1. ]\n",
      "\n",
      "Shapiro-Wilk test: statistic=0.66, p-value=0.00\n"
     ]
    },
    {
     "name": "stderr",
     "output_type": "stream",
     "text": [
      "/opt/conda/envs/python3/lib/python3.9/site-packages/scipy/stats/_morestats.py:1816: UserWarning: p-value may not be accurate for N > 5000.\n",
      "  warnings.warn(\"p-value may not be accurate for N > 5000.\")\n"
     ]
    }
   ],
   "source": [
    "# transformando com boxcox\n",
    "bc_mileage, lam = boxcox(features['mileage'])\n",
    "\n",
    "# testando normalidade novamente\n",
    "# Anderson-Darling test\n",
    "result3 = anderson(bc_mileage)\n",
    "print(f\"Anderson-Darling test: statistic={result3.statistic:.2f}, critical values={result3.critical_values}, significance level={result3.significance_level}\")\n",
    "print(\"\")\n",
    "\n",
    "\n",
    "# Shapiro-Wilk test\n",
    "stat3, p3 = shapiro(bc_mileage)\n",
    "print(f\"Shapiro-Wilk test: statistic={stat3:.2f}, p-value={p3:.2f}\")"
   ]
  },
  {
   "cell_type": "markdown",
   "metadata": {},
   "source": [
    "## Conclusion\n",
    "The `mileage` data remains non-normal even after applying the Box-Cox transformation, indicating that it is inherently non-normal. Therefore, we will proceed with winsorization and truncation techniques.\n"
   ]
  },
  {
   "cell_type": "code",
   "execution_count": 20,
   "metadata": {},
   "outputs": [
    {
     "name": "stdout",
     "output_type": "stream",
     "text": [
      "Anderson-Darling test: statistic=60197.75, critical values=[0.576 0.656 0.787 0.918 1.092], significance level=[15.  10.   5.   2.5  1. ]\n",
      "\n",
      "Shapiro-Wilk test: statistic=0.64, p-value=0.00\n"
     ]
    }
   ],
   "source": [
    "# calculando thresholds\n",
    "mileage = features[\"mileage\"].values\n",
    "p10 = np.percentile(mileage, 10)\n",
    "p90 = np.percentile(mileage, 90)\n",
    "\n",
    "# winsor\n",
    "mileage_winsorized = np.clip(mileage, p10, p90)\n",
    "\n",
    "# truncate\n",
    "mileage_truncated = mileage_winsorized[(mileage_winsorized > (np.mean(mileage_winsorized) - 3 * np.std(mileage_winsorized))) & \n",
    "                                       (mileage_winsorized < (np.mean(mileage_winsorized) + 3 * np.std(mileage_winsorized)))]\n",
    "\n",
    "# re testando normalidade\n",
    "# Anderson-Darling test\n",
    "result4 = anderson(mileage_truncated)\n",
    "print(f\"Anderson-Darling test: statistic={result4.statistic:.2f}, critical values={result4.critical_values}, significance level={result4.significance_level}\")\n",
    "print(\"\")\n",
    "\n",
    "\n",
    "# Shapiro-Wilk test\n",
    "stat4, p4 = shapiro(mileage_truncated)\n",
    "print(f\"Shapiro-Wilk test: statistic={stat4:.2f}, p-value={p4:.2f}\")"
   ]
  },
  {
   "cell_type": "markdown",
   "metadata": {},
   "source": [
    "## Conclusion\n",
    "After applying winsorization and truncation, the `mileage` data still remains non-normal. Therefore, we will use censoring and replace the outliers with the minimum mileage value from the dataset (excluding outliers).\n"
   ]
  },
  {
   "cell_type": "code",
   "execution_count": 21,
   "metadata": {},
   "outputs": [
    {
     "name": "stdout",
     "output_type": "stream",
     "text": [
      "14495.308394309206\n"
     ]
    }
   ],
   "source": [
    "# calculando threshold de outliers\n",
    "out_threshold = np.mean(mileage) - 3 * np.std(mileage)\n",
    "print(out_threshold)"
   ]
  },
  {
   "cell_type": "code",
   "execution_count": 22,
   "metadata": {},
   "outputs": [],
   "source": [
    "# Calculate the quartiles\n",
    "mileageQ1 = np.percentile(mileage, 25)\n",
    "mileageQ3 = np.percentile(mileage, 75)\n",
    "\n",
    "# Calculate the IQR\n",
    "mileageIQR = mileageQ3 - mileageQ1\n",
    "\n",
    "# Calculate the whisker values\n",
    "lower_whisker = mileageQ1 - 1.5 * mileageIQR"
   ]
  },
  {
   "cell_type": "code",
   "execution_count": 23,
   "metadata": {},
   "outputs": [],
   "source": [
    "# censurando left-skewed outliers\n",
    "mileage_censored = np.where(mileage < lower_whisker, lower_whisker, mileage)"
   ]
  },
  {
   "cell_type": "code",
   "execution_count": 24,
   "metadata": {
    "scrolled": false
   },
   "outputs": [
    {
     "data": {
      "image/png": "[encoded data removed]",
      "text/plain": [
       "<Figure size 1000x600 with 1 Axes>"
      ]
     },
     "metadata": {},
     "output_type": "display_data"
    },
    {
     "data": {
      "image/png": "[encoded data removed]",
      "text/plain": [
       "<Figure size 640x480 with 1 Axes>"
      ]
     },
     "metadata": {},
     "output_type": "display_data"
    },
    {
     "data": {
      "image/png": "[encoded data removed]",
      "text/plain": [
       "<Figure size 640x480 with 1 Axes>"
      ]
     },
     "metadata": {},
     "output_type": "display_data"
    },
    {
     "data": {
      "image/png": "[encoded data removed]",
      "text/plain": [
       "<Figure size 640x480 with 1 Axes>"
      ]
     },
     "metadata": {},
     "output_type": "display_data"
    }
   ],
   "source": [
    "# visualizando Mileage após a censura\n",
    "\n",
    "# Boxplot\n",
    "plt.figure(figsize=(10, 6))\n",
    "sns.boxplot(data=mileage_censored)\n",
    "plt.title(\"Boxplot Mileage\")\n",
    "plt.xlabel(\"Columns\")\n",
    "plt.ylabel(\"Values\")\n",
    "plt.show()\n",
    "\n",
    "# Histogram\n",
    "plt.hist(mileage_censored, bins=50, alpha=0.7, color='skyblue')\n",
    "plt.xlabel('Mileage')\n",
    "plt.ylabel('Frequency')\n",
    "plt.title('Mileage Distribution')\n",
    "plt.show()\n",
    "\n",
    "# Density Plot\n",
    "sns.kdeplot(mileage_censored, shade=True)\n",
    "plt.xlabel('Mileage')\n",
    "plt.ylabel('Density')\n",
    "plt.title('Mileage Density Plot')\n",
    "plt.show()\n",
    "\n",
    "# Q-Q Plot\n",
    "import scipy.stats as stats\n",
    "stats.probplot(mileage_censored, dist='norm', plot=plt)\n",
    "plt.title('Mileage Q-Q Plot')\n",
    "plt.show()"
   ]
  },
  {
   "cell_type": "code",
   "execution_count": 25,
   "metadata": {},
   "outputs": [
    {
     "name": "stdout",
     "output_type": "stream",
     "text": [
      "458\n"
     ]
    }
   ],
   "source": [
    "# removendo right-skewed outliers das colunas power e registration year\n",
    "\n",
    "power = features[\"power\"].values\n",
    "regyear = features[\"registrationyear\"].values\n",
    "\n",
    "# calculando thresholds para cada coluna\n",
    "threshold1 = np.mean(power) + 3 * np.std(power)\n",
    "threshold2 = np.mean(regyear) + 3 * np.std(regyear)\n",
    "\n",
    "# identificando os índices dos outliers em cada coluna\n",
    "outlier_indices1 = np.where(power > threshold1)[0]\n",
    "outlier_indices2 = np.where(regyear > threshold2)[0]\n",
    "\n",
    "# combinando os indices de outliers das duas colunas\n",
    "outlier_indices = np.union1d(outlier_indices1, outlier_indices2)\n",
    "print(len(outlier_indices))"
   ]
  },
  {
   "cell_type": "code",
   "execution_count": 26,
   "metadata": {},
   "outputs": [
    {
     "name": "stdout",
     "output_type": "stream",
     "text": [
      "          datecrawled  vehicletype  registrationyear gearbox  power    model  \\\n",
      "0 2016-03-24 11:52:00      unknown              1993  manual      0     golf   \n",
      "1 2016-03-24 10:58:00        coupe              2011  manual    190  unknown   \n",
      "2 2016-03-14 12:52:00          suv              2004    auto    163    grand   \n",
      "3 2016-03-17 16:54:00        small              2001  manual     75     golf   \n",
      "4 2016-03-31 17:25:00        small              2008  manual     69    fabia   \n",
      "5 2016-04-04 17:36:00        sedan              1995  manual    102      3er   \n",
      "6 2016-04-01 20:48:00  convertible              2004  manual    109  2_reihe   \n",
      "7 2016-03-21 18:54:00        sedan              1980  manual     50    other   \n",
      "8 2016-04-04 23:42:00          bus              2014  manual    125    c_max   \n",
      "9 2016-03-17 10:53:00        small              1998  manual    101     golf   \n",
      "\n",
      "   mileage  registrationmonth  fueltype       brand notrepaired datecreated  \\\n",
      "0   150000                  0    petrol  volkswagen     unknown  2016-03-24   \n",
      "1   125000                  5  gasoline        audi         yes  2016-03-24   \n",
      "2   125000                  8  gasoline        jeep     unknown  2016-03-14   \n",
      "3   150000                  6    petrol  volkswagen          no  2016-03-17   \n",
      "4    90000                  7  gasoline       skoda          no  2016-03-31   \n",
      "5   150000                 10    petrol         bmw         yes  2016-04-04   \n",
      "6   150000                  8    petrol     peugeot          no  2016-04-01   \n",
      "7    40000                  7    petrol  volkswagen          no  2016-03-21   \n",
      "8    30000                  8    petrol        ford     unknown  2016-04-04   \n",
      "9   150000                  0   unknown  volkswagen     unknown  2016-03-17   \n",
      "\n",
      "   numberofpictures  postalcode            lastseen  mileage_censored  \n",
      "0                 0       70435 2016-04-07 03:16:00          150000.0  \n",
      "1                 0       66954 2016-04-07 01:46:00          125000.0  \n",
      "2                 0       90480 2016-04-05 12:47:00          125000.0  \n",
      "3                 0       91074 2016-03-17 17:40:00          150000.0  \n",
      "4                 0       60437 2016-04-06 10:17:00           90000.0  \n",
      "5                 0       33775 2016-04-06 19:17:00          150000.0  \n",
      "6                 0       67112 2016-04-05 18:18:00          150000.0  \n",
      "7                 0       19348 2016-03-25 16:47:00           87500.0  \n",
      "8                 0       94505 2016-04-04 23:42:00           87500.0  \n",
      "9                 0       27472 2016-03-31 17:17:00          150000.0  \n"
     ]
    }
   ],
   "source": [
    "# Juntando a coluna mileage_censored de volta para as features\n",
    "features[\"mileage_censored\"] = mileage_censored\n",
    "print(features.head(10))"
   ]
  },
  {
   "cell_type": "code",
   "execution_count": 27,
   "metadata": {},
   "outputs": [],
   "source": [
    "# removendo das fdeatures as observações correspondentes aos indices de outliers removidos de power e registration year\n",
    "features = features.drop(features.index[outlier_indices])"
   ]
  },
  {
   "cell_type": "code",
   "execution_count": 28,
   "metadata": {},
   "outputs": [
    {
     "name": "stdout",
     "output_type": "stream",
     "text": [
      "<class 'pandas.core.frame.DataFrame'>\n",
      "Int64Index: 353911 entries, 0 to 354368\n",
      "Data columns (total 16 columns):\n",
      " #   Column             Non-Null Count   Dtype         \n",
      "---  ------             --------------   -----         \n",
      " 0   datecrawled        353911 non-null  datetime64[ns]\n",
      " 1   vehicletype        353911 non-null  object        \n",
      " 2   registrationyear   353911 non-null  int64         \n",
      " 3   gearbox            353911 non-null  object        \n",
      " 4   power              353911 non-null  int64         \n",
      " 5   model              353911 non-null  object        \n",
      " 6   mileage            353911 non-null  int64         \n",
      " 7   registrationmonth  353911 non-null  int64         \n",
      " 8   fueltype           353911 non-null  object        \n",
      " 9   brand              353911 non-null  object        \n",
      " 10  notrepaired        353911 non-null  object        \n",
      " 11  datecreated        353911 non-null  datetime64[ns]\n",
      " 12  numberofpictures   353911 non-null  int64         \n",
      " 13  postalcode         353911 non-null  int64         \n",
      " 14  lastseen           353911 non-null  datetime64[ns]\n",
      " 15  mileage_censored   353911 non-null  float64       \n",
      "dtypes: datetime64[ns](3), float64(1), int64(6), object(6)\n",
      "memory usage: 45.9+ MB\n"
     ]
    }
   ],
   "source": [
    "features.info()"
   ]
  },
  {
   "cell_type": "code",
   "execution_count": 29,
   "metadata": {
    "scrolled": true
   },
   "outputs": [],
   "source": [
    "# codifidando variáveis categóricas com OHE,dropando a primeira coluna \n",
    "categorical = ['gearbox','fueltype','notrepaired','vehicletype']\n",
    "features = pd.get_dummies(features,columns=categorical)\n"
   ]
  },
  {
   "cell_type": "code",
   "execution_count": 30,
   "metadata": {},
   "outputs": [],
   "source": [
    "# codificando variaveis categoricas com label encoder pois possuem alta cardinalidade e nao tem uma ordem lógica\n",
    "\n",
    "categorical_cols = ['brand', 'model']\n",
    "\n",
    "# applicando LabelEncoder para cada coluna\n",
    "for col in categorical_cols:\n",
    "    le = LabelEncoder()\n",
    "    features[f\"{col}_encoded\"] = le.fit_transform(features[col])\n",
    "    \n",
    "# removendo colunas desnecessarias\n",
    "features.drop(columns=['model', 'brand'], inplace=True)"
   ]
  },
  {
   "cell_type": "code",
   "execution_count": 31,
   "metadata": {
    "scrolled": false
   },
   "outputs": [
    {
     "data": {
      "text/html": [
       "<div>\n",
       "<style scoped>\n",
       "    .dataframe tbody tr th:only-of-type {\n",
       "        vertical-align: middle;\n",
       "    }\n",
       "\n",
       "    .dataframe tbody tr th {\n",
       "        vertical-align: top;\n",
       "    }\n",
       "\n",
       "    .dataframe thead th {\n",
       "        text-align: right;\n",
       "    }\n",
       "</style>\n",
       "<table border=\"1\" class=\"dataframe\">\n",
       "  <thead>\n",
       "    <tr style=\"text-align: right;\">\n",
       "      <th></th>\n",
       "      <th>datecrawled</th>\n",
       "      <th>registrationyear</th>\n",
       "      <th>power</th>\n",
       "      <th>mileage</th>\n",
       "      <th>registrationmonth</th>\n",
       "      <th>datecreated</th>\n",
       "      <th>numberofpictures</th>\n",
       "      <th>postalcode</th>\n",
       "      <th>lastseen</th>\n",
       "      <th>mileage_censored</th>\n",
       "      <th>...</th>\n",
       "      <th>vehicletype_convertible</th>\n",
       "      <th>vehicletype_coupe</th>\n",
       "      <th>vehicletype_other</th>\n",
       "      <th>vehicletype_sedan</th>\n",
       "      <th>vehicletype_small</th>\n",
       "      <th>vehicletype_suv</th>\n",
       "      <th>vehicletype_unknown</th>\n",
       "      <th>vehicletype_wagon</th>\n",
       "      <th>brand_encoded</th>\n",
       "      <th>model_encoded</th>\n",
       "    </tr>\n",
       "  </thead>\n",
       "  <tbody>\n",
       "    <tr>\n",
       "      <th>0</th>\n",
       "      <td>2016-03-24 11:52:00</td>\n",
       "      <td>1993</td>\n",
       "      <td>0</td>\n",
       "      <td>150000</td>\n",
       "      <td>0</td>\n",
       "      <td>2016-03-24</td>\n",
       "      <td>0</td>\n",
       "      <td>70435</td>\n",
       "      <td>2016-04-07 03:16:00</td>\n",
       "      <td>150000.0</td>\n",
       "      <td>...</td>\n",
       "      <td>0</td>\n",
       "      <td>0</td>\n",
       "      <td>0</td>\n",
       "      <td>0</td>\n",
       "      <td>0</td>\n",
       "      <td>0</td>\n",
       "      <td>1</td>\n",
       "      <td>0</td>\n",
       "      <td>38</td>\n",
       "      <td>116</td>\n",
       "    </tr>\n",
       "    <tr>\n",
       "      <th>1</th>\n",
       "      <td>2016-03-24 10:58:00</td>\n",
       "      <td>2011</td>\n",
       "      <td>190</td>\n",
       "      <td>125000</td>\n",
       "      <td>5</td>\n",
       "      <td>2016-03-24</td>\n",
       "      <td>0</td>\n",
       "      <td>66954</td>\n",
       "      <td>2016-04-07 01:46:00</td>\n",
       "      <td>125000.0</td>\n",
       "      <td>...</td>\n",
       "      <td>0</td>\n",
       "      <td>1</td>\n",
       "      <td>0</td>\n",
       "      <td>0</td>\n",
       "      <td>0</td>\n",
       "      <td>0</td>\n",
       "      <td>0</td>\n",
       "      <td>0</td>\n",
       "      <td>1</td>\n",
       "      <td>228</td>\n",
       "    </tr>\n",
       "    <tr>\n",
       "      <th>2</th>\n",
       "      <td>2016-03-14 12:52:00</td>\n",
       "      <td>2004</td>\n",
       "      <td>163</td>\n",
       "      <td>125000</td>\n",
       "      <td>8</td>\n",
       "      <td>2016-03-14</td>\n",
       "      <td>0</td>\n",
       "      <td>90480</td>\n",
       "      <td>2016-04-05 12:47:00</td>\n",
       "      <td>125000.0</td>\n",
       "      <td>...</td>\n",
       "      <td>0</td>\n",
       "      <td>0</td>\n",
       "      <td>0</td>\n",
       "      <td>0</td>\n",
       "      <td>0</td>\n",
       "      <td>1</td>\n",
       "      <td>0</td>\n",
       "      <td>0</td>\n",
       "      <td>14</td>\n",
       "      <td>117</td>\n",
       "    </tr>\n",
       "    <tr>\n",
       "      <th>3</th>\n",
       "      <td>2016-03-17 16:54:00</td>\n",
       "      <td>2001</td>\n",
       "      <td>75</td>\n",
       "      <td>150000</td>\n",
       "      <td>6</td>\n",
       "      <td>2016-03-17</td>\n",
       "      <td>0</td>\n",
       "      <td>91074</td>\n",
       "      <td>2016-03-17 17:40:00</td>\n",
       "      <td>150000.0</td>\n",
       "      <td>...</td>\n",
       "      <td>0</td>\n",
       "      <td>0</td>\n",
       "      <td>0</td>\n",
       "      <td>0</td>\n",
       "      <td>1</td>\n",
       "      <td>0</td>\n",
       "      <td>0</td>\n",
       "      <td>0</td>\n",
       "      <td>38</td>\n",
       "      <td>116</td>\n",
       "    </tr>\n",
       "    <tr>\n",
       "      <th>4</th>\n",
       "      <td>2016-03-31 17:25:00</td>\n",
       "      <td>2008</td>\n",
       "      <td>69</td>\n",
       "      <td>90000</td>\n",
       "      <td>7</td>\n",
       "      <td>2016-03-31</td>\n",
       "      <td>0</td>\n",
       "      <td>60437</td>\n",
       "      <td>2016-04-06 10:17:00</td>\n",
       "      <td>90000.0</td>\n",
       "      <td>...</td>\n",
       "      <td>0</td>\n",
       "      <td>0</td>\n",
       "      <td>0</td>\n",
       "      <td>0</td>\n",
       "      <td>1</td>\n",
       "      <td>0</td>\n",
       "      <td>0</td>\n",
       "      <td>0</td>\n",
       "      <td>31</td>\n",
       "      <td>101</td>\n",
       "    </tr>\n",
       "    <tr>\n",
       "      <th>5</th>\n",
       "      <td>2016-04-04 17:36:00</td>\n",
       "      <td>1995</td>\n",
       "      <td>102</td>\n",
       "      <td>150000</td>\n",
       "      <td>10</td>\n",
       "      <td>2016-04-04</td>\n",
       "      <td>0</td>\n",
       "      <td>33775</td>\n",
       "      <td>2016-04-06 19:17:00</td>\n",
       "      <td>150000.0</td>\n",
       "      <td>...</td>\n",
       "      <td>0</td>\n",
       "      <td>0</td>\n",
       "      <td>0</td>\n",
       "      <td>1</td>\n",
       "      <td>0</td>\n",
       "      <td>0</td>\n",
       "      <td>0</td>\n",
       "      <td>0</td>\n",
       "      <td>2</td>\n",
       "      <td>11</td>\n",
       "    </tr>\n",
       "    <tr>\n",
       "      <th>6</th>\n",
       "      <td>2016-04-01 20:48:00</td>\n",
       "      <td>2004</td>\n",
       "      <td>109</td>\n",
       "      <td>150000</td>\n",
       "      <td>8</td>\n",
       "      <td>2016-04-01</td>\n",
       "      <td>0</td>\n",
       "      <td>67112</td>\n",
       "      <td>2016-04-05 18:18:00</td>\n",
       "      <td>150000.0</td>\n",
       "      <td>...</td>\n",
       "      <td>1</td>\n",
       "      <td>0</td>\n",
       "      <td>0</td>\n",
       "      <td>0</td>\n",
       "      <td>0</td>\n",
       "      <td>0</td>\n",
       "      <td>0</td>\n",
       "      <td>0</td>\n",
       "      <td>25</td>\n",
       "      <td>8</td>\n",
       "    </tr>\n",
       "    <tr>\n",
       "      <th>7</th>\n",
       "      <td>2016-03-21 18:54:00</td>\n",
       "      <td>1980</td>\n",
       "      <td>50</td>\n",
       "      <td>40000</td>\n",
       "      <td>7</td>\n",
       "      <td>2016-03-21</td>\n",
       "      <td>0</td>\n",
       "      <td>19348</td>\n",
       "      <td>2016-03-25 16:47:00</td>\n",
       "      <td>87500.0</td>\n",
       "      <td>...</td>\n",
       "      <td>0</td>\n",
       "      <td>0</td>\n",
       "      <td>0</td>\n",
       "      <td>1</td>\n",
       "      <td>0</td>\n",
       "      <td>0</td>\n",
       "      <td>0</td>\n",
       "      <td>0</td>\n",
       "      <td>38</td>\n",
       "      <td>166</td>\n",
       "    </tr>\n",
       "    <tr>\n",
       "      <th>8</th>\n",
       "      <td>2016-04-04 23:42:00</td>\n",
       "      <td>2014</td>\n",
       "      <td>125</td>\n",
       "      <td>30000</td>\n",
       "      <td>8</td>\n",
       "      <td>2016-04-04</td>\n",
       "      <td>0</td>\n",
       "      <td>94505</td>\n",
       "      <td>2016-04-04 23:42:00</td>\n",
       "      <td>87500.0</td>\n",
       "      <td>...</td>\n",
       "      <td>0</td>\n",
       "      <td>0</td>\n",
       "      <td>0</td>\n",
       "      <td>0</td>\n",
       "      <td>0</td>\n",
       "      <td>0</td>\n",
       "      <td>0</td>\n",
       "      <td>0</td>\n",
       "      <td>10</td>\n",
       "      <td>60</td>\n",
       "    </tr>\n",
       "    <tr>\n",
       "      <th>9</th>\n",
       "      <td>2016-03-17 10:53:00</td>\n",
       "      <td>1998</td>\n",
       "      <td>101</td>\n",
       "      <td>150000</td>\n",
       "      <td>0</td>\n",
       "      <td>2016-03-17</td>\n",
       "      <td>0</td>\n",
       "      <td>27472</td>\n",
       "      <td>2016-03-31 17:17:00</td>\n",
       "      <td>150000.0</td>\n",
       "      <td>...</td>\n",
       "      <td>0</td>\n",
       "      <td>0</td>\n",
       "      <td>0</td>\n",
       "      <td>0</td>\n",
       "      <td>1</td>\n",
       "      <td>0</td>\n",
       "      <td>0</td>\n",
       "      <td>0</td>\n",
       "      <td>38</td>\n",
       "      <td>116</td>\n",
       "    </tr>\n",
       "  </tbody>\n",
       "</table>\n",
       "<p>10 rows × 35 columns</p>\n",
       "</div>"
      ],
      "text/plain": [
       "          datecrawled  registrationyear  power  mileage  registrationmonth  \\\n",
       "0 2016-03-24 11:52:00              1993      0   150000                  0   \n",
       "1 2016-03-24 10:58:00              2011    190   125000                  5   \n",
       "2 2016-03-14 12:52:00              2004    163   125000                  8   \n",
       "3 2016-03-17 16:54:00              2001     75   150000                  6   \n",
       "4 2016-03-31 17:25:00              2008     69    90000                  7   \n",
       "5 2016-04-04 17:36:00              1995    102   150000                 10   \n",
       "6 2016-04-01 20:48:00              2004    109   150000                  8   \n",
       "7 2016-03-21 18:54:00              1980     50    40000                  7   \n",
       "8 2016-04-04 23:42:00              2014    125    30000                  8   \n",
       "9 2016-03-17 10:53:00              1998    101   150000                  0   \n",
       "\n",
       "  datecreated  numberofpictures  postalcode            lastseen  \\\n",
       "0  2016-03-24                 0       70435 2016-04-07 03:16:00   \n",
       "1  2016-03-24                 0       66954 2016-04-07 01:46:00   \n",
       "2  2016-03-14                 0       90480 2016-04-05 12:47:00   \n",
       "3  2016-03-17                 0       91074 2016-03-17 17:40:00   \n",
       "4  2016-03-31                 0       60437 2016-04-06 10:17:00   \n",
       "5  2016-04-04                 0       33775 2016-04-06 19:17:00   \n",
       "6  2016-04-01                 0       67112 2016-04-05 18:18:00   \n",
       "7  2016-03-21                 0       19348 2016-03-25 16:47:00   \n",
       "8  2016-04-04                 0       94505 2016-04-04 23:42:00   \n",
       "9  2016-03-17                 0       27472 2016-03-31 17:17:00   \n",
       "\n",
       "   mileage_censored  ...  vehicletype_convertible  vehicletype_coupe  \\\n",
       "0          150000.0  ...                        0                  0   \n",
       "1          125000.0  ...                        0                  1   \n",
       "2          125000.0  ...                        0                  0   \n",
       "3          150000.0  ...                        0                  0   \n",
       "4           90000.0  ...                        0                  0   \n",
       "5          150000.0  ...                        0                  0   \n",
       "6          150000.0  ...                        1                  0   \n",
       "7           87500.0  ...                        0                  0   \n",
       "8           87500.0  ...                        0                  0   \n",
       "9          150000.0  ...                        0                  0   \n",
       "\n",
       "   vehicletype_other  vehicletype_sedan  vehicletype_small  vehicletype_suv  \\\n",
       "0                  0                  0                  0                0   \n",
       "1                  0                  0                  0                0   \n",
       "2                  0                  0                  0                1   \n",
       "3                  0                  0                  1                0   \n",
       "4                  0                  0                  1                0   \n",
       "5                  0                  1                  0                0   \n",
       "6                  0                  0                  0                0   \n",
       "7                  0                  1                  0                0   \n",
       "8                  0                  0                  0                0   \n",
       "9                  0                  0                  1                0   \n",
       "\n",
       "   vehicletype_unknown  vehicletype_wagon  brand_encoded  model_encoded  \n",
       "0                    1                  0             38            116  \n",
       "1                    0                  0              1            228  \n",
       "2                    0                  0             14            117  \n",
       "3                    0                  0             38            116  \n",
       "4                    0                  0             31            101  \n",
       "5                    0                  0              2             11  \n",
       "6                    0                  0             25              8  \n",
       "7                    0                  0             38            166  \n",
       "8                    0                  0             10             60  \n",
       "9                    0                  0             38            116  \n",
       "\n",
       "[10 rows x 35 columns]"
      ]
     },
     "execution_count": 31,
     "metadata": {},
     "output_type": "execute_result"
    }
   ],
   "source": [
    "features.head(10)"
   ]
  },
  {
   "cell_type": "code",
   "execution_count": 32,
   "metadata": {
    "scrolled": false
   },
   "outputs": [],
   "source": [
    "# escalando as variáveis numéricas\n",
    "numeric = ['registrationyear','power','mileage_censored','registrationmonth','numberofpictures','postalcode']\n",
    "# numeric = features.select_dtypes(include=['int64', 'float64']).columns\n",
    "scaler = MaxAbsScaler()\n",
    "scaler.fit(features[numeric])\n",
    "\n",
    "features[numeric] = scaler.transform(features[numeric])"
   ]
  },
  {
   "cell_type": "code",
   "execution_count": 33,
   "metadata": {
    "scrolled": false
   },
   "outputs": [
    {
     "data": {
      "text/html": [
       "<div>\n",
       "<style scoped>\n",
       "    .dataframe tbody tr th:only-of-type {\n",
       "        vertical-align: middle;\n",
       "    }\n",
       "\n",
       "    .dataframe tbody tr th {\n",
       "        vertical-align: top;\n",
       "    }\n",
       "\n",
       "    .dataframe thead th {\n",
       "        text-align: right;\n",
       "    }\n",
       "</style>\n",
       "<table border=\"1\" class=\"dataframe\">\n",
       "  <thead>\n",
       "    <tr style=\"text-align: right;\">\n",
       "      <th></th>\n",
       "      <th>datecrawled</th>\n",
       "      <th>registrationyear</th>\n",
       "      <th>power</th>\n",
       "      <th>mileage</th>\n",
       "      <th>registrationmonth</th>\n",
       "      <th>datecreated</th>\n",
       "      <th>numberofpictures</th>\n",
       "      <th>postalcode</th>\n",
       "      <th>lastseen</th>\n",
       "      <th>mileage_censored</th>\n",
       "      <th>...</th>\n",
       "      <th>vehicletype_convertible</th>\n",
       "      <th>vehicletype_coupe</th>\n",
       "      <th>vehicletype_other</th>\n",
       "      <th>vehicletype_sedan</th>\n",
       "      <th>vehicletype_small</th>\n",
       "      <th>vehicletype_suv</th>\n",
       "      <th>vehicletype_unknown</th>\n",
       "      <th>vehicletype_wagon</th>\n",
       "      <th>brand_encoded</th>\n",
       "      <th>model_encoded</th>\n",
       "    </tr>\n",
       "  </thead>\n",
       "  <tbody>\n",
       "    <tr>\n",
       "      <th>0</th>\n",
       "      <td>2016-03-24 11:52:00</td>\n",
       "      <td>0.896940</td>\n",
       "      <td>0.000000</td>\n",
       "      <td>150000</td>\n",
       "      <td>0.000000</td>\n",
       "      <td>2016-03-24</td>\n",
       "      <td>0.0</td>\n",
       "      <td>0.704364</td>\n",
       "      <td>2016-04-07 03:16:00</td>\n",
       "      <td>1.000000</td>\n",
       "      <td>...</td>\n",
       "      <td>0</td>\n",
       "      <td>0</td>\n",
       "      <td>0</td>\n",
       "      <td>0</td>\n",
       "      <td>0</td>\n",
       "      <td>0</td>\n",
       "      <td>1</td>\n",
       "      <td>0</td>\n",
       "      <td>38</td>\n",
       "      <td>116</td>\n",
       "    </tr>\n",
       "    <tr>\n",
       "      <th>1</th>\n",
       "      <td>2016-03-24 10:58:00</td>\n",
       "      <td>0.905041</td>\n",
       "      <td>0.280236</td>\n",
       "      <td>125000</td>\n",
       "      <td>0.416667</td>\n",
       "      <td>2016-03-24</td>\n",
       "      <td>0.0</td>\n",
       "      <td>0.669553</td>\n",
       "      <td>2016-04-07 01:46:00</td>\n",
       "      <td>0.833333</td>\n",
       "      <td>...</td>\n",
       "      <td>0</td>\n",
       "      <td>1</td>\n",
       "      <td>0</td>\n",
       "      <td>0</td>\n",
       "      <td>0</td>\n",
       "      <td>0</td>\n",
       "      <td>0</td>\n",
       "      <td>0</td>\n",
       "      <td>1</td>\n",
       "      <td>228</td>\n",
       "    </tr>\n",
       "    <tr>\n",
       "      <th>2</th>\n",
       "      <td>2016-03-14 12:52:00</td>\n",
       "      <td>0.901890</td>\n",
       "      <td>0.240413</td>\n",
       "      <td>125000</td>\n",
       "      <td>0.666667</td>\n",
       "      <td>2016-03-14</td>\n",
       "      <td>0.0</td>\n",
       "      <td>0.904818</td>\n",
       "      <td>2016-04-05 12:47:00</td>\n",
       "      <td>0.833333</td>\n",
       "      <td>...</td>\n",
       "      <td>0</td>\n",
       "      <td>0</td>\n",
       "      <td>0</td>\n",
       "      <td>0</td>\n",
       "      <td>0</td>\n",
       "      <td>1</td>\n",
       "      <td>0</td>\n",
       "      <td>0</td>\n",
       "      <td>14</td>\n",
       "      <td>117</td>\n",
       "    </tr>\n",
       "    <tr>\n",
       "      <th>3</th>\n",
       "      <td>2016-03-17 16:54:00</td>\n",
       "      <td>0.900540</td>\n",
       "      <td>0.110619</td>\n",
       "      <td>150000</td>\n",
       "      <td>0.500000</td>\n",
       "      <td>2016-03-17</td>\n",
       "      <td>0.0</td>\n",
       "      <td>0.910758</td>\n",
       "      <td>2016-03-17 17:40:00</td>\n",
       "      <td>1.000000</td>\n",
       "      <td>...</td>\n",
       "      <td>0</td>\n",
       "      <td>0</td>\n",
       "      <td>0</td>\n",
       "      <td>0</td>\n",
       "      <td>1</td>\n",
       "      <td>0</td>\n",
       "      <td>0</td>\n",
       "      <td>0</td>\n",
       "      <td>38</td>\n",
       "      <td>116</td>\n",
       "    </tr>\n",
       "    <tr>\n",
       "      <th>4</th>\n",
       "      <td>2016-03-31 17:25:00</td>\n",
       "      <td>0.903690</td>\n",
       "      <td>0.101770</td>\n",
       "      <td>90000</td>\n",
       "      <td>0.583333</td>\n",
       "      <td>2016-03-31</td>\n",
       "      <td>0.0</td>\n",
       "      <td>0.604382</td>\n",
       "      <td>2016-04-06 10:17:00</td>\n",
       "      <td>0.600000</td>\n",
       "      <td>...</td>\n",
       "      <td>0</td>\n",
       "      <td>0</td>\n",
       "      <td>0</td>\n",
       "      <td>0</td>\n",
       "      <td>1</td>\n",
       "      <td>0</td>\n",
       "      <td>0</td>\n",
       "      <td>0</td>\n",
       "      <td>31</td>\n",
       "      <td>101</td>\n",
       "    </tr>\n",
       "    <tr>\n",
       "      <th>5</th>\n",
       "      <td>2016-04-04 17:36:00</td>\n",
       "      <td>0.897840</td>\n",
       "      <td>0.150442</td>\n",
       "      <td>150000</td>\n",
       "      <td>0.833333</td>\n",
       "      <td>2016-04-04</td>\n",
       "      <td>0.0</td>\n",
       "      <td>0.337757</td>\n",
       "      <td>2016-04-06 19:17:00</td>\n",
       "      <td>1.000000</td>\n",
       "      <td>...</td>\n",
       "      <td>0</td>\n",
       "      <td>0</td>\n",
       "      <td>0</td>\n",
       "      <td>1</td>\n",
       "      <td>0</td>\n",
       "      <td>0</td>\n",
       "      <td>0</td>\n",
       "      <td>0</td>\n",
       "      <td>2</td>\n",
       "      <td>11</td>\n",
       "    </tr>\n",
       "    <tr>\n",
       "      <th>6</th>\n",
       "      <td>2016-04-01 20:48:00</td>\n",
       "      <td>0.901890</td>\n",
       "      <td>0.160767</td>\n",
       "      <td>150000</td>\n",
       "      <td>0.666667</td>\n",
       "      <td>2016-04-01</td>\n",
       "      <td>0.0</td>\n",
       "      <td>0.671133</td>\n",
       "      <td>2016-04-05 18:18:00</td>\n",
       "      <td>1.000000</td>\n",
       "      <td>...</td>\n",
       "      <td>1</td>\n",
       "      <td>0</td>\n",
       "      <td>0</td>\n",
       "      <td>0</td>\n",
       "      <td>0</td>\n",
       "      <td>0</td>\n",
       "      <td>0</td>\n",
       "      <td>0</td>\n",
       "      <td>25</td>\n",
       "      <td>8</td>\n",
       "    </tr>\n",
       "    <tr>\n",
       "      <th>7</th>\n",
       "      <td>2016-03-21 18:54:00</td>\n",
       "      <td>0.891089</td>\n",
       "      <td>0.073746</td>\n",
       "      <td>40000</td>\n",
       "      <td>0.583333</td>\n",
       "      <td>2016-03-21</td>\n",
       "      <td>0.0</td>\n",
       "      <td>0.193484</td>\n",
       "      <td>2016-03-25 16:47:00</td>\n",
       "      <td>0.583333</td>\n",
       "      <td>...</td>\n",
       "      <td>0</td>\n",
       "      <td>0</td>\n",
       "      <td>0</td>\n",
       "      <td>1</td>\n",
       "      <td>0</td>\n",
       "      <td>0</td>\n",
       "      <td>0</td>\n",
       "      <td>0</td>\n",
       "      <td>38</td>\n",
       "      <td>166</td>\n",
       "    </tr>\n",
       "    <tr>\n",
       "      <th>8</th>\n",
       "      <td>2016-04-04 23:42:00</td>\n",
       "      <td>0.906391</td>\n",
       "      <td>0.184366</td>\n",
       "      <td>30000</td>\n",
       "      <td>0.666667</td>\n",
       "      <td>2016-04-04</td>\n",
       "      <td>0.0</td>\n",
       "      <td>0.945069</td>\n",
       "      <td>2016-04-04 23:42:00</td>\n",
       "      <td>0.583333</td>\n",
       "      <td>...</td>\n",
       "      <td>0</td>\n",
       "      <td>0</td>\n",
       "      <td>0</td>\n",
       "      <td>0</td>\n",
       "      <td>0</td>\n",
       "      <td>0</td>\n",
       "      <td>0</td>\n",
       "      <td>0</td>\n",
       "      <td>10</td>\n",
       "      <td>60</td>\n",
       "    </tr>\n",
       "    <tr>\n",
       "      <th>9</th>\n",
       "      <td>2016-03-17 10:53:00</td>\n",
       "      <td>0.899190</td>\n",
       "      <td>0.148968</td>\n",
       "      <td>150000</td>\n",
       "      <td>0.000000</td>\n",
       "      <td>2016-03-17</td>\n",
       "      <td>0.0</td>\n",
       "      <td>0.274725</td>\n",
       "      <td>2016-03-31 17:17:00</td>\n",
       "      <td>1.000000</td>\n",
       "      <td>...</td>\n",
       "      <td>0</td>\n",
       "      <td>0</td>\n",
       "      <td>0</td>\n",
       "      <td>0</td>\n",
       "      <td>1</td>\n",
       "      <td>0</td>\n",
       "      <td>0</td>\n",
       "      <td>0</td>\n",
       "      <td>38</td>\n",
       "      <td>116</td>\n",
       "    </tr>\n",
       "  </tbody>\n",
       "</table>\n",
       "<p>10 rows × 35 columns</p>\n",
       "</div>"
      ],
      "text/plain": [
       "          datecrawled  registrationyear     power  mileage  registrationmonth  \\\n",
       "0 2016-03-24 11:52:00          0.896940  0.000000   150000           0.000000   \n",
       "1 2016-03-24 10:58:00          0.905041  0.280236   125000           0.416667   \n",
       "2 2016-03-14 12:52:00          0.901890  0.240413   125000           0.666667   \n",
       "3 2016-03-17 16:54:00          0.900540  0.110619   150000           0.500000   \n",
       "4 2016-03-31 17:25:00          0.903690  0.101770    90000           0.583333   \n",
       "5 2016-04-04 17:36:00          0.897840  0.150442   150000           0.833333   \n",
       "6 2016-04-01 20:48:00          0.901890  0.160767   150000           0.666667   \n",
       "7 2016-03-21 18:54:00          0.891089  0.073746    40000           0.583333   \n",
       "8 2016-04-04 23:42:00          0.906391  0.184366    30000           0.666667   \n",
       "9 2016-03-17 10:53:00          0.899190  0.148968   150000           0.000000   \n",
       "\n",
       "  datecreated  numberofpictures  postalcode            lastseen  \\\n",
       "0  2016-03-24               0.0    0.704364 2016-04-07 03:16:00   \n",
       "1  2016-03-24               0.0    0.669553 2016-04-07 01:46:00   \n",
       "2  2016-03-14               0.0    0.904818 2016-04-05 12:47:00   \n",
       "3  2016-03-17               0.0    0.910758 2016-03-17 17:40:00   \n",
       "4  2016-03-31               0.0    0.604382 2016-04-06 10:17:00   \n",
       "5  2016-04-04               0.0    0.337757 2016-04-06 19:17:00   \n",
       "6  2016-04-01               0.0    0.671133 2016-04-05 18:18:00   \n",
       "7  2016-03-21               0.0    0.193484 2016-03-25 16:47:00   \n",
       "8  2016-04-04               0.0    0.945069 2016-04-04 23:42:00   \n",
       "9  2016-03-17               0.0    0.274725 2016-03-31 17:17:00   \n",
       "\n",
       "   mileage_censored  ...  vehicletype_convertible  vehicletype_coupe  \\\n",
       "0          1.000000  ...                        0                  0   \n",
       "1          0.833333  ...                        0                  1   \n",
       "2          0.833333  ...                        0                  0   \n",
       "3          1.000000  ...                        0                  0   \n",
       "4          0.600000  ...                        0                  0   \n",
       "5          1.000000  ...                        0                  0   \n",
       "6          1.000000  ...                        1                  0   \n",
       "7          0.583333  ...                        0                  0   \n",
       "8          0.583333  ...                        0                  0   \n",
       "9          1.000000  ...                        0                  0   \n",
       "\n",
       "   vehicletype_other  vehicletype_sedan  vehicletype_small  vehicletype_suv  \\\n",
       "0                  0                  0                  0                0   \n",
       "1                  0                  0                  0                0   \n",
       "2                  0                  0                  0                1   \n",
       "3                  0                  0                  1                0   \n",
       "4                  0                  0                  1                0   \n",
       "5                  0                  1                  0                0   \n",
       "6                  0                  0                  0                0   \n",
       "7                  0                  1                  0                0   \n",
       "8                  0                  0                  0                0   \n",
       "9                  0                  0                  1                0   \n",
       "\n",
       "   vehicletype_unknown  vehicletype_wagon  brand_encoded  model_encoded  \n",
       "0                    1                  0             38            116  \n",
       "1                    0                  0              1            228  \n",
       "2                    0                  0             14            117  \n",
       "3                    0                  0             38            116  \n",
       "4                    0                  0             31            101  \n",
       "5                    0                  0              2             11  \n",
       "6                    0                  0             25              8  \n",
       "7                    0                  0             38            166  \n",
       "8                    0                  0             10             60  \n",
       "9                    0                  0             38            116  \n",
       "\n",
       "[10 rows x 35 columns]"
      ]
     },
     "execution_count": 33,
     "metadata": {},
     "output_type": "execute_result"
    }
   ],
   "source": [
    "features.head(10)"
   ]
  },
  {
   "cell_type": "code",
   "execution_count": 34,
   "metadata": {},
   "outputs": [
    {
     "name": "stdout",
     "output_type": "stream",
     "text": [
      "<class 'pandas.core.frame.DataFrame'>\n",
      "Int64Index: 353911 entries, 0 to 354368\n",
      "Data columns (total 35 columns):\n",
      " #   Column                   Non-Null Count   Dtype         \n",
      "---  ------                   --------------   -----         \n",
      " 0   datecrawled              353911 non-null  datetime64[ns]\n",
      " 1   registrationyear         353911 non-null  float64       \n",
      " 2   power                    353911 non-null  float64       \n",
      " 3   mileage                  353911 non-null  int64         \n",
      " 4   registrationmonth        353911 non-null  float64       \n",
      " 5   datecreated              353911 non-null  datetime64[ns]\n",
      " 6   numberofpictures         353911 non-null  float64       \n",
      " 7   postalcode               353911 non-null  float64       \n",
      " 8   lastseen                 353911 non-null  datetime64[ns]\n",
      " 9   mileage_censored         353911 non-null  float64       \n",
      " 10  gearbox_auto             353911 non-null  uint8         \n",
      " 11  gearbox_manual           353911 non-null  uint8         \n",
      " 12  gearbox_unknown          353911 non-null  uint8         \n",
      " 13  fueltype_cng             353911 non-null  uint8         \n",
      " 14  fueltype_electric        353911 non-null  uint8         \n",
      " 15  fueltype_gasoline        353911 non-null  uint8         \n",
      " 16  fueltype_hybrid          353911 non-null  uint8         \n",
      " 17  fueltype_lpg             353911 non-null  uint8         \n",
      " 18  fueltype_other           353911 non-null  uint8         \n",
      " 19  fueltype_petrol          353911 non-null  uint8         \n",
      " 20  fueltype_unknown         353911 non-null  uint8         \n",
      " 21  notrepaired_no           353911 non-null  uint8         \n",
      " 22  notrepaired_unknown      353911 non-null  uint8         \n",
      " 23  notrepaired_yes          353911 non-null  uint8         \n",
      " 24  vehicletype_bus          353911 non-null  uint8         \n",
      " 25  vehicletype_convertible  353911 non-null  uint8         \n",
      " 26  vehicletype_coupe        353911 non-null  uint8         \n",
      " 27  vehicletype_other        353911 non-null  uint8         \n",
      " 28  vehicletype_sedan        353911 non-null  uint8         \n",
      " 29  vehicletype_small        353911 non-null  uint8         \n",
      " 30  vehicletype_suv          353911 non-null  uint8         \n",
      " 31  vehicletype_unknown      353911 non-null  uint8         \n",
      " 32  vehicletype_wagon        353911 non-null  uint8         \n",
      " 33  brand_encoded            353911 non-null  int64         \n",
      " 34  model_encoded            353911 non-null  int64         \n",
      "dtypes: datetime64[ns](3), float64(6), int64(3), uint8(23)\n",
      "memory usage: 42.9 MB\n"
     ]
    }
   ],
   "source": [
    "features.info()"
   ]
  },
  {
   "cell_type": "code",
   "execution_count": 35,
   "metadata": {},
   "outputs": [],
   "source": [
    "# removendo colunas desnecessárias nas features\n",
    "features.drop(columns=['datecrawled','mileage','datecreated','lastseen'],inplace=True)"
   ]
  },
  {
   "cell_type": "code",
   "execution_count": 36,
   "metadata": {},
   "outputs": [],
   "source": [
    "# removendo observações do target\n",
    "target = target.drop(target.index[outlier_indices])"
   ]
  },
  {
   "cell_type": "code",
   "execution_count": 37,
   "metadata": {},
   "outputs": [],
   "source": [
    "# criando os conjuntos de treinamento e validação\n",
    "features_train,features_valid,target_train,target_valid = train_test_split(features,target,test_size=.25,random_state=12345)"
   ]
  },
  {
   "cell_type": "code",
   "execution_count": 38,
   "metadata": {},
   "outputs": [
    {
     "data": {
      "text/plain": [
       "((265433, 31), (88478, 31))"
      ]
     },
     "execution_count": 38,
     "metadata": {},
     "output_type": "execute_result"
    }
   ],
   "source": [
    "features_train.shape, features_valid.shape"
   ]
  },
  {
   "cell_type": "markdown",
   "metadata": {},
   "source": [
    "## Model Training"
   ]
  },
  {
   "cell_type": "code",
   "execution_count": 39,
   "metadata": {},
   "outputs": [
    {
     "name": "stdout",
     "output_type": "stream",
     "text": [
      "Linear Regression:\n",
      "RMSE: 3117.35\n",
      "R²: 0.52\n"
     ]
    }
   ],
   "source": [
    "# treinando regressão linear\n",
    "\n",
    "lr_reg = LinearRegression()\n",
    "lr_reg.fit(features_train, target_train)\n",
    "pred_linear = lr_reg.predict(features_valid)\n",
    "rmse_linear = np.sqrt(mean_squared_error(target_valid, pred_linear))\n",
    "r2_linear = r2_score(target_valid,pred_linear)\n",
    "print(\"Linear Regression:\")\n",
    "print(f\"RMSE: {rmse_linear:.2f}\")\n",
    "print(f\"R²: {r2_linear:.2f}\")"
   ]
  },
  {
   "cell_type": "code",
   "execution_count": 40,
   "metadata": {},
   "outputs": [
    {
     "name": "stdout",
     "output_type": "stream",
     "text": [
      "CPU times: user 9 µs, sys: 0 ns, total: 9 µs\n",
      "Wall time: 5.96 µs\n",
      "Decision Tree Regression:\n",
      "RMSE: 2354.84\n",
      "R²: 0.73\n"
     ]
    }
   ],
   "source": [
    "# treinando decision tree\n",
    "%time\n",
    "tree_reg = DecisionTreeRegressor()\n",
    "tree_reg.fit(features_train, target_train)\n",
    "pred_tree = tree_reg.predict(features_valid)\n",
    "rmse_tree = np.sqrt(mean_squared_error(target_valid, pred_tree))\n",
    "r2_tree = r2_score(target_valid, pred_tree)\n",
    "print(\"Decision Tree Regression:\")\n",
    "print(f\"RMSE: {rmse_tree:.2f}\")\n",
    "print(f\"R²: {r2_tree:.2f}\")"
   ]
  },
  {
   "cell_type": "code",
   "execution_count": 41,
   "metadata": {},
   "outputs": [
    {
     "name": "stdout",
     "output_type": "stream",
     "text": [
      "CPU times: user 3 µs, sys: 0 ns, total: 3 µs\n",
      "Wall time: 6.2 µs\n",
      "Random Forest Regression:\n",
      "RMSE: 1818.85\n",
      "R²: 0.84\n"
     ]
    }
   ],
   "source": [
    "# treinando random forest\n",
    "%time\n",
    "rf_reg = RandomForestRegressor(n_estimators=10)\n",
    "rf_reg.fit(features_train, target_train)\n",
    "pred_rf = rf_reg.predict(features_valid)\n",
    "rmse_rf = np.sqrt(mean_squared_error(target_valid, pred_rf))\n",
    "r2_rf = r2_score(target_valid, pred_rf)\n",
    "print(\"Random Forest Regression:\")\n",
    "print(f\"RMSE: {rmse_rf:.2f}\")\n",
    "print(f\"R²: {r2_rf:.2f}\")"
   ]
  },
  {
   "cell_type": "code",
   "execution_count": 43,
   "metadata": {},
   "outputs": [
    {
     "name": "stdout",
     "output_type": "stream",
     "text": [
      "Linear Regression:\n",
      "RMSE: 3117.35\n"
     ]
    }
   ],
   "source": [
    "lr_t0 = time.perf_counter()\n",
    "# otimizando Linear Regression\n",
    "\n",
    "lr_reg = LinearRegression(copy_X=True, fit_intercept=False,normalize=True)\n",
    "lr_reg.fit(features_train,target_train)\n",
    "\n",
    "# previsões\n",
    "pred_lr = lr_reg.predict(features_valid)\n",
    "\n",
    "# calculando mean squared error\n",
    "rmse_lr = np.sqrt(mean_squared_error(target_valid, pred_lr))\n",
    "\n",
    "print(\"Linear Regression:\")\n",
    "\n",
    "print(f\"RMSE: {rmse_lr:.2f}\")\n",
    "\n",
    "lr_t1 = time.perf_counter()\n",
    "lr_time = lr_t1 - lr_t0"
   ]
  },
  {
   "cell_type": "code",
   "execution_count": 44,
   "metadata": {},
   "outputs": [
    {
     "name": "stdout",
     "output_type": "stream",
     "text": [
      "Decision Tree Regressor:\n",
      "RMSE: 2001.72\n"
     ]
    }
   ],
   "source": [
    "dt_t0 = time.perf_counter()\n",
    "# otimizando Decision Tree Regressor\n",
    "\n",
    "tree_reg = DecisionTreeRegressor(max_depth=15,min_samples_leaf=10, min_samples_split=2)\n",
    "tree_reg.fit(features_train, target_train)\n",
    "\n",
    "# previsões\n",
    "pred_dt = tree_reg.predict(features_valid)\n",
    "\n",
    "# calculando mean squared error\n",
    "rmse_dt = np.sqrt(mean_squared_error(target_valid, pred_dt))\n",
    "\n",
    "print(\"Decision Tree Regressor:\")\n",
    "print(f\"RMSE: {rmse_dt:.2f}\")\n",
    "\n",
    "dt_t1 = time.perf_counter()\n",
    "dt_time = dt_t1 - dt_t0"
   ]
  },
  {
   "cell_type": "code",
   "execution_count": 45,
   "metadata": {},
   "outputs": [
    {
     "name": "stdout",
     "output_type": "stream",
     "text": [
      "Random Forest Regressor:\n",
      "RMSE: 2028.79\n"
     ]
    }
   ],
   "source": [
    "rf_t0 = time.perf_counter()\n",
    "# otimizando Random Forest Regressor\n",
    "rf_reg = RandomForestRegressor(n_estimators=50, max_depth=10, min_samples_split=5)\n",
    "rf_reg.fit(features_train, target_train)\n",
    "\n",
    "# previsões\n",
    "pred_rf = rf_reg.predict(features_valid)\n",
    "\n",
    "# calculando mean squared error\n",
    "rmse_rf = np.sqrt(mean_squared_error(target_valid, pred_rf))\n",
    "\n",
    "print(\"Random Forest Regressor:\")\n",
    "print(f\"RMSE: {rmse_rf:.2f}\")\n",
    "\n",
    "rf_t1 = time.perf_counter()\n",
    "rf_time = rf_t1 - rf_t0"
   ]
  },
  {
   "cell_type": "code",
   "execution_count": 47,
   "metadata": {},
   "outputs": [
    {
     "name": "stdout",
     "output_type": "stream",
     "text": [
      "LightGBM:\n",
      "RMSE: 2002.55\n"
     ]
    }
   ],
   "source": [
    "lgb_t0 = time.perf_counter()\n",
    "# treinando modelo otimizado com LGB\n",
    "\n",
    "lgb_reg = lgb.LGBMRegressor(learning_rate=0.1, max_depth=7, n_estimators=50, num_leaves=20)\n",
    "lgb_reg.fit(features_train, target_train)\n",
    "\n",
    "# previsões\n",
    "pred_lgb = lgb_reg.predict(features_valid)\n",
    "\n",
    "# calculando mean squared error\n",
    "rmse_lgb = np.sqrt(mean_squared_error(target_valid, pred_lgb))\n",
    "\n",
    "print(\"LightGBM:\")\n",
    "print(f'RMSE: {rmse_lgb:.2f}')\n",
    "\n",
    "lgb_t1 = time.perf_counter()\n",
    "lgb_time = lgb_t1 - lgb_t0"
   ]
  },
  {
   "cell_type": "code",
   "execution_count": 48,
   "metadata": {},
   "outputs": [
    {
     "name": "stdout",
     "output_type": "stream",
     "text": [
      "GradientBoostingRegressor:\n",
      "RMSE: 1929.93\n"
     ]
    }
   ],
   "source": [
    "gb_t0 = time.perf_counter()\n",
    "# treinando modelo otimizado com GradientBoostingRegressor\n",
    "\n",
    "gb_reg = GradientBoostingRegressor(learning_rate=0.5, max_depth=7, max_features='sqrt', n_estimators=50, subsample=0.8)\n",
    "gb_reg.fit(features_train, target_train)\n",
    "\n",
    "# previsões\n",
    "pred_gb = gb_reg.predict(features_valid)\n",
    "\n",
    "# calculando mean squared error\n",
    "rmse_gb = np.sqrt(mean_squared_error(target_valid, pred_gb))\n",
    "\n",
    "print(\"GradientBoostingRegressor:\")\n",
    "print(f'RMSE: {rmse_gb:.2f}')\n",
    "\n",
    "gb_t1 = time.perf_counter()\n",
    "gb_time = gb_t1 - gb_t0"
   ]
  },
  {
   "cell_type": "code",
   "execution_count": 49,
   "metadata": {
    "scrolled": true
   },
   "outputs": [
    {
     "name": "stdout",
     "output_type": "stream",
     "text": [
      "0:\tlearn: 3242.7498281\ttotal: 116ms\tremaining: 5.67s\n",
      "1:\tlearn: 2666.3624162\ttotal: 182ms\tremaining: 4.36s\n",
      "2:\tlearn: 2398.8063770\ttotal: 244ms\tremaining: 3.83s\n",
      "3:\tlearn: 2283.2986316\ttotal: 304ms\tremaining: 3.5s\n",
      "4:\tlearn: 2194.9093136\ttotal: 367ms\tremaining: 3.31s\n",
      "5:\tlearn: 2150.6101603\ttotal: 425ms\tremaining: 3.11s\n",
      "6:\tlearn: 2123.2079509\ttotal: 478ms\tremaining: 2.94s\n",
      "7:\tlearn: 2076.5930507\ttotal: 548ms\tremaining: 2.87s\n",
      "8:\tlearn: 2052.2592353\ttotal: 607ms\tremaining: 2.76s\n",
      "9:\tlearn: 2037.0943331\ttotal: 668ms\tremaining: 2.67s\n",
      "10:\tlearn: 2014.3136262\ttotal: 731ms\tremaining: 2.59s\n",
      "11:\tlearn: 2000.1718183\ttotal: 793ms\tremaining: 2.51s\n",
      "12:\tlearn: 1987.2049958\ttotal: 852ms\tremaining: 2.43s\n",
      "13:\tlearn: 1975.9366144\ttotal: 918ms\tremaining: 2.36s\n",
      "14:\tlearn: 1970.5574688\ttotal: 976ms\tremaining: 2.28s\n",
      "15:\tlearn: 1959.7188297\ttotal: 1.04s\tremaining: 2.21s\n",
      "16:\tlearn: 1949.7738213\ttotal: 1.1s\tremaining: 2.13s\n",
      "17:\tlearn: 1943.8406892\ttotal: 1.15s\tremaining: 2.04s\n",
      "18:\tlearn: 1933.5912553\ttotal: 1.21s\tremaining: 1.97s\n",
      "19:\tlearn: 1927.6321403\ttotal: 1.27s\tremaining: 1.91s\n",
      "20:\tlearn: 1923.0940894\ttotal: 1.34s\tremaining: 1.85s\n",
      "21:\tlearn: 1913.5695597\ttotal: 1.41s\tremaining: 1.79s\n",
      "22:\tlearn: 1907.0807351\ttotal: 1.46s\tremaining: 1.72s\n",
      "23:\tlearn: 1902.6464935\ttotal: 1.52s\tremaining: 1.65s\n",
      "24:\tlearn: 1896.0124893\ttotal: 1.59s\tremaining: 1.59s\n",
      "25:\tlearn: 1891.2491361\ttotal: 1.65s\tremaining: 1.52s\n",
      "26:\tlearn: 1887.9355619\ttotal: 1.71s\tremaining: 1.45s\n",
      "27:\tlearn: 1884.0999943\ttotal: 1.76s\tremaining: 1.39s\n",
      "28:\tlearn: 1880.2832832\ttotal: 1.82s\tremaining: 1.32s\n",
      "29:\tlearn: 1875.6624412\ttotal: 1.88s\tremaining: 1.26s\n",
      "30:\tlearn: 1872.3893887\ttotal: 1.94s\tremaining: 1.19s\n",
      "31:\tlearn: 1869.0941416\ttotal: 2s\tremaining: 1.12s\n",
      "32:\tlearn: 1864.6214187\ttotal: 2.07s\tremaining: 1.07s\n",
      "33:\tlearn: 1860.7862891\ttotal: 2.13s\tremaining: 1s\n",
      "34:\tlearn: 1857.9517815\ttotal: 2.17s\tremaining: 932ms\n",
      "35:\tlearn: 1852.8723652\ttotal: 2.23s\tremaining: 869ms\n",
      "36:\tlearn: 1850.2873854\ttotal: 2.28s\tremaining: 802ms\n",
      "37:\tlearn: 1846.6951910\ttotal: 2.34s\tremaining: 739ms\n",
      "38:\tlearn: 1842.7943397\ttotal: 2.4s\tremaining: 678ms\n",
      "39:\tlearn: 1838.9383760\ttotal: 2.47s\tremaining: 618ms\n",
      "40:\tlearn: 1835.7903091\ttotal: 2.52s\tremaining: 554ms\n",
      "41:\tlearn: 1832.4654059\ttotal: 2.58s\tremaining: 492ms\n",
      "42:\tlearn: 1830.5400947\ttotal: 2.64s\tremaining: 430ms\n",
      "43:\tlearn: 1827.6547711\ttotal: 2.7s\tremaining: 368ms\n",
      "44:\tlearn: 1824.2583741\ttotal: 2.77s\tremaining: 307ms\n",
      "45:\tlearn: 1821.7795079\ttotal: 2.83s\tremaining: 246ms\n",
      "46:\tlearn: 1817.2943757\ttotal: 2.9s\tremaining: 185ms\n",
      "47:\tlearn: 1814.2678641\ttotal: 2.96s\tremaining: 124ms\n",
      "48:\tlearn: 1812.3754877\ttotal: 3.02s\tremaining: 61.7ms\n",
      "49:\tlearn: 1809.6830636\ttotal: 3.08s\tremaining: 0us\n",
      "CatBoost Regressor:\n",
      "RMSE: 1867.96\n"
     ]
    }
   ],
   "source": [
    "cat_t0 = time.perf_counter()\n",
    "# treinando modelo otimizado com CatBoost\n",
    "\n",
    "cat_reg = CatBoostRegressor(depth=7, iterations=50, l2_leaf_reg=0.1, learning_rate=0.5)\n",
    "cat_reg.fit(features_train, target_train)\n",
    "\n",
    "# previsões\n",
    "pred_cat = cat_reg.predict(features_valid)\n",
    "\n",
    "# calculando mean squared error\n",
    "rmse_cat = np.sqrt(mean_squared_error(target_valid, pred_cat))\n",
    "\n",
    "print(\"CatBoost Regressor:\")\n",
    "print(f'RMSE: {rmse_cat:.2f}')\n",
    "\n",
    "cat_t1 = time.perf_counter()\n",
    "cat_time = cat_t1 - cat_t0"
   ]
  },
  {
   "cell_type": "code",
   "execution_count": 50,
   "metadata": {},
   "outputs": [
    {
     "name": "stdout",
     "output_type": "stream",
     "text": [
      "XGBoost Regressor:\n",
      "RMSE: 1818.23\n"
     ]
    }
   ],
   "source": [
    "xgb_t0 = time.perf_counter()\n",
    "# treinando modelo otimizado com XGBoost Regressor\n",
    "\n",
    "xgb_reg = XGBRegressor(gamma=0, learning_rate=0.5, max_depth=7, n_estimators=50)\n",
    "xgb_reg.fit(features_train, target_train)\n",
    "\n",
    "# previsões\n",
    "pred_xgb = xgb_reg.predict(features_valid)\n",
    "\n",
    "# calculando mean squared error\n",
    "rmse_xgb = np.sqrt(mean_squared_error(target_valid, pred_xgb))\n",
    "\n",
    "print(\"XGBoost Regressor:\")\n",
    "print(f'RMSE: {rmse_xgb:.2f}')\n",
    "\n",
    "xgb_t1 = time.perf_counter()\n",
    "xgb_time = xgb_t1 - xgb_t0"
   ]
  },
  {
   "cell_type": "markdown",
   "metadata": {},
   "source": [
    "## Model Analysis"
   ]
  },
  {
   "cell_type": "code",
   "execution_count": 51,
   "metadata": {
    "scrolled": true
   },
   "outputs": [
    {
     "name": "stdout",
     "output_type": "stream",
     "text": [
      "          Model Name         RMSE    Time(s)\n",
      "0  Linear Regression  3117.352007   0.631018\n",
      "1      Decision Tree  2001.718420   2.303014\n",
      "2      Random Forest  2028.791328  56.139108\n",
      "3            LightGB  2002.553863   3.127458\n",
      "4   GradientBoosting  1929.929530  11.883024\n",
      "5           CatBoost  1867.959478   3.600214\n",
      "6            XGBoost  1818.232296  45.313120\n"
     ]
    }
   ],
   "source": [
    "# Criando um dicionário e dataframe para consolidar os nomes dos modelos e MSEs\n",
    "mse_dict = {\n",
    "    'Model Name': ['Linear Regression', 'Decision Tree','Random Forest','LightGB','GradientBoosting','CatBoost', 'XGBoost'],\n",
    "    'RMSE': [rmse_lr, rmse_dt, rmse_rf, rmse_lgb, rmse_gb, rmse_cat, rmse_xgb],\n",
    "    'Time(s)': [lr_time, dt_time, rf_time, lgb_time, gb_time, cat_time, xgb_time]\n",
    "}\n",
    "\n",
    "mse_df = pd.DataFrame(mse_dict)\n",
    "\n",
    "print(mse_df)"
   ]
  },
  {
   "cell_type": "markdown",
   "metadata": {},
   "source": [
    "## Conclusion\n",
    "The most accurate model was **XGBoost** with an **RMSE of 1818**, but it was the second slowest in terms of training time (**45 seconds**). The **CatBoost** model was the second most accurate (**RMSE of 1868**), with a significantly faster training time of just **3.6 seconds**.\n"
   ]
  }
 ],
 "metadata": {
  "ExecuteTimeLog": [
   {
    "duration": 16,
    "start_time": "2024-07-24T18:22:15.932Z"
   },
   {
    "duration": 1383,
    "start_time": "2024-07-24T18:22:19.493Z"
   },
   {
    "duration": 865,
    "start_time": "2024-07-24T18:23:03.429Z"
   },
   {
    "duration": 40,
    "start_time": "2024-07-24T18:23:13.877Z"
   },
   {
    "duration": 146,
    "start_time": "2024-07-24T18:23:33.855Z"
   },
   {
    "duration": 216,
    "start_time": "2024-07-24T18:25:43.436Z"
   },
   {
    "duration": 40,
    "start_time": "2024-07-24T18:32:11.238Z"
   },
   {
    "duration": 73,
    "start_time": "2024-07-24T18:32:25.535Z"
   },
   {
    "duration": 73,
    "start_time": "2024-07-24T18:32:33.207Z"
   },
   {
    "duration": 71,
    "start_time": "2024-07-24T18:32:44.743Z"
   },
   {
    "duration": 71,
    "start_time": "2024-07-24T18:32:50.761Z"
   },
   {
    "duration": 105,
    "start_time": "2024-07-24T18:33:29.839Z"
   },
   {
    "duration": 139,
    "start_time": "2024-07-24T18:33:51.864Z"
   },
   {
    "duration": 188,
    "start_time": "2024-07-24T18:34:28.611Z"
   },
   {
    "duration": 172,
    "start_time": "2024-07-24T18:34:43.836Z"
   },
   {
    "duration": 32,
    "start_time": "2024-07-24T20:01:08.936Z"
   },
   {
    "duration": 4,
    "start_time": "2024-07-24T20:01:20.439Z"
   },
   {
    "duration": 79391,
    "start_time": "2024-07-24T20:03:19.504Z"
   },
   {
    "duration": 36,
    "start_time": "2024-07-24T20:05:08.778Z"
   },
   {
    "duration": 1280,
    "start_time": "2024-07-24T20:08:06.673Z"
   },
   {
    "duration": 743,
    "start_time": "2024-07-24T20:08:07.956Z"
   },
   {
    "duration": 42,
    "start_time": "2024-07-24T20:08:08.702Z"
   },
   {
    "duration": 171,
    "start_time": "2024-07-24T20:08:08.747Z"
   },
   {
    "duration": 145,
    "start_time": "2024-07-24T20:08:08.922Z"
   },
   {
    "duration": 194,
    "start_time": "2024-07-24T20:08:09.069Z"
   },
   {
    "duration": 4,
    "start_time": "2024-07-24T20:08:09.267Z"
   },
   {
    "duration": 2955,
    "start_time": "2024-07-24T20:08:21.318Z"
   },
   {
    "duration": 39,
    "start_time": "2024-07-24T20:08:27.304Z"
   },
   {
    "duration": 83,
    "start_time": "2024-07-24T20:22:17.051Z"
   },
   {
    "duration": 1250,
    "start_time": "2024-07-24T20:23:54.860Z"
   },
   {
    "duration": 79,
    "start_time": "2024-07-24T20:24:22.722Z"
   },
   {
    "duration": 13,
    "start_time": "2024-07-24T20:26:32.705Z"
   },
   {
    "duration": 1291,
    "start_time": "2024-07-24T20:27:05.335Z"
   },
   {
    "duration": 733,
    "start_time": "2024-07-24T20:27:06.630Z"
   },
   {
    "duration": 46,
    "start_time": "2024-07-24T20:27:07.366Z"
   },
   {
    "duration": 146,
    "start_time": "2024-07-24T20:27:07.415Z"
   },
   {
    "duration": 151,
    "start_time": "2024-07-24T20:27:07.565Z"
   },
   {
    "duration": 212,
    "start_time": "2024-07-24T20:27:07.718Z"
   },
   {
    "duration": 156,
    "start_time": "2024-07-24T20:27:13.088Z"
   },
   {
    "duration": 2881,
    "start_time": "2024-07-24T20:27:18.323Z"
   },
   {
    "duration": 1258,
    "start_time": "2024-07-24T20:27:25.400Z"
   },
   {
    "duration": 13,
    "start_time": "2024-07-24T20:27:39.572Z"
   },
   {
    "duration": 1284,
    "start_time": "2024-07-24T20:28:05.416Z"
   },
   {
    "duration": 730,
    "start_time": "2024-07-24T20:28:06.705Z"
   },
   {
    "duration": 39,
    "start_time": "2024-07-24T20:28:07.439Z"
   },
   {
    "duration": 167,
    "start_time": "2024-07-24T20:28:07.481Z"
   },
   {
    "duration": 155,
    "start_time": "2024-07-24T20:28:07.652Z"
   },
   {
    "duration": 192,
    "start_time": "2024-07-24T20:28:07.810Z"
   },
   {
    "duration": 166,
    "start_time": "2024-07-24T20:28:08.004Z"
   },
   {
    "duration": 2925,
    "start_time": "2024-07-24T20:28:15.119Z"
   },
   {
    "duration": 39,
    "start_time": "2024-07-24T20:28:40.587Z"
   },
   {
    "duration": 1298,
    "start_time": "2024-07-24T20:29:12.903Z"
   },
   {
    "duration": 739,
    "start_time": "2024-07-24T20:29:14.207Z"
   },
   {
    "duration": 40,
    "start_time": "2024-07-24T20:29:14.949Z"
   },
   {
    "duration": 154,
    "start_time": "2024-07-24T20:29:15.007Z"
   },
   {
    "duration": 148,
    "start_time": "2024-07-24T20:29:15.165Z"
   },
   {
    "duration": 230,
    "start_time": "2024-07-24T20:29:15.316Z"
   },
   {
    "duration": 165,
    "start_time": "2024-07-24T20:29:15.549Z"
   },
   {
    "duration": 2922,
    "start_time": "2024-07-24T20:29:15.716Z"
   },
   {
    "duration": 278,
    "start_time": "2024-07-24T20:33:41.316Z"
   },
   {
    "duration": 788,
    "start_time": "2024-07-24T20:35:13.693Z"
   },
   {
    "duration": 1301,
    "start_time": "2024-07-24T20:35:30.986Z"
   },
   {
    "duration": 716,
    "start_time": "2024-07-24T20:35:32.291Z"
   },
   {
    "duration": 39,
    "start_time": "2024-07-24T20:35:33.010Z"
   },
   {
    "duration": 164,
    "start_time": "2024-07-24T20:35:33.052Z"
   },
   {
    "duration": 147,
    "start_time": "2024-07-24T20:35:33.220Z"
   },
   {
    "duration": 194,
    "start_time": "2024-07-24T20:35:33.370Z"
   },
   {
    "duration": 155,
    "start_time": "2024-07-24T20:35:33.567Z"
   },
   {
    "duration": 2996,
    "start_time": "2024-07-24T20:35:33.725Z"
   },
   {
    "duration": 381,
    "start_time": "2024-07-24T20:35:51.379Z"
   },
   {
    "duration": 1399,
    "start_time": "2024-07-24T20:36:25.494Z"
   },
   {
    "duration": 801,
    "start_time": "2024-07-24T20:36:26.897Z"
   },
   {
    "duration": 43,
    "start_time": "2024-07-24T20:36:27.701Z"
   },
   {
    "duration": 177,
    "start_time": "2024-07-24T20:36:27.749Z"
   },
   {
    "duration": 176,
    "start_time": "2024-07-24T20:36:27.931Z"
   },
   {
    "duration": 198,
    "start_time": "2024-07-24T20:36:28.111Z"
   },
   {
    "duration": 159,
    "start_time": "2024-07-24T20:36:28.312Z"
   },
   {
    "duration": 3241,
    "start_time": "2024-07-24T20:36:28.474Z"
   },
   {
    "duration": 380,
    "start_time": "2024-07-24T20:36:34.989Z"
   },
   {
    "duration": 577,
    "start_time": "2024-07-24T20:37:33.901Z"
   },
   {
    "duration": 57,
    "start_time": "2024-07-24T20:38:54.028Z"
   },
   {
    "duration": 57,
    "start_time": "2024-07-24T20:43:06.745Z"
   },
   {
    "duration": 138,
    "start_time": "2024-07-24T20:45:33.535Z"
   },
   {
    "duration": 149,
    "start_time": "2024-07-24T20:45:44.765Z"
   },
   {
    "duration": 56,
    "start_time": "2024-07-24T20:45:56.163Z"
   },
   {
    "duration": 65,
    "start_time": "2024-07-24T20:46:00.862Z"
   },
   {
    "duration": 222,
    "start_time": "2024-07-24T20:47:38.367Z"
   },
   {
    "duration": 1338,
    "start_time": "2024-07-24T20:48:17.495Z"
   },
   {
    "duration": 719,
    "start_time": "2024-07-24T20:48:18.836Z"
   },
   {
    "duration": 61,
    "start_time": "2024-07-24T20:48:19.558Z"
   },
   {
    "duration": 146,
    "start_time": "2024-07-24T20:48:19.622Z"
   },
   {
    "duration": 145,
    "start_time": "2024-07-24T20:48:19.773Z"
   },
   {
    "duration": 198,
    "start_time": "2024-07-24T20:48:19.921Z"
   },
   {
    "duration": 146,
    "start_time": "2024-07-24T20:48:20.122Z"
   },
   {
    "duration": 2954,
    "start_time": "2024-07-24T20:48:20.271Z"
   },
   {
    "duration": 373,
    "start_time": "2024-07-24T20:48:23.228Z"
   },
   {
    "duration": 71,
    "start_time": "2024-07-24T20:49:07.918Z"
   },
   {
    "duration": 65,
    "start_time": "2024-07-24T20:49:31.929Z"
   },
   {
    "duration": 7,
    "start_time": "2024-07-24T20:50:52.586Z"
   },
   {
    "duration": 38,
    "start_time": "2024-07-24T20:50:56.022Z"
   },
   {
    "duration": 40,
    "start_time": "2024-07-24T20:51:00.198Z"
   },
   {
    "duration": 64,
    "start_time": "2024-07-24T20:51:58.094Z"
   },
   {
    "duration": 81,
    "start_time": "2024-07-24T20:52:25.474Z"
   },
   {
    "duration": 1257,
    "start_time": "2024-07-24T20:52:44.652Z"
   },
   {
    "duration": 711,
    "start_time": "2024-07-24T20:52:45.914Z"
   },
   {
    "duration": 39,
    "start_time": "2024-07-24T20:52:46.628Z"
   },
   {
    "duration": 166,
    "start_time": "2024-07-24T20:52:46.669Z"
   },
   {
    "duration": 150,
    "start_time": "2024-07-24T20:52:46.839Z"
   },
   {
    "duration": 192,
    "start_time": "2024-07-24T20:52:46.992Z"
   },
   {
    "duration": 151,
    "start_time": "2024-07-24T20:52:47.187Z"
   },
   {
    "duration": 2989,
    "start_time": "2024-07-24T20:52:47.341Z"
   },
   {
    "duration": 389,
    "start_time": "2024-07-24T20:52:50.334Z"
   },
   {
    "duration": 78,
    "start_time": "2024-07-24T20:52:58.979Z"
   },
   {
    "duration": 401,
    "start_time": "2024-07-24T20:54:29.594Z"
   },
   {
    "duration": 247,
    "start_time": "2024-07-24T20:54:37.609Z"
   },
   {
    "duration": 149,
    "start_time": "2024-07-24T20:55:00.867Z"
   },
   {
    "duration": 180,
    "start_time": "2024-07-24T20:55:13.282Z"
   },
   {
    "duration": 11,
    "start_time": "2024-07-24T20:57:40.357Z"
   },
   {
    "duration": 15,
    "start_time": "2024-07-24T20:58:00.228Z"
   },
   {
    "duration": 119,
    "start_time": "2024-07-24T20:58:10.688Z"
   },
   {
    "duration": 1300,
    "start_time": "2024-07-24T20:59:03.913Z"
   },
   {
    "duration": 720,
    "start_time": "2024-07-24T20:59:05.216Z"
   },
   {
    "duration": 47,
    "start_time": "2024-07-24T20:59:05.939Z"
   },
   {
    "duration": 173,
    "start_time": "2024-07-24T20:59:05.989Z"
   },
   {
    "duration": 150,
    "start_time": "2024-07-24T20:59:06.167Z"
   },
   {
    "duration": 196,
    "start_time": "2024-07-24T20:59:06.320Z"
   },
   {
    "duration": 157,
    "start_time": "2024-07-24T20:59:06.520Z"
   },
   {
    "duration": 2979,
    "start_time": "2024-07-24T20:59:06.679Z"
   },
   {
    "duration": 384,
    "start_time": "2024-07-24T20:59:09.660Z"
   },
   {
    "duration": 255,
    "start_time": "2024-07-24T20:59:10.047Z"
   },
   {
    "duration": 340,
    "start_time": "2024-07-24T20:59:18.572Z"
   },
   {
    "duration": 1283,
    "start_time": "2024-07-24T21:00:21.315Z"
   },
   {
    "duration": 738,
    "start_time": "2024-07-24T21:00:22.606Z"
   },
   {
    "duration": 39,
    "start_time": "2024-07-24T21:00:23.347Z"
   },
   {
    "duration": 157,
    "start_time": "2024-07-24T21:00:23.405Z"
   },
   {
    "duration": 173,
    "start_time": "2024-07-24T21:00:23.568Z"
   },
   {
    "duration": 196,
    "start_time": "2024-07-24T21:00:23.746Z"
   },
   {
    "duration": 161,
    "start_time": "2024-07-24T21:00:23.945Z"
   },
   {
    "duration": 2958,
    "start_time": "2024-07-24T21:00:24.108Z"
   },
   {
    "duration": 132,
    "start_time": "2024-07-24T21:00:27.070Z"
   },
   {
    "duration": 362,
    "start_time": "2024-07-24T21:00:27.205Z"
   },
   {
    "duration": 370,
    "start_time": "2024-07-24T21:00:27.570Z"
   },
   {
    "duration": 5,
    "start_time": "2024-07-24T21:09:31.010Z"
   },
   {
    "duration": 191,
    "start_time": "2024-07-24T23:08:53.663Z"
   },
   {
    "duration": 1284,
    "start_time": "2024-07-24T23:15:26.875Z"
   },
   {
    "duration": 733,
    "start_time": "2024-07-24T23:15:28.162Z"
   },
   {
    "duration": 44,
    "start_time": "2024-07-24T23:15:28.898Z"
   },
   {
    "duration": 164,
    "start_time": "2024-07-24T23:15:28.945Z"
   },
   {
    "duration": 151,
    "start_time": "2024-07-24T23:15:29.114Z"
   },
   {
    "duration": 235,
    "start_time": "2024-07-24T23:15:29.268Z"
   },
   {
    "duration": 156,
    "start_time": "2024-07-24T23:15:29.506Z"
   },
   {
    "duration": 2873,
    "start_time": "2024-07-24T23:15:29.665Z"
   },
   {
    "duration": 136,
    "start_time": "2024-07-24T23:15:32.541Z"
   },
   {
    "duration": 522,
    "start_time": "2024-07-24T23:15:32.679Z"
   },
   {
    "duration": 453,
    "start_time": "2024-07-24T23:15:33.207Z"
   },
   {
    "duration": 172,
    "start_time": "2024-07-24T23:15:33.662Z"
   },
   {
    "duration": 345,
    "start_time": "2024-07-24T23:16:11.643Z"
   },
   {
    "duration": 1396,
    "start_time": "2024-07-24T23:16:33.381Z"
   },
   {
    "duration": 715,
    "start_time": "2024-07-24T23:16:34.783Z"
   },
   {
    "duration": 39,
    "start_time": "2024-07-24T23:16:35.500Z"
   },
   {
    "duration": 166,
    "start_time": "2024-07-24T23:16:35.542Z"
   },
   {
    "duration": 149,
    "start_time": "2024-07-24T23:16:35.712Z"
   },
   {
    "duration": 222,
    "start_time": "2024-07-24T23:16:35.863Z"
   },
   {
    "duration": 150,
    "start_time": "2024-07-24T23:16:36.088Z"
   },
   {
    "duration": 3004,
    "start_time": "2024-07-24T23:16:36.242Z"
   },
   {
    "duration": 137,
    "start_time": "2024-07-24T23:16:39.250Z"
   },
   {
    "duration": 206,
    "start_time": "2024-07-24T23:16:46.228Z"
   },
   {
    "duration": 1245,
    "start_time": "2024-07-24T23:17:39.068Z"
   },
   {
    "duration": 731,
    "start_time": "2024-07-24T23:17:40.321Z"
   },
   {
    "duration": 51,
    "start_time": "2024-07-24T23:17:41.055Z"
   },
   {
    "duration": 150,
    "start_time": "2024-07-24T23:17:41.109Z"
   },
   {
    "duration": 153,
    "start_time": "2024-07-24T23:17:41.263Z"
   },
   {
    "duration": 233,
    "start_time": "2024-07-24T23:17:41.419Z"
   },
   {
    "duration": 169,
    "start_time": "2024-07-24T23:17:41.655Z"
   },
   {
    "duration": 2917,
    "start_time": "2024-07-24T23:17:41.827Z"
   },
   {
    "duration": 129,
    "start_time": "2024-07-24T23:17:44.748Z"
   },
   {
    "duration": 209,
    "start_time": "2024-07-24T23:17:49.232Z"
   },
   {
    "duration": 1341,
    "start_time": "2024-07-24T23:18:20.307Z"
   },
   {
    "duration": 727,
    "start_time": "2024-07-24T23:18:21.651Z"
   },
   {
    "duration": 45,
    "start_time": "2024-07-24T23:18:22.381Z"
   },
   {
    "duration": 151,
    "start_time": "2024-07-24T23:18:22.429Z"
   },
   {
    "duration": 146,
    "start_time": "2024-07-24T23:18:22.584Z"
   },
   {
    "duration": 244,
    "start_time": "2024-07-24T23:18:22.733Z"
   },
   {
    "duration": 151,
    "start_time": "2024-07-24T23:18:22.980Z"
   },
   {
    "duration": 2907,
    "start_time": "2024-07-24T23:18:23.134Z"
   },
   {
    "duration": 130,
    "start_time": "2024-07-24T23:18:26.045Z"
   },
   {
    "duration": 253,
    "start_time": "2024-07-24T23:18:33.087Z"
   },
   {
    "duration": 628,
    "start_time": "2024-07-24T23:18:37.540Z"
   },
   {
    "duration": 24,
    "start_time": "2024-07-24T23:19:17.053Z"
   },
   {
    "duration": 4,
    "start_time": "2024-07-24T23:20:00.284Z"
   },
   {
    "duration": 7,
    "start_time": "2024-07-24T23:20:22.021Z"
   },
   {
    "duration": 367,
    "start_time": "2024-07-24T23:20:27.486Z"
   },
   {
    "duration": 1254,
    "start_time": "2024-07-24T23:27:11.850Z"
   },
   {
    "duration": 731,
    "start_time": "2024-07-24T23:27:13.108Z"
   },
   {
    "duration": 37,
    "start_time": "2024-07-24T23:27:13.842Z"
   },
   {
    "duration": 170,
    "start_time": "2024-07-24T23:27:13.882Z"
   },
   {
    "duration": 152,
    "start_time": "2024-07-24T23:27:14.056Z"
   },
   {
    "duration": 249,
    "start_time": "2024-07-24T23:27:14.211Z"
   },
   {
    "duration": 154,
    "start_time": "2024-07-24T23:27:14.463Z"
   },
   {
    "duration": 2973,
    "start_time": "2024-07-24T23:27:14.620Z"
   },
   {
    "duration": 129,
    "start_time": "2024-07-24T23:27:17.596Z"
   },
   {
    "duration": 262,
    "start_time": "2024-07-24T23:27:17.728Z"
   },
   {
    "duration": 372,
    "start_time": "2024-07-24T23:27:29.401Z"
   },
   {
    "duration": 73,
    "start_time": "2024-07-24T23:27:39.224Z"
   },
   {
    "duration": 1265,
    "start_time": "2024-07-24T23:30:40.761Z"
   },
   {
    "duration": 725,
    "start_time": "2024-07-24T23:30:42.030Z"
   },
   {
    "duration": 50,
    "start_time": "2024-07-24T23:30:42.758Z"
   },
   {
    "duration": 156,
    "start_time": "2024-07-24T23:30:42.812Z"
   },
   {
    "duration": 152,
    "start_time": "2024-07-24T23:30:42.972Z"
   },
   {
    "duration": 228,
    "start_time": "2024-07-24T23:30:43.128Z"
   },
   {
    "duration": 157,
    "start_time": "2024-07-24T23:30:43.359Z"
   },
   {
    "duration": 2887,
    "start_time": "2024-07-24T23:30:43.520Z"
   },
   {
    "duration": 140,
    "start_time": "2024-07-24T23:30:46.411Z"
   },
   {
    "duration": 247,
    "start_time": "2024-07-24T23:30:55.611Z"
   },
   {
    "duration": 1288,
    "start_time": "2024-07-25T00:00:58.410Z"
   },
   {
    "duration": 713,
    "start_time": "2024-07-25T00:00:59.702Z"
   },
   {
    "duration": 37,
    "start_time": "2024-07-25T00:01:00.418Z"
   },
   {
    "duration": 181,
    "start_time": "2024-07-25T00:01:00.458Z"
   },
   {
    "duration": 148,
    "start_time": "2024-07-25T00:01:00.643Z"
   },
   {
    "duration": 229,
    "start_time": "2024-07-25T00:01:00.794Z"
   },
   {
    "duration": 153,
    "start_time": "2024-07-25T00:01:01.026Z"
   },
   {
    "duration": 2879,
    "start_time": "2024-07-25T00:01:01.182Z"
   },
   {
    "duration": 133,
    "start_time": "2024-07-25T00:01:04.063Z"
   },
   {
    "duration": 250,
    "start_time": "2024-07-25T00:01:22.374Z"
   },
   {
    "duration": 1336,
    "start_time": "2024-07-25T00:01:41.796Z"
   },
   {
    "duration": 722,
    "start_time": "2024-07-25T00:01:43.135Z"
   },
   {
    "duration": 47,
    "start_time": "2024-07-25T00:01:43.860Z"
   },
   {
    "duration": 158,
    "start_time": "2024-07-25T00:01:43.910Z"
   },
   {
    "duration": 151,
    "start_time": "2024-07-25T00:01:44.072Z"
   },
   {
    "duration": 265,
    "start_time": "2024-07-25T00:01:44.226Z"
   },
   {
    "duration": 163,
    "start_time": "2024-07-25T00:01:44.494Z"
   },
   {
    "duration": 2871,
    "start_time": "2024-07-25T00:01:44.660Z"
   },
   {
    "duration": 128,
    "start_time": "2024-07-25T00:01:47.534Z"
   },
   {
    "duration": 1896,
    "start_time": "2024-07-25T00:01:53.556Z"
   },
   {
    "duration": 1380,
    "start_time": "2024-07-25T00:02:56.998Z"
   },
   {
    "duration": 733,
    "start_time": "2024-07-25T00:02:58.382Z"
   },
   {
    "duration": 38,
    "start_time": "2024-07-25T00:02:59.118Z"
   },
   {
    "duration": 165,
    "start_time": "2024-07-25T00:02:59.160Z"
   },
   {
    "duration": 146,
    "start_time": "2024-07-25T00:02:59.331Z"
   },
   {
    "duration": 228,
    "start_time": "2024-07-25T00:02:59.480Z"
   },
   {
    "duration": 153,
    "start_time": "2024-07-25T00:02:59.711Z"
   },
   {
    "duration": 3022,
    "start_time": "2024-07-25T00:02:59.867Z"
   },
   {
    "duration": 136,
    "start_time": "2024-07-25T00:03:02.892Z"
   },
   {
    "duration": 205,
    "start_time": "2024-07-25T00:03:10.915Z"
   },
   {
    "duration": 1252,
    "start_time": "2024-07-25T00:03:34.538Z"
   },
   {
    "duration": 728,
    "start_time": "2024-07-25T00:03:35.795Z"
   },
   {
    "duration": 40,
    "start_time": "2024-07-25T00:03:36.526Z"
   },
   {
    "duration": 168,
    "start_time": "2024-07-25T00:03:36.568Z"
   },
   {
    "duration": 142,
    "start_time": "2024-07-25T00:03:36.740Z"
   },
   {
    "duration": 251,
    "start_time": "2024-07-25T00:03:36.885Z"
   },
   {
    "duration": 152,
    "start_time": "2024-07-25T00:03:37.139Z"
   },
   {
    "duration": 2926,
    "start_time": "2024-07-25T00:03:37.306Z"
   },
   {
    "duration": 131,
    "start_time": "2024-07-25T00:03:40.236Z"
   },
   {
    "duration": 215,
    "start_time": "2024-07-25T00:03:45.003Z"
   },
   {
    "duration": 1250,
    "start_time": "2024-07-25T00:04:24.550Z"
   },
   {
    "duration": 720,
    "start_time": "2024-07-25T00:04:25.806Z"
   },
   {
    "duration": 37,
    "start_time": "2024-07-25T00:04:26.530Z"
   },
   {
    "duration": 156,
    "start_time": "2024-07-25T00:04:26.571Z"
   },
   {
    "duration": 147,
    "start_time": "2024-07-25T00:04:26.732Z"
   },
   {
    "duration": 240,
    "start_time": "2024-07-25T00:04:26.882Z"
   },
   {
    "duration": 158,
    "start_time": "2024-07-25T00:04:27.126Z"
   },
   {
    "duration": 2878,
    "start_time": "2024-07-25T00:04:27.287Z"
   },
   {
    "duration": 129,
    "start_time": "2024-07-25T00:04:30.168Z"
   },
   {
    "duration": 5,
    "start_time": "2024-07-25T00:04:33.802Z"
   },
   {
    "duration": 204,
    "start_time": "2024-07-25T00:04:41.365Z"
   },
   {
    "duration": 1157,
    "start_time": "2024-07-25T00:05:07.815Z"
   },
   {
    "duration": 1293,
    "start_time": "2024-07-25T00:05:44.228Z"
   },
   {
    "duration": 737,
    "start_time": "2024-07-25T00:05:45.526Z"
   },
   {
    "duration": 50,
    "start_time": "2024-07-25T00:05:46.266Z"
   },
   {
    "duration": 155,
    "start_time": "2024-07-25T00:05:46.320Z"
   },
   {
    "duration": 150,
    "start_time": "2024-07-25T00:05:46.480Z"
   },
   {
    "duration": 229,
    "start_time": "2024-07-25T00:05:46.634Z"
   },
   {
    "duration": 162,
    "start_time": "2024-07-25T00:05:46.865Z"
   },
   {
    "duration": 2995,
    "start_time": "2024-07-25T00:05:47.030Z"
   },
   {
    "duration": 128,
    "start_time": "2024-07-25T00:05:50.028Z"
   },
   {
    "duration": 212,
    "start_time": "2024-07-25T00:05:52.804Z"
   },
   {
    "duration": 1283,
    "start_time": "2024-07-25T00:07:13.156Z"
   },
   {
    "duration": 718,
    "start_time": "2024-07-25T00:07:14.443Z"
   },
   {
    "duration": 47,
    "start_time": "2024-07-25T00:07:15.163Z"
   },
   {
    "duration": 169,
    "start_time": "2024-07-25T00:07:15.213Z"
   },
   {
    "duration": 156,
    "start_time": "2024-07-25T00:07:15.386Z"
   },
   {
    "duration": 229,
    "start_time": "2024-07-25T00:07:15.544Z"
   },
   {
    "duration": 156,
    "start_time": "2024-07-25T00:07:15.776Z"
   },
   {
    "duration": 2907,
    "start_time": "2024-07-25T00:07:15.936Z"
   },
   {
    "duration": 133,
    "start_time": "2024-07-25T00:07:18.846Z"
   },
   {
    "duration": 209,
    "start_time": "2024-07-25T00:07:21.774Z"
   },
   {
    "duration": 1336,
    "start_time": "2024-07-25T00:07:47.541Z"
   },
   {
    "duration": 739,
    "start_time": "2024-07-25T00:07:48.880Z"
   },
   {
    "duration": 39,
    "start_time": "2024-07-25T00:07:49.622Z"
   },
   {
    "duration": 162,
    "start_time": "2024-07-25T00:07:49.666Z"
   },
   {
    "duration": 157,
    "start_time": "2024-07-25T00:07:49.831Z"
   },
   {
    "duration": 224,
    "start_time": "2024-07-25T00:07:49.990Z"
   },
   {
    "duration": 154,
    "start_time": "2024-07-25T00:07:50.218Z"
   },
   {
    "duration": 2868,
    "start_time": "2024-07-25T00:07:50.376Z"
   },
   {
    "duration": 131,
    "start_time": "2024-07-25T00:07:53.247Z"
   },
   {
    "duration": 220,
    "start_time": "2024-07-25T00:07:56.080Z"
   },
   {
    "duration": 1249,
    "start_time": "2024-07-25T00:08:56.658Z"
   },
   {
    "duration": 750,
    "start_time": "2024-07-25T00:08:57.911Z"
   },
   {
    "duration": 51,
    "start_time": "2024-07-25T00:08:58.663Z"
   },
   {
    "duration": 157,
    "start_time": "2024-07-25T00:08:58.719Z"
   },
   {
    "duration": 157,
    "start_time": "2024-07-25T00:08:58.881Z"
   },
   {
    "duration": 229,
    "start_time": "2024-07-25T00:08:59.041Z"
   },
   {
    "duration": 152,
    "start_time": "2024-07-25T00:08:59.274Z"
   },
   {
    "duration": 2868,
    "start_time": "2024-07-25T00:08:59.428Z"
   },
   {
    "duration": 129,
    "start_time": "2024-07-25T00:09:02.307Z"
   },
   {
    "duration": 209,
    "start_time": "2024-07-25T00:09:08.496Z"
   },
   {
    "duration": 1290,
    "start_time": "2024-07-25T00:10:35.009Z"
   },
   {
    "duration": 723,
    "start_time": "2024-07-25T00:10:36.307Z"
   },
   {
    "duration": 39,
    "start_time": "2024-07-25T00:10:37.034Z"
   },
   {
    "duration": 165,
    "start_time": "2024-07-25T00:10:37.076Z"
   },
   {
    "duration": 153,
    "start_time": "2024-07-25T00:10:37.245Z"
   },
   {
    "duration": 218,
    "start_time": "2024-07-25T00:10:37.407Z"
   },
   {
    "duration": 160,
    "start_time": "2024-07-25T00:10:37.628Z"
   },
   {
    "duration": 2887,
    "start_time": "2024-07-25T00:10:37.791Z"
   },
   {
    "duration": 129,
    "start_time": "2024-07-25T00:10:40.680Z"
   },
   {
    "duration": 205,
    "start_time": "2024-07-25T00:10:51.296Z"
   },
   {
    "duration": 197,
    "start_time": "2024-07-25T00:12:10.054Z"
   },
   {
    "duration": 220,
    "start_time": "2024-07-25T00:12:18.713Z"
   },
   {
    "duration": 417,
    "start_time": "2024-07-25T00:16:57.036Z"
   },
   {
    "duration": 697,
    "start_time": "2024-07-25T00:17:25.228Z"
   },
   {
    "duration": 185,
    "start_time": "2024-07-25T00:46:51.533Z"
   },
   {
    "duration": 400,
    "start_time": "2024-07-25T00:56:14.387Z"
   },
   {
    "duration": 137,
    "start_time": "2024-07-25T00:56:21.824Z"
   },
   {
    "duration": 173,
    "start_time": "2024-07-25T00:56:23.907Z"
   },
   {
    "duration": 836,
    "start_time": "2024-07-25T00:56:26.551Z"
   },
   {
    "duration": 312,
    "start_time": "2024-07-25T19:14:19.188Z"
   },
   {
    "duration": 1348,
    "start_time": "2024-07-25T19:15:35.986Z"
   },
   {
    "duration": 1344,
    "start_time": "2024-07-25T19:15:46.198Z"
   },
   {
    "duration": 811,
    "start_time": "2024-07-25T19:15:47.546Z"
   },
   {
    "duration": 46,
    "start_time": "2024-07-25T19:15:48.360Z"
   },
   {
    "duration": 172,
    "start_time": "2024-07-25T19:15:48.409Z"
   },
   {
    "duration": 148,
    "start_time": "2024-07-25T19:15:48.585Z"
   },
   {
    "duration": 234,
    "start_time": "2024-07-25T19:15:48.737Z"
   },
   {
    "duration": 155,
    "start_time": "2024-07-25T19:15:48.975Z"
   },
   {
    "duration": 2984,
    "start_time": "2024-07-25T19:15:49.132Z"
   },
   {
    "duration": 147,
    "start_time": "2024-07-25T19:15:52.119Z"
   },
   {
    "duration": 459,
    "start_time": "2024-07-25T19:15:52.269Z"
   },
   {
    "duration": 725,
    "start_time": "2024-07-25T19:15:52.731Z"
   },
   {
    "duration": 195,
    "start_time": "2024-07-25T19:15:53.467Z"
   },
   {
    "duration": 151,
    "start_time": "2024-07-25T19:15:53.664Z"
   },
   {
    "duration": 189,
    "start_time": "2024-07-25T19:15:53.821Z"
   },
   {
    "duration": 849,
    "start_time": "2024-07-25T19:15:54.012Z"
   },
   {
    "duration": 820,
    "start_time": "2024-07-25T19:15:54.864Z"
   },
   {
    "duration": 20,
    "start_time": "2024-07-25T19:16:28.002Z"
   },
   {
    "duration": 20,
    "start_time": "2024-07-25T19:16:38.709Z"
   },
   {
    "duration": 214,
    "start_time": "2024-07-25T19:16:57.459Z"
   },
   {
    "duration": 1366,
    "start_time": "2024-07-25T19:17:46.476Z"
   },
   {
    "duration": 783,
    "start_time": "2024-07-25T19:17:47.849Z"
   },
   {
    "duration": 53,
    "start_time": "2024-07-25T19:17:48.635Z"
   },
   {
    "duration": 158,
    "start_time": "2024-07-25T19:17:48.691Z"
   },
   {
    "duration": 142,
    "start_time": "2024-07-25T19:17:48.868Z"
   },
   {
    "duration": 228,
    "start_time": "2024-07-25T19:17:49.013Z"
   },
   {
    "duration": 155,
    "start_time": "2024-07-25T19:17:49.244Z"
   },
   {
    "duration": 2877,
    "start_time": "2024-07-25T19:17:49.402Z"
   },
   {
    "duration": 131,
    "start_time": "2024-07-25T19:17:52.284Z"
   },
   {
    "duration": 482,
    "start_time": "2024-07-25T19:18:07.087Z"
   },
   {
    "duration": 707,
    "start_time": "2024-07-25T19:18:15.543Z"
   },
   {
    "duration": 1317,
    "start_time": "2024-07-25T19:18:55.810Z"
   },
   {
    "duration": 747,
    "start_time": "2024-07-25T19:18:57.131Z"
   },
   {
    "duration": 41,
    "start_time": "2024-07-25T19:18:57.882Z"
   },
   {
    "duration": 169,
    "start_time": "2024-07-25T19:18:57.926Z"
   },
   {
    "duration": 171,
    "start_time": "2024-07-25T19:18:58.100Z"
   },
   {
    "duration": 233,
    "start_time": "2024-07-25T19:18:58.275Z"
   },
   {
    "duration": 157,
    "start_time": "2024-07-25T19:18:58.511Z"
   },
   {
    "duration": 2925,
    "start_time": "2024-07-25T19:18:58.671Z"
   },
   {
    "duration": 131,
    "start_time": "2024-07-25T19:19:01.599Z"
   },
   {
    "duration": 146,
    "start_time": "2024-07-25T19:19:22.430Z"
   },
   {
    "duration": 342,
    "start_time": "2024-07-25T19:19:40.854Z"
   },
   {
    "duration": 1347,
    "start_time": "2024-07-25T19:20:55.688Z"
   },
   {
    "duration": 730,
    "start_time": "2024-07-25T19:20:57.040Z"
   },
   {
    "duration": 41,
    "start_time": "2024-07-25T19:20:57.773Z"
   },
   {
    "duration": 183,
    "start_time": "2024-07-25T19:20:57.818Z"
   },
   {
    "duration": 162,
    "start_time": "2024-07-25T19:20:58.007Z"
   },
   {
    "duration": 235,
    "start_time": "2024-07-25T19:20:58.173Z"
   },
   {
    "duration": 164,
    "start_time": "2024-07-25T19:20:58.412Z"
   },
   {
    "duration": 3056,
    "start_time": "2024-07-25T19:20:58.579Z"
   },
   {
    "duration": 138,
    "start_time": "2024-07-25T19:21:01.638Z"
   },
   {
    "duration": 150,
    "start_time": "2024-07-25T19:21:16.828Z"
   },
   {
    "duration": 159,
    "start_time": "2024-07-25T19:21:45.437Z"
   },
   {
    "duration": 271,
    "start_time": "2024-07-25T19:22:04.213Z"
   },
   {
    "duration": 185,
    "start_time": "2024-07-25T19:22:26.218Z"
   },
   {
    "duration": 205,
    "start_time": "2024-07-25T19:22:30.228Z"
   },
   {
    "duration": 214,
    "start_time": "2024-07-25T19:23:08.564Z"
   },
   {
    "duration": 181,
    "start_time": "2024-07-25T19:23:19.805Z"
   },
   {
    "duration": 19,
    "start_time": "2024-07-25T19:23:23.603Z"
   },
   {
    "duration": 172,
    "start_time": "2024-07-25T19:24:19.155Z"
   },
   {
    "duration": 183,
    "start_time": "2024-07-25T19:24:26.803Z"
   },
   {
    "duration": 1309,
    "start_time": "2024-07-25T19:26:10.283Z"
   },
   {
    "duration": 746,
    "start_time": "2024-07-25T19:26:11.595Z"
   },
   {
    "duration": 46,
    "start_time": "2024-07-25T19:26:12.344Z"
   },
   {
    "duration": 153,
    "start_time": "2024-07-25T19:26:12.393Z"
   },
   {
    "duration": 143,
    "start_time": "2024-07-25T19:26:12.550Z"
   },
   {
    "duration": 253,
    "start_time": "2024-07-25T19:26:12.696Z"
   },
   {
    "duration": 148,
    "start_time": "2024-07-25T19:26:12.951Z"
   },
   {
    "duration": 2940,
    "start_time": "2024-07-25T19:26:13.102Z"
   },
   {
    "duration": 137,
    "start_time": "2024-07-25T19:26:16.045Z"
   },
   {
    "duration": 171,
    "start_time": "2024-07-25T19:26:18.796Z"
   },
   {
    "duration": 142,
    "start_time": "2024-07-25T19:26:39.440Z"
   },
   {
    "duration": 1379,
    "start_time": "2024-07-25T19:28:26.767Z"
   },
   {
    "duration": 750,
    "start_time": "2024-07-25T19:28:28.151Z"
   },
   {
    "duration": 40,
    "start_time": "2024-07-25T19:28:28.904Z"
   },
   {
    "duration": 168,
    "start_time": "2024-07-25T19:28:28.946Z"
   },
   {
    "duration": 150,
    "start_time": "2024-07-25T19:28:29.119Z"
   },
   {
    "duration": 224,
    "start_time": "2024-07-25T19:28:29.272Z"
   },
   {
    "duration": 150,
    "start_time": "2024-07-25T19:28:29.499Z"
   },
   {
    "duration": 2931,
    "start_time": "2024-07-25T19:28:29.652Z"
   },
   {
    "duration": 132,
    "start_time": "2024-07-25T19:28:32.586Z"
   },
   {
    "duration": 180,
    "start_time": "2024-07-25T19:28:48.591Z"
   },
   {
    "duration": 572,
    "start_time": "2024-07-25T19:28:58.441Z"
   },
   {
    "duration": 26,
    "start_time": "2024-07-25T19:29:08.472Z"
   },
   {
    "duration": 14,
    "start_time": "2024-07-25T19:29:14.672Z"
   },
   {
    "duration": 17,
    "start_time": "2024-07-25T19:29:59.783Z"
   },
   {
    "duration": 19,
    "start_time": "2024-07-25T19:30:15.431Z"
   },
   {
    "duration": 143,
    "start_time": "2024-07-25T19:30:25.573Z"
   },
   {
    "duration": 1282,
    "start_time": "2024-07-25T19:32:34.140Z"
   },
   {
    "duration": 746,
    "start_time": "2024-07-25T19:32:35.426Z"
   },
   {
    "duration": 42,
    "start_time": "2024-07-25T19:32:36.175Z"
   },
   {
    "duration": 167,
    "start_time": "2024-07-25T19:32:36.220Z"
   },
   {
    "duration": 151,
    "start_time": "2024-07-25T19:32:36.392Z"
   },
   {
    "duration": 233,
    "start_time": "2024-07-25T19:32:36.545Z"
   },
   {
    "duration": 165,
    "start_time": "2024-07-25T19:32:36.782Z"
   },
   {
    "duration": 2925,
    "start_time": "2024-07-25T19:32:36.951Z"
   },
   {
    "duration": 141,
    "start_time": "2024-07-25T19:32:39.879Z"
   },
   {
    "duration": 155,
    "start_time": "2024-07-25T19:32:55.566Z"
   },
   {
    "duration": 1339,
    "start_time": "2024-07-25T19:34:41.661Z"
   },
   {
    "duration": 731,
    "start_time": "2024-07-25T19:34:43.003Z"
   },
   {
    "duration": 53,
    "start_time": "2024-07-25T19:34:43.737Z"
   },
   {
    "duration": 155,
    "start_time": "2024-07-25T19:34:43.793Z"
   },
   {
    "duration": 152,
    "start_time": "2024-07-25T19:34:43.953Z"
   },
   {
    "duration": 229,
    "start_time": "2024-07-25T19:34:44.109Z"
   },
   {
    "duration": 161,
    "start_time": "2024-07-25T19:34:44.341Z"
   },
   {
    "duration": 2966,
    "start_time": "2024-07-25T19:34:44.505Z"
   },
   {
    "duration": 138,
    "start_time": "2024-07-25T19:34:47.474Z"
   },
   {
    "duration": 8,
    "start_time": "2024-07-25T19:35:50.478Z"
   },
   {
    "duration": 142,
    "start_time": "2024-07-25T19:37:53.623Z"
   },
   {
    "duration": 1491,
    "start_time": "2024-07-25T19:38:26.072Z"
   },
   {
    "duration": 884,
    "start_time": "2024-07-25T19:38:27.567Z"
   },
   {
    "duration": 58,
    "start_time": "2024-07-25T19:38:28.455Z"
   },
   {
    "duration": 213,
    "start_time": "2024-07-25T19:38:28.518Z"
   },
   {
    "duration": 174,
    "start_time": "2024-07-25T19:38:28.734Z"
   },
   {
    "duration": 257,
    "start_time": "2024-07-25T19:38:28.911Z"
   },
   {
    "duration": 169,
    "start_time": "2024-07-25T19:38:29.171Z"
   },
   {
    "duration": 3123,
    "start_time": "2024-07-25T19:38:29.344Z"
   },
   {
    "duration": 135,
    "start_time": "2024-07-25T19:38:32.471Z"
   },
   {
    "duration": 141,
    "start_time": "2024-07-25T19:38:38.279Z"
   },
   {
    "duration": 1795,
    "start_time": "2024-07-25T19:40:35.474Z"
   },
   {
    "duration": 1322,
    "start_time": "2024-07-25T19:41:02.598Z"
   },
   {
    "duration": 732,
    "start_time": "2024-07-25T19:41:03.923Z"
   },
   {
    "duration": 45,
    "start_time": "2024-07-25T19:41:04.658Z"
   },
   {
    "duration": 165,
    "start_time": "2024-07-25T19:41:04.706Z"
   },
   {
    "duration": 145,
    "start_time": "2024-07-25T19:41:04.875Z"
   },
   {
    "duration": 246,
    "start_time": "2024-07-25T19:41:05.023Z"
   },
   {
    "duration": 153,
    "start_time": "2024-07-25T19:41:05.273Z"
   },
   {
    "duration": 2946,
    "start_time": "2024-07-25T19:41:05.429Z"
   },
   {
    "duration": 134,
    "start_time": "2024-07-25T19:41:08.378Z"
   },
   {
    "duration": 133,
    "start_time": "2024-07-25T19:41:12.344Z"
   },
   {
    "duration": 1785,
    "start_time": "2024-07-25T19:41:54.568Z"
   },
   {
    "duration": 96,
    "start_time": "2024-07-25T19:42:13.586Z"
   },
   {
    "duration": 93,
    "start_time": "2024-07-25T19:42:24.097Z"
   },
   {
    "duration": 101,
    "start_time": "2024-07-25T19:42:45.026Z"
   },
   {
    "duration": 364,
    "start_time": "2024-07-25T19:42:54.018Z"
   },
   {
    "duration": 124,
    "start_time": "2024-07-25T19:43:01.928Z"
   },
   {
    "duration": 23,
    "start_time": "2024-07-25T19:43:11.372Z"
   },
   {
    "duration": 15,
    "start_time": "2024-07-25T19:43:15.115Z"
   },
   {
    "duration": 75,
    "start_time": "2024-07-25T19:43:20.096Z"
   },
   {
    "duration": 427,
    "start_time": "2024-07-25T19:43:21.608Z"
   },
   {
    "duration": 210,
    "start_time": "2024-07-25T19:43:23.967Z"
   },
   {
    "duration": 2776,
    "start_time": "2024-07-25T19:44:53.474Z"
   },
   {
    "duration": 1307,
    "start_time": "2024-07-25T19:48:53.207Z"
   },
   {
    "duration": 797,
    "start_time": "2024-07-25T19:48:54.517Z"
   },
   {
    "duration": 53,
    "start_time": "2024-07-25T19:48:55.318Z"
   },
   {
    "duration": 155,
    "start_time": "2024-07-25T19:48:55.375Z"
   },
   {
    "duration": 149,
    "start_time": "2024-07-25T19:48:55.535Z"
   },
   {
    "duration": 233,
    "start_time": "2024-07-25T19:48:55.687Z"
   },
   {
    "duration": 161,
    "start_time": "2024-07-25T19:48:55.923Z"
   },
   {
    "duration": 2987,
    "start_time": "2024-07-25T19:48:56.087Z"
   },
   {
    "duration": 135,
    "start_time": "2024-07-25T19:48:59.077Z"
   },
   {
    "duration": 207,
    "start_time": "2024-07-25T19:48:59.215Z"
   },
   {
    "duration": 385,
    "start_time": "2024-07-25T19:48:59.426Z"
   },
   {
    "duration": 139,
    "start_time": "2024-07-25T19:48:59.813Z"
   },
   {
    "duration": 30,
    "start_time": "2024-07-25T19:48:59.955Z"
   },
   {
    "duration": 17,
    "start_time": "2024-07-25T19:48:59.991Z"
   },
   {
    "duration": 107,
    "start_time": "2024-07-25T19:49:00.011Z"
   },
   {
    "duration": 423,
    "start_time": "2024-07-25T19:49:00.120Z"
   },
   {
    "duration": 245,
    "start_time": "2024-07-25T19:49:00.546Z"
   },
   {
    "duration": 2874,
    "start_time": "2024-07-25T19:49:00.869Z"
   },
   {
    "duration": 18979,
    "start_time": "2024-07-25T19:49:03.746Z"
   },
   {
    "duration": 261,
    "start_time": "2024-07-25T19:58:57.408Z"
   },
   {
    "duration": 400,
    "start_time": "2024-07-25T20:01:00.286Z"
   },
   {
    "duration": 48221,
    "start_time": "2024-07-25T20:01:18.647Z"
   },
   {
    "duration": 222587,
    "start_time": "2024-07-25T20:03:01.775Z"
   },
   {
    "duration": 1440,
    "start_time": "2024-07-25T20:57:43.525Z"
   },
   {
    "duration": 758,
    "start_time": "2024-07-25T20:57:44.970Z"
   },
   {
    "duration": 49,
    "start_time": "2024-07-25T20:57:45.730Z"
   },
   {
    "duration": 171,
    "start_time": "2024-07-25T20:57:45.783Z"
   },
   {
    "duration": 145,
    "start_time": "2024-07-25T20:57:45.970Z"
   },
   {
    "duration": 228,
    "start_time": "2024-07-25T20:57:46.119Z"
   },
   {
    "duration": 154,
    "start_time": "2024-07-25T20:57:46.350Z"
   },
   {
    "duration": 3035,
    "start_time": "2024-07-25T20:57:46.508Z"
   },
   {
    "duration": 133,
    "start_time": "2024-07-25T20:57:49.547Z"
   },
   {
    "duration": 212,
    "start_time": "2024-07-25T20:57:49.683Z"
   },
   {
    "duration": 385,
    "start_time": "2024-07-25T20:57:49.898Z"
   },
   {
    "duration": 135,
    "start_time": "2024-07-25T20:57:50.286Z"
   },
   {
    "duration": 44,
    "start_time": "2024-07-25T20:57:50.424Z"
   },
   {
    "duration": 15,
    "start_time": "2024-07-25T20:57:50.473Z"
   },
   {
    "duration": 92,
    "start_time": "2024-07-25T20:57:50.492Z"
   },
   {
    "duration": 430,
    "start_time": "2024-07-25T20:57:50.587Z"
   },
   {
    "duration": 231,
    "start_time": "2024-07-25T20:57:54.849Z"
   },
   {
    "duration": 2895,
    "start_time": "2024-07-25T20:57:56.621Z"
   },
   {
    "duration": 1533,
    "start_time": "2024-07-25T21:00:57.583Z"
   },
   {
    "duration": 792,
    "start_time": "2024-07-25T21:00:59.120Z"
   },
   {
    "duration": 38,
    "start_time": "2024-07-25T21:00:59.915Z"
   },
   {
    "duration": 159,
    "start_time": "2024-07-25T21:00:59.969Z"
   },
   {
    "duration": 146,
    "start_time": "2024-07-25T21:01:00.132Z"
   },
   {
    "duration": 227,
    "start_time": "2024-07-25T21:01:00.281Z"
   },
   {
    "duration": 164,
    "start_time": "2024-07-25T21:01:00.510Z"
   },
   {
    "duration": 2956,
    "start_time": "2024-07-25T21:01:00.677Z"
   },
   {
    "duration": 140,
    "start_time": "2024-07-25T21:01:03.636Z"
   },
   {
    "duration": 247,
    "start_time": "2024-07-25T21:01:03.779Z"
   },
   {
    "duration": 387,
    "start_time": "2024-07-25T21:01:04.030Z"
   },
   {
    "duration": 149,
    "start_time": "2024-07-25T21:01:04.420Z"
   },
   {
    "duration": 24,
    "start_time": "2024-07-25T21:01:04.573Z"
   },
   {
    "duration": 14,
    "start_time": "2024-07-25T21:01:04.603Z"
   },
   {
    "duration": 105,
    "start_time": "2024-07-25T21:01:04.621Z"
   },
   {
    "duration": 444,
    "start_time": "2024-07-25T21:01:04.729Z"
   },
   {
    "duration": 208,
    "start_time": "2024-07-25T21:01:05.176Z"
   },
   {
    "duration": 3073,
    "start_time": "2024-07-25T21:01:05.386Z"
   },
   {
    "duration": 20719,
    "start_time": "2024-07-25T21:01:14.312Z"
   },
   {
    "duration": 1479,
    "start_time": "2024-07-25T21:02:42.159Z"
   },
   {
    "duration": 734,
    "start_time": "2024-07-25T21:02:43.642Z"
   },
   {
    "duration": 40,
    "start_time": "2024-07-25T21:02:44.379Z"
   },
   {
    "duration": 164,
    "start_time": "2024-07-25T21:02:44.423Z"
   },
   {
    "duration": 146,
    "start_time": "2024-07-25T21:02:44.590Z"
   },
   {
    "duration": 233,
    "start_time": "2024-07-25T21:02:44.739Z"
   },
   {
    "duration": 166,
    "start_time": "2024-07-25T21:02:44.976Z"
   },
   {
    "duration": 2977,
    "start_time": "2024-07-25T21:02:45.145Z"
   },
   {
    "duration": 142,
    "start_time": "2024-07-25T21:02:48.125Z"
   },
   {
    "duration": 218,
    "start_time": "2024-07-25T21:02:48.274Z"
   },
   {
    "duration": 388,
    "start_time": "2024-07-25T21:02:48.496Z"
   },
   {
    "duration": 139,
    "start_time": "2024-07-25T21:02:48.887Z"
   },
   {
    "duration": 40,
    "start_time": "2024-07-25T21:02:49.029Z"
   },
   {
    "duration": 15,
    "start_time": "2024-07-25T21:02:49.073Z"
   },
   {
    "duration": 98,
    "start_time": "2024-07-25T21:02:49.092Z"
   },
   {
    "duration": 435,
    "start_time": "2024-07-25T21:02:49.193Z"
   },
   {
    "duration": 249,
    "start_time": "2024-07-25T21:02:49.631Z"
   },
   {
    "duration": 2966,
    "start_time": "2024-07-25T21:02:49.882Z"
   },
   {
    "duration": 18994,
    "start_time": "2024-07-25T21:02:52.851Z"
   },
   {
    "duration": 230,
    "start_time": "2024-07-25T21:04:18.742Z"
   },
   {
    "duration": 277,
    "start_time": "2024-07-25T21:05:11.605Z"
   },
   {
    "duration": 193,
    "start_time": "2024-07-25T21:07:36.187Z"
   },
   {
    "duration": 2826,
    "start_time": "2024-07-25T21:10:47.977Z"
   },
   {
    "duration": 18443,
    "start_time": "2024-07-25T21:10:54.894Z"
   },
   {
    "duration": 12357,
    "start_time": "2024-07-25T21:11:18.610Z"
   },
   {
    "duration": 146848,
    "start_time": "2024-07-25T21:11:41.305Z"
   },
   {
    "duration": 1459,
    "start_time": "2024-07-25T22:41:17.014Z"
   },
   {
    "duration": 762,
    "start_time": "2024-07-25T22:41:18.479Z"
   },
   {
    "duration": 44,
    "start_time": "2024-07-25T22:41:19.244Z"
   },
   {
    "duration": 157,
    "start_time": "2024-07-25T22:41:19.291Z"
   },
   {
    "duration": 138,
    "start_time": "2024-07-25T22:41:19.467Z"
   },
   {
    "duration": 234,
    "start_time": "2024-07-25T22:41:19.608Z"
   },
   {
    "duration": 148,
    "start_time": "2024-07-25T22:41:19.845Z"
   },
   {
    "duration": 2974,
    "start_time": "2024-07-25T22:41:19.996Z"
   },
   {
    "duration": 131,
    "start_time": "2024-07-25T22:41:22.973Z"
   },
   {
    "duration": 205,
    "start_time": "2024-07-25T22:41:23.107Z"
   },
   {
    "duration": 379,
    "start_time": "2024-07-25T22:41:23.314Z"
   },
   {
    "duration": 130,
    "start_time": "2024-07-25T22:41:23.696Z"
   },
   {
    "duration": 43,
    "start_time": "2024-07-25T22:41:23.829Z"
   },
   {
    "duration": 15,
    "start_time": "2024-07-25T22:41:23.879Z"
   },
   {
    "duration": 102,
    "start_time": "2024-07-25T22:41:23.897Z"
   },
   {
    "duration": 435,
    "start_time": "2024-07-25T22:41:24.002Z"
   },
   {
    "duration": 239,
    "start_time": "2024-07-25T22:41:24.441Z"
   },
   {
    "duration": 3007,
    "start_time": "2024-07-25T22:41:24.687Z"
   },
   {
    "duration": 18722,
    "start_time": "2024-07-25T22:41:27.697Z"
   },
   {
    "duration": 12352,
    "start_time": "2024-07-25T22:41:46.422Z"
   },
   {
    "duration": 146196,
    "start_time": "2024-07-25T22:41:58.785Z"
   },
   {
    "duration": 1516,
    "start_time": "2024-07-25T23:16:45.079Z"
   },
   {
    "duration": 739,
    "start_time": "2024-07-25T23:16:46.598Z"
   },
   {
    "duration": 53,
    "start_time": "2024-07-25T23:16:47.339Z"
   },
   {
    "duration": 173,
    "start_time": "2024-07-25T23:16:47.396Z"
   },
   {
    "duration": 143,
    "start_time": "2024-07-25T23:16:47.574Z"
   },
   {
    "duration": 260,
    "start_time": "2024-07-25T23:16:47.719Z"
   },
   {
    "duration": 160,
    "start_time": "2024-07-25T23:16:47.982Z"
   },
   {
    "duration": 2992,
    "start_time": "2024-07-25T23:16:48.146Z"
   },
   {
    "duration": 130,
    "start_time": "2024-07-25T23:16:51.141Z"
   },
   {
    "duration": 203,
    "start_time": "2024-07-25T23:16:51.274Z"
   },
   {
    "duration": 374,
    "start_time": "2024-07-25T23:16:51.481Z"
   },
   {
    "duration": 140,
    "start_time": "2024-07-25T23:16:51.858Z"
   },
   {
    "duration": 23,
    "start_time": "2024-07-25T23:16:52.001Z"
   },
   {
    "duration": 41,
    "start_time": "2024-07-25T23:16:52.029Z"
   },
   {
    "duration": 76,
    "start_time": "2024-07-25T23:16:52.073Z"
   },
   {
    "duration": 451,
    "start_time": "2024-07-25T23:16:52.152Z"
   },
   {
    "duration": 271,
    "start_time": "2024-07-25T23:16:52.606Z"
   },
   {
    "duration": 2932,
    "start_time": "2024-07-25T23:16:52.884Z"
   },
   {
    "duration": 18819,
    "start_time": "2024-07-25T23:16:55.820Z"
   },
   {
    "duration": 12253,
    "start_time": "2024-07-25T23:17:14.642Z"
   },
   {
    "duration": 150414,
    "start_time": "2024-07-25T23:17:26.900Z"
   },
   {
    "duration": 1431,
    "start_time": "2024-07-25T23:44:23.649Z"
   },
   {
    "duration": 741,
    "start_time": "2024-07-25T23:44:25.084Z"
   },
   {
    "duration": 53,
    "start_time": "2024-07-25T23:44:25.827Z"
   },
   {
    "duration": 155,
    "start_time": "2024-07-25T23:44:25.883Z"
   },
   {
    "duration": 156,
    "start_time": "2024-07-25T23:44:26.043Z"
   },
   {
    "duration": 227,
    "start_time": "2024-07-25T23:44:26.202Z"
   },
   {
    "duration": 157,
    "start_time": "2024-07-25T23:44:26.432Z"
   },
   {
    "duration": 3087,
    "start_time": "2024-07-25T23:44:26.592Z"
   },
   {
    "duration": 135,
    "start_time": "2024-07-25T23:44:29.682Z"
   },
   {
    "duration": 222,
    "start_time": "2024-07-25T23:44:29.820Z"
   },
   {
    "duration": 376,
    "start_time": "2024-07-25T23:44:30.044Z"
   },
   {
    "duration": 137,
    "start_time": "2024-07-25T23:44:30.424Z"
   },
   {
    "duration": 29,
    "start_time": "2024-07-25T23:44:30.571Z"
   },
   {
    "duration": 13,
    "start_time": "2024-07-25T23:44:30.605Z"
   },
   {
    "duration": 107,
    "start_time": "2024-07-25T23:44:30.621Z"
   },
   {
    "duration": 437,
    "start_time": "2024-07-25T23:44:30.731Z"
   },
   {
    "duration": 297,
    "start_time": "2024-07-25T23:44:31.171Z"
   },
   {
    "duration": 2865,
    "start_time": "2024-07-25T23:44:31.471Z"
   },
   {
    "duration": 19115,
    "start_time": "2024-07-25T23:44:34.339Z"
   },
   {
    "duration": 767,
    "start_time": "2024-07-25T23:44:53.457Z"
   },
   {
    "duration": 0,
    "start_time": "2024-07-25T23:44:54.227Z"
   },
   {
    "duration": 25,
    "start_time": "2024-07-25T23:48:09.665Z"
   },
   {
    "duration": 7,
    "start_time": "2024-07-25T23:48:19.173Z"
   },
   {
    "duration": 12122,
    "start_time": "2024-07-25T23:49:18.764Z"
   },
   {
    "duration": 145773,
    "start_time": "2024-07-25T23:50:25.095Z"
   },
   {
    "duration": 1445282,
    "start_time": "2024-07-26T00:01:38.930Z"
   },
   {
    "duration": 599764,
    "start_time": "2024-07-26T00:31:13.442Z"
   },
   {
    "duration": 578317,
    "start_time": "2024-07-26T00:42:31.579Z"
   },
   {
    "duration": 14,
    "start_time": "2024-07-26T00:58:32.399Z"
   },
   {
    "duration": 1450,
    "start_time": "2024-07-26T10:52:58.101Z"
   },
   {
    "duration": 720,
    "start_time": "2024-07-26T10:52:59.554Z"
   },
   {
    "duration": 38,
    "start_time": "2024-07-26T10:53:00.279Z"
   },
   {
    "duration": 163,
    "start_time": "2024-07-26T10:53:00.320Z"
   },
   {
    "duration": 141,
    "start_time": "2024-07-26T10:53:00.486Z"
   },
   {
    "duration": 231,
    "start_time": "2024-07-26T10:53:00.630Z"
   },
   {
    "duration": 149,
    "start_time": "2024-07-26T10:53:00.868Z"
   },
   {
    "duration": 2866,
    "start_time": "2024-07-26T10:53:01.023Z"
   },
   {
    "duration": 131,
    "start_time": "2024-07-26T10:53:03.891Z"
   },
   {
    "duration": 207,
    "start_time": "2024-07-26T10:53:04.026Z"
   },
   {
    "duration": 371,
    "start_time": "2024-07-26T10:53:04.236Z"
   },
   {
    "duration": 134,
    "start_time": "2024-07-26T10:53:04.611Z"
   },
   {
    "duration": 36,
    "start_time": "2024-07-26T10:53:04.748Z"
   },
   {
    "duration": 15,
    "start_time": "2024-07-26T10:53:04.786Z"
   },
   {
    "duration": 99,
    "start_time": "2024-07-26T10:53:04.803Z"
   },
   {
    "duration": 438,
    "start_time": "2024-07-26T10:53:04.905Z"
   },
   {
    "duration": 238,
    "start_time": "2024-07-26T10:53:05.347Z"
   },
   {
    "duration": 3094,
    "start_time": "2024-07-26T10:53:05.587Z"
   },
   {
    "duration": 18655,
    "start_time": "2024-07-26T10:53:08.683Z"
   },
   {
    "duration": 12242,
    "start_time": "2024-07-26T10:53:27.342Z"
   },
   {
    "duration": 145056,
    "start_time": "2024-07-26T10:53:39.587Z"
   },
   {
    "duration": 1434822,
    "start_time": "2024-07-26T10:56:04.646Z"
   },
   {
    "duration": 560094,
    "start_time": "2024-07-26T11:19:59.475Z"
   },
   {
    "duration": 8041775,
    "start_time": "2024-07-26T11:29:19.572Z"
   },
   {
    "duration": 581482,
    "start_time": "2024-07-26T13:43:21.350Z"
   },
   {
    "duration": 3601636,
    "start_time": "2024-07-26T13:53:02.835Z"
   },
   {
    "duration": 9,
    "start_time": "2024-07-26T14:53:04.475Z"
   },
   {
    "duration": 5,
    "start_time": "2024-07-26T15:11:45.265Z"
   },
   {
    "duration": 17,
    "start_time": "2024-07-26T17:59:24.583Z"
   },
   {
    "duration": 5492,
    "start_time": "2024-07-26T18:10:29.712Z"
   },
   {
    "duration": 509,
    "start_time": "2024-07-26T18:11:22.354Z"
   },
   {
    "duration": 7,
    "start_time": "2024-07-26T18:11:38.607Z"
   },
   {
    "duration": 821,
    "start_time": "2024-07-26T18:11:38.618Z"
   },
   {
    "duration": 40,
    "start_time": "2024-07-26T18:11:39.442Z"
   },
   {
    "duration": 168,
    "start_time": "2024-07-26T18:11:39.485Z"
   },
   {
    "duration": 152,
    "start_time": "2024-07-26T18:11:39.659Z"
   },
   {
    "duration": 270,
    "start_time": "2024-07-26T18:11:39.815Z"
   },
   {
    "duration": 163,
    "start_time": "2024-07-26T18:11:40.088Z"
   },
   {
    "duration": 2994,
    "start_time": "2024-07-26T18:11:40.254Z"
   },
   {
    "duration": 144,
    "start_time": "2024-07-26T18:11:43.252Z"
   },
   {
    "duration": 156,
    "start_time": "2024-07-26T18:11:43.399Z"
   },
   {
    "duration": 15,
    "start_time": "2024-07-26T18:11:43.558Z"
   },
   {
    "duration": 14,
    "start_time": "2024-07-26T18:11:43.577Z"
   },
   {
    "duration": 689,
    "start_time": "2024-07-26T18:11:47.833Z"
   },
   {
    "duration": 98,
    "start_time": "2024-07-26T18:16:19.477Z"
   },
   {
    "duration": 6,
    "start_time": "2024-07-26T18:20:51.551Z"
   },
   {
    "duration": 135,
    "start_time": "2024-07-26T18:21:30.523Z"
   },
   {
    "duration": 103,
    "start_time": "2024-07-26T18:22:19.814Z"
   },
   {
    "duration": 86,
    "start_time": "2024-07-26T18:23:27.905Z"
   },
   {
    "duration": 28,
    "start_time": "2024-07-26T18:25:03.640Z"
   },
   {
    "duration": 4253,
    "start_time": "2024-07-26T18:28:12.599Z"
   },
   {
    "duration": 4302,
    "start_time": "2024-07-26T18:28:41.749Z"
   },
   {
    "duration": 103,
    "start_time": "2024-07-26T18:32:15.093Z"
   },
   {
    "duration": 97,
    "start_time": "2024-07-26T18:32:44.173Z"
   },
   {
    "duration": 7,
    "start_time": "2024-07-26T18:33:08.645Z"
   },
   {
    "duration": 4428,
    "start_time": "2024-07-26T18:34:02.477Z"
   },
   {
    "duration": 127,
    "start_time": "2024-07-26T18:35:37.837Z"
   },
   {
    "duration": 126,
    "start_time": "2024-07-26T18:36:07.062Z"
   },
   {
    "duration": 27,
    "start_time": "2024-07-26T18:39:23.942Z"
   },
   {
    "duration": 6,
    "start_time": "2024-07-26T18:39:29.107Z"
   },
   {
    "duration": 443,
    "start_time": "2024-07-26T18:39:37.933Z"
   },
   {
    "duration": 131,
    "start_time": "2024-07-26T18:52:44.314Z"
   },
   {
    "duration": 131,
    "start_time": "2024-07-26T18:53:02.384Z"
   },
   {
    "duration": 128,
    "start_time": "2024-07-26T18:56:15.564Z"
   },
   {
    "duration": 27,
    "start_time": "2024-07-26T19:03:08.294Z"
   },
   {
    "duration": 6,
    "start_time": "2024-07-26T19:03:33.572Z"
   },
   {
    "duration": 4384,
    "start_time": "2024-07-26T19:03:56.720Z"
   },
   {
    "duration": 9,
    "start_time": "2024-07-26T19:09:08.402Z"
   },
   {
    "duration": 4220,
    "start_time": "2024-07-26T19:09:12.418Z"
   },
   {
    "duration": 4724,
    "start_time": "2024-07-26T19:11:04.816Z"
   },
   {
    "duration": 4695,
    "start_time": "2024-07-26T19:11:15.584Z"
   },
   {
    "duration": 4786,
    "start_time": "2024-07-26T19:11:20.708Z"
   },
   {
    "duration": 4779,
    "start_time": "2024-07-26T19:11:40.671Z"
   },
   {
    "duration": 4638,
    "start_time": "2024-07-26T19:12:20.376Z"
   },
   {
    "duration": 24,
    "start_time": "2024-07-26T20:12:29.239Z"
   },
   {
    "duration": 699,
    "start_time": "2024-07-26T20:12:34.262Z"
   },
   {
    "duration": 1805,
    "start_time": "2024-07-26T20:13:06.211Z"
   },
   {
    "duration": 714,
    "start_time": "2024-07-26T20:13:08.019Z"
   },
   {
    "duration": 36,
    "start_time": "2024-07-26T20:13:08.737Z"
   },
   {
    "duration": 177,
    "start_time": "2024-07-26T20:13:08.776Z"
   },
   {
    "duration": 146,
    "start_time": "2024-07-26T20:13:08.957Z"
   },
   {
    "duration": 237,
    "start_time": "2024-07-26T20:13:09.106Z"
   },
   {
    "duration": 151,
    "start_time": "2024-07-26T20:13:09.346Z"
   },
   {
    "duration": 3368,
    "start_time": "2024-07-26T20:13:09.500Z"
   },
   {
    "duration": 131,
    "start_time": "2024-07-26T20:13:12.871Z"
   },
   {
    "duration": 143,
    "start_time": "2024-07-26T20:13:13.005Z"
   },
   {
    "duration": 17,
    "start_time": "2024-07-26T20:13:13.154Z"
   },
   {
    "duration": 16,
    "start_time": "2024-07-26T20:13:13.174Z"
   },
   {
    "duration": 696,
    "start_time": "2024-07-26T20:13:13.203Z"
   },
   {
    "duration": 110,
    "start_time": "2024-07-26T20:13:13.905Z"
   },
   {
    "duration": 106,
    "start_time": "2024-07-26T20:13:14.018Z"
   },
   {
    "duration": 49,
    "start_time": "2024-07-26T20:13:14.135Z"
   },
   {
    "duration": 4882,
    "start_time": "2024-07-26T20:13:14.187Z"
   },
   {
    "duration": 140,
    "start_time": "2024-07-26T20:13:19.072Z"
   },
   {
    "duration": 5079,
    "start_time": "2024-07-26T20:13:19.215Z"
   },
   {
    "duration": 450,
    "start_time": "2024-07-26T20:13:24.297Z"
   },
   {
    "duration": 160,
    "start_time": "2024-07-26T20:13:24.751Z"
   },
   {
    "duration": 23,
    "start_time": "2024-07-26T20:13:24.914Z"
   },
   {
    "duration": 4780,
    "start_time": "2024-07-26T20:13:24.941Z"
   },
   {
    "duration": 12,
    "start_time": "2024-07-26T20:13:34.641Z"
   },
   {
    "duration": 79,
    "start_time": "2024-07-26T20:13:39.294Z"
   },
   {
    "duration": 18,
    "start_time": "2024-07-26T20:13:45.829Z"
   },
   {
    "duration": 147,
    "start_time": "2024-07-26T20:14:18.109Z"
   },
   {
    "duration": 27,
    "start_time": "2024-07-26T20:15:37.150Z"
   },
   {
    "duration": 13,
    "start_time": "2024-07-26T20:15:52.509Z"
   },
   {
    "duration": 4,
    "start_time": "2024-07-26T20:16:34.805Z"
   },
   {
    "duration": 418,
    "start_time": "2024-07-26T20:16:43.227Z"
   },
   {
    "duration": 24,
    "start_time": "2024-07-26T20:16:53.988Z"
   },
   {
    "duration": 4,
    "start_time": "2024-07-26T20:17:02.922Z"
   },
   {
    "duration": 111,
    "start_time": "2024-07-26T20:18:51.716Z"
   },
   {
    "duration": 1709,
    "start_time": "2024-07-26T20:20:08.397Z"
   },
   {
    "duration": 745,
    "start_time": "2024-07-26T20:20:10.110Z"
   },
   {
    "duration": 37,
    "start_time": "2024-07-26T20:20:10.858Z"
   },
   {
    "duration": 209,
    "start_time": "2024-07-26T20:20:10.898Z"
   },
   {
    "duration": 156,
    "start_time": "2024-07-26T20:20:11.114Z"
   },
   {
    "duration": 250,
    "start_time": "2024-07-26T20:20:11.273Z"
   },
   {
    "duration": 170,
    "start_time": "2024-07-26T20:20:11.534Z"
   },
   {
    "duration": 3016,
    "start_time": "2024-07-26T20:20:11.708Z"
   },
   {
    "duration": 125,
    "start_time": "2024-07-26T20:20:14.727Z"
   },
   {
    "duration": 130,
    "start_time": "2024-07-26T20:20:14.854Z"
   },
   {
    "duration": 15,
    "start_time": "2024-07-26T20:20:14.987Z"
   },
   {
    "duration": 31,
    "start_time": "2024-07-26T20:20:15.005Z"
   },
   {
    "duration": 699,
    "start_time": "2024-07-26T20:20:15.039Z"
   },
   {
    "duration": 104,
    "start_time": "2024-07-26T20:20:15.744Z"
   },
   {
    "duration": 99,
    "start_time": "2024-07-26T20:20:15.851Z"
   },
   {
    "duration": 38,
    "start_time": "2024-07-26T20:20:15.953Z"
   },
   {
    "duration": 4770,
    "start_time": "2024-07-26T20:20:15.994Z"
   },
   {
    "duration": 141,
    "start_time": "2024-07-26T20:20:20.769Z"
   },
   {
    "duration": 5057,
    "start_time": "2024-07-26T20:20:20.913Z"
   },
   {
    "duration": 467,
    "start_time": "2024-07-26T20:20:25.975Z"
   },
   {
    "duration": 144,
    "start_time": "2024-07-26T20:20:26.445Z"
   },
   {
    "duration": 10,
    "start_time": "2024-07-26T20:20:26.591Z"
   },
   {
    "duration": 4800,
    "start_time": "2024-07-26T20:20:26.604Z"
   },
   {
    "duration": 14,
    "start_time": "2024-07-26T20:20:31.408Z"
   },
   {
    "duration": 8,
    "start_time": "2024-07-26T20:20:44.572Z"
   },
   {
    "duration": 85,
    "start_time": "2024-07-26T20:20:53.225Z"
   },
   {
    "duration": 129,
    "start_time": "2024-07-26T20:20:55.283Z"
   },
   {
    "duration": 1782,
    "start_time": "2024-07-26T20:25:57.674Z"
   },
   {
    "duration": 765,
    "start_time": "2024-07-26T20:25:59.460Z"
   },
   {
    "duration": 41,
    "start_time": "2024-07-26T20:26:00.227Z"
   },
   {
    "duration": 179,
    "start_time": "2024-07-26T20:26:00.271Z"
   },
   {
    "duration": 149,
    "start_time": "2024-07-26T20:26:00.455Z"
   },
   {
    "duration": 253,
    "start_time": "2024-07-26T20:26:00.607Z"
   },
   {
    "duration": 176,
    "start_time": "2024-07-26T20:26:00.863Z"
   },
   {
    "duration": 3168,
    "start_time": "2024-07-26T20:26:01.043Z"
   },
   {
    "duration": 166,
    "start_time": "2024-07-26T20:26:04.214Z"
   },
   {
    "duration": 151,
    "start_time": "2024-07-26T20:26:04.383Z"
   },
   {
    "duration": 14,
    "start_time": "2024-07-26T20:26:04.537Z"
   },
   {
    "duration": 12,
    "start_time": "2024-07-26T20:26:04.554Z"
   },
   {
    "duration": 846,
    "start_time": "2024-07-26T20:26:04.569Z"
   },
   {
    "duration": 106,
    "start_time": "2024-07-26T20:26:05.432Z"
   },
   {
    "duration": 100,
    "start_time": "2024-07-26T20:26:05.541Z"
   },
   {
    "duration": 29,
    "start_time": "2024-07-26T20:26:05.644Z"
   },
   {
    "duration": 4799,
    "start_time": "2024-07-26T20:26:05.676Z"
   },
   {
    "duration": 149,
    "start_time": "2024-07-26T20:26:10.484Z"
   },
   {
    "duration": 5034,
    "start_time": "2024-07-26T20:26:10.635Z"
   },
   {
    "duration": 456,
    "start_time": "2024-07-26T20:26:15.673Z"
   },
   {
    "duration": 153,
    "start_time": "2024-07-26T20:26:16.134Z"
   },
   {
    "duration": 11,
    "start_time": "2024-07-26T20:26:16.290Z"
   },
   {
    "duration": 4763,
    "start_time": "2024-07-26T20:26:16.304Z"
   },
   {
    "duration": 477,
    "start_time": "2024-07-26T20:26:21.072Z"
   },
   {
    "duration": 13,
    "start_time": "2024-07-26T20:26:34.016Z"
   },
   {
    "duration": 8,
    "start_time": "2024-07-26T20:26:59.310Z"
   },
   {
    "duration": 13,
    "start_time": "2024-07-26T20:27:02.079Z"
   },
   {
    "duration": 11,
    "start_time": "2024-07-26T20:27:13.640Z"
   },
   {
    "duration": 57,
    "start_time": "2024-07-26T20:27:35.288Z"
   },
   {
    "duration": 140,
    "start_time": "2024-07-26T20:27:54.709Z"
   },
   {
    "duration": 148,
    "start_time": "2024-07-26T20:28:15.974Z"
   },
   {
    "duration": 55,
    "start_time": "2024-07-26T20:29:14.767Z"
   },
   {
    "duration": 50,
    "start_time": "2024-07-26T20:29:20.941Z"
   },
   {
    "duration": 1771,
    "start_time": "2024-07-26T20:29:55.924Z"
   },
   {
    "duration": 732,
    "start_time": "2024-07-26T20:29:57.700Z"
   },
   {
    "duration": 36,
    "start_time": "2024-07-26T20:29:58.435Z"
   },
   {
    "duration": 169,
    "start_time": "2024-07-26T20:29:58.475Z"
   },
   {
    "duration": 159,
    "start_time": "2024-07-26T20:29:58.650Z"
   },
   {
    "duration": 257,
    "start_time": "2024-07-26T20:29:58.812Z"
   },
   {
    "duration": 161,
    "start_time": "2024-07-26T20:29:59.073Z"
   },
   {
    "duration": 2975,
    "start_time": "2024-07-26T20:29:59.238Z"
   },
   {
    "duration": 174,
    "start_time": "2024-07-26T20:30:02.216Z"
   },
   {
    "duration": 124,
    "start_time": "2024-07-26T20:30:02.394Z"
   },
   {
    "duration": 14,
    "start_time": "2024-07-26T20:30:02.534Z"
   },
   {
    "duration": 10,
    "start_time": "2024-07-26T20:30:02.551Z"
   },
   {
    "duration": 710,
    "start_time": "2024-07-26T20:30:02.564Z"
   },
   {
    "duration": 116,
    "start_time": "2024-07-26T20:30:03.281Z"
   },
   {
    "duration": 101,
    "start_time": "2024-07-26T20:30:03.400Z"
   },
   {
    "duration": 43,
    "start_time": "2024-07-26T20:30:03.504Z"
   },
   {
    "duration": 4854,
    "start_time": "2024-07-26T20:30:03.550Z"
   },
   {
    "duration": 145,
    "start_time": "2024-07-26T20:30:08.407Z"
   },
   {
    "duration": 5009,
    "start_time": "2024-07-26T20:30:08.555Z"
   },
   {
    "duration": 458,
    "start_time": "2024-07-26T20:30:13.567Z"
   },
   {
    "duration": 153,
    "start_time": "2024-07-26T20:30:14.034Z"
   },
   {
    "duration": 11,
    "start_time": "2024-07-26T20:30:14.190Z"
   },
   {
    "duration": 4779,
    "start_time": "2024-07-26T20:30:14.205Z"
   },
   {
    "duration": 12,
    "start_time": "2024-07-26T20:30:18.988Z"
   },
   {
    "duration": 31,
    "start_time": "2024-07-26T20:30:19.003Z"
   },
   {
    "duration": 19,
    "start_time": "2024-07-26T20:30:41.171Z"
   },
   {
    "duration": 1736,
    "start_time": "2024-07-26T20:33:12.486Z"
   },
   {
    "duration": 735,
    "start_time": "2024-07-26T20:33:14.226Z"
   },
   {
    "duration": 40,
    "start_time": "2024-07-26T20:33:14.964Z"
   },
   {
    "duration": 159,
    "start_time": "2024-07-26T20:33:15.007Z"
   },
   {
    "duration": 161,
    "start_time": "2024-07-26T20:33:15.172Z"
   },
   {
    "duration": 234,
    "start_time": "2024-07-26T20:33:15.336Z"
   },
   {
    "duration": 175,
    "start_time": "2024-07-26T20:33:15.573Z"
   },
   {
    "duration": 3045,
    "start_time": "2024-07-26T20:33:15.753Z"
   },
   {
    "duration": 139,
    "start_time": "2024-07-26T20:33:18.801Z"
   },
   {
    "duration": 123,
    "start_time": "2024-07-26T20:33:18.943Z"
   },
   {
    "duration": 53,
    "start_time": "2024-07-26T20:33:32.834Z"
   },
   {
    "duration": 98,
    "start_time": "2024-07-26T20:33:48.044Z"
   },
   {
    "duration": 20,
    "start_time": "2024-07-26T20:34:03.410Z"
   },
   {
    "duration": 687,
    "start_time": "2024-07-26T20:34:06.797Z"
   },
   {
    "duration": 117,
    "start_time": "2024-07-26T20:34:10.210Z"
   },
   {
    "duration": 95,
    "start_time": "2024-07-26T20:34:14.978Z"
   },
   {
    "duration": 29,
    "start_time": "2024-07-26T20:34:17.323Z"
   },
   {
    "duration": 4827,
    "start_time": "2024-07-26T20:34:20.206Z"
   },
   {
    "duration": 21,
    "start_time": "2024-07-26T20:34:44.898Z"
   },
   {
    "duration": 133,
    "start_time": "2024-07-26T20:35:37.458Z"
   },
   {
    "duration": 5021,
    "start_time": "2024-07-26T20:35:40.745Z"
   },
   {
    "duration": 442,
    "start_time": "2024-07-26T20:35:49.779Z"
   },
   {
    "duration": 134,
    "start_time": "2024-07-26T20:35:59.593Z"
   },
   {
    "duration": 12,
    "start_time": "2024-07-26T20:36:43.225Z"
   },
   {
    "duration": 4982,
    "start_time": "2024-07-26T20:36:45.366Z"
   },
   {
    "duration": 16,
    "start_time": "2024-07-26T20:37:22.120Z"
   },
   {
    "duration": 13,
    "start_time": "2024-07-26T20:37:24.808Z"
   },
   {
    "duration": 123,
    "start_time": "2024-07-26T20:37:37.846Z"
   },
   {
    "duration": 10,
    "start_time": "2024-07-26T21:01:48.052Z"
   },
   {
    "duration": 1689,
    "start_time": "2024-07-26T21:17:19.124Z"
   },
   {
    "duration": 743,
    "start_time": "2024-07-26T21:17:20.817Z"
   },
   {
    "duration": 35,
    "start_time": "2024-07-26T21:17:21.566Z"
   },
   {
    "duration": 164,
    "start_time": "2024-07-26T21:17:21.604Z"
   },
   {
    "duration": 146,
    "start_time": "2024-07-26T21:17:21.773Z"
   },
   {
    "duration": 235,
    "start_time": "2024-07-26T21:17:21.922Z"
   },
   {
    "duration": 147,
    "start_time": "2024-07-26T21:17:22.164Z"
   },
   {
    "duration": 70,
    "start_time": "2024-07-26T21:17:22.314Z"
   },
   {
    "duration": 3169,
    "start_time": "2024-07-26T21:17:22.387Z"
   },
   {
    "duration": 175,
    "start_time": "2024-07-26T21:17:25.560Z"
   },
   {
    "duration": 198,
    "start_time": "2024-07-26T21:17:25.737Z"
   },
   {
    "duration": 688,
    "start_time": "2024-07-26T21:17:31.419Z"
   },
   {
    "duration": 108,
    "start_time": "2024-07-26T21:17:39.455Z"
   },
   {
    "duration": 20,
    "start_time": "2024-07-26T21:17:43.187Z"
   },
   {
    "duration": 111,
    "start_time": "2024-07-26T21:17:56.986Z"
   },
   {
    "duration": 4679,
    "start_time": "2024-07-26T21:18:11.689Z"
   },
   {
    "duration": 133,
    "start_time": "2024-07-26T21:18:20.152Z"
   },
   {
    "duration": 5015,
    "start_time": "2024-07-26T21:18:23.667Z"
   },
   {
    "duration": 441,
    "start_time": "2024-07-26T21:18:33.527Z"
   },
   {
    "duration": 433,
    "start_time": "2024-07-26T21:18:40.188Z"
   },
   {
    "duration": 137,
    "start_time": "2024-07-26T21:18:49.467Z"
   },
   {
    "duration": 11,
    "start_time": "2024-07-26T21:18:59.706Z"
   },
   {
    "duration": 4624,
    "start_time": "2024-07-26T21:19:06.019Z"
   },
   {
    "duration": 14,
    "start_time": "2024-07-26T21:19:44.049Z"
   },
   {
    "duration": 13,
    "start_time": "2024-07-26T21:19:47.750Z"
   },
   {
    "duration": 61,
    "start_time": "2024-07-26T21:19:53.086Z"
   },
   {
    "duration": 98,
    "start_time": "2024-07-26T21:19:54.822Z"
   },
   {
    "duration": 796,
    "start_time": "2024-07-26T21:24:51.865Z"
   },
   {
    "duration": 43,
    "start_time": "2024-07-26T21:25:15.780Z"
   },
   {
    "duration": 26,
    "start_time": "2024-07-26T21:25:21.803Z"
   },
   {
    "duration": 95,
    "start_time": "2024-07-26T21:25:54.263Z"
   },
   {
    "duration": 45,
    "start_time": "2024-07-26T21:26:12.957Z"
   },
   {
    "duration": 678,
    "start_time": "2024-07-26T21:27:18.066Z"
   },
   {
    "duration": 28,
    "start_time": "2024-07-26T21:27:25.746Z"
   },
   {
    "duration": 29,
    "start_time": "2024-07-26T21:27:44.251Z"
   },
   {
    "duration": 31,
    "start_time": "2024-07-26T21:28:29.987Z"
   },
   {
    "duration": 529,
    "start_time": "2024-07-26T21:29:45.370Z"
   },
   {
    "duration": 23,
    "start_time": "2024-07-26T21:29:51.451Z"
   },
   {
    "duration": 100,
    "start_time": "2024-07-26T21:29:57.593Z"
   },
   {
    "duration": 17,
    "start_time": "2024-07-26T21:30:11.896Z"
   },
   {
    "duration": 1722,
    "start_time": "2024-07-26T21:30:30.915Z"
   },
   {
    "duration": 717,
    "start_time": "2024-07-26T21:30:32.642Z"
   },
   {
    "duration": 37,
    "start_time": "2024-07-26T21:30:33.362Z"
   },
   {
    "duration": 163,
    "start_time": "2024-07-26T21:30:33.402Z"
   },
   {
    "duration": 150,
    "start_time": "2024-07-26T21:30:33.570Z"
   },
   {
    "duration": 230,
    "start_time": "2024-07-26T21:30:33.722Z"
   },
   {
    "duration": 151,
    "start_time": "2024-07-26T21:30:33.955Z"
   },
   {
    "duration": 77,
    "start_time": "2024-07-26T21:30:34.110Z"
   },
   {
    "duration": 2943,
    "start_time": "2024-07-26T21:30:34.190Z"
   },
   {
    "duration": 134,
    "start_time": "2024-07-26T21:30:37.136Z"
   },
   {
    "duration": 174,
    "start_time": "2024-07-26T21:30:37.273Z"
   },
   {
    "duration": 685,
    "start_time": "2024-07-26T21:30:37.450Z"
   },
   {
    "duration": 111,
    "start_time": "2024-07-26T21:30:38.138Z"
   },
   {
    "duration": 19,
    "start_time": "2024-07-26T21:30:38.256Z"
   },
   {
    "duration": 135,
    "start_time": "2024-07-26T21:30:38.278Z"
   },
   {
    "duration": 4730,
    "start_time": "2024-07-26T21:30:38.416Z"
   },
   {
    "duration": 142,
    "start_time": "2024-07-26T21:30:43.149Z"
   },
   {
    "duration": 4888,
    "start_time": "2024-07-26T21:30:43.294Z"
   },
   {
    "duration": 449,
    "start_time": "2024-07-26T21:30:48.185Z"
   },
   {
    "duration": 140,
    "start_time": "2024-07-26T21:30:48.637Z"
   },
   {
    "duration": 11,
    "start_time": "2024-07-26T21:30:48.780Z"
   },
   {
    "duration": 4671,
    "start_time": "2024-07-26T21:30:48.793Z"
   },
   {
    "duration": 13,
    "start_time": "2024-07-26T21:30:53.467Z"
   },
   {
    "duration": 14,
    "start_time": "2024-07-26T21:30:53.484Z"
   },
   {
    "duration": 85,
    "start_time": "2024-07-26T21:30:53.502Z"
   },
   {
    "duration": 113,
    "start_time": "2024-07-26T21:30:53.590Z"
   },
   {
    "duration": 727,
    "start_time": "2024-07-26T21:30:53.706Z"
   },
   {
    "duration": 28,
    "start_time": "2024-07-26T21:30:54.436Z"
   },
   {
    "duration": 540,
    "start_time": "2024-07-26T21:30:54.467Z"
   },
   {
    "duration": 28,
    "start_time": "2024-07-26T21:31:28.879Z"
   },
   {
    "duration": 25,
    "start_time": "2024-07-26T21:33:47.388Z"
   },
   {
    "duration": 518,
    "start_time": "2024-07-26T21:33:49.576Z"
   },
   {
    "duration": 24,
    "start_time": "2024-07-26T21:33:57.967Z"
   },
   {
    "duration": 1673,
    "start_time": "2024-07-26T21:34:46.163Z"
   },
   {
    "duration": 720,
    "start_time": "2024-07-26T21:34:47.841Z"
   },
   {
    "duration": 35,
    "start_time": "2024-07-26T21:34:48.564Z"
   },
   {
    "duration": 156,
    "start_time": "2024-07-26T21:34:48.603Z"
   },
   {
    "duration": 150,
    "start_time": "2024-07-26T21:34:48.764Z"
   },
   {
    "duration": 230,
    "start_time": "2024-07-26T21:34:48.917Z"
   },
   {
    "duration": 148,
    "start_time": "2024-07-26T21:34:49.150Z"
   },
   {
    "duration": 71,
    "start_time": "2024-07-26T21:34:49.301Z"
   },
   {
    "duration": 2994,
    "start_time": "2024-07-26T21:34:49.375Z"
   },
   {
    "duration": 130,
    "start_time": "2024-07-26T21:34:52.372Z"
   },
   {
    "duration": 167,
    "start_time": "2024-07-26T21:34:52.506Z"
   },
   {
    "duration": 695,
    "start_time": "2024-07-26T21:34:52.676Z"
   },
   {
    "duration": 115,
    "start_time": "2024-07-26T21:34:53.375Z"
   },
   {
    "duration": 19,
    "start_time": "2024-07-26T21:34:53.496Z"
   },
   {
    "duration": 119,
    "start_time": "2024-07-26T21:34:53.533Z"
   },
   {
    "duration": 4715,
    "start_time": "2024-07-26T21:34:53.656Z"
   },
   {
    "duration": 140,
    "start_time": "2024-07-26T21:34:58.374Z"
   },
   {
    "duration": 4805,
    "start_time": "2024-07-26T21:34:58.518Z"
   },
   {
    "duration": 450,
    "start_time": "2024-07-26T21:35:03.325Z"
   },
   {
    "duration": 145,
    "start_time": "2024-07-26T21:35:03.778Z"
   },
   {
    "duration": 10,
    "start_time": "2024-07-26T21:35:03.933Z"
   },
   {
    "duration": 4658,
    "start_time": "2024-07-26T21:35:03.945Z"
   },
   {
    "duration": 28,
    "start_time": "2024-07-26T21:35:08.606Z"
   },
   {
    "duration": 14,
    "start_time": "2024-07-26T21:35:08.637Z"
   },
   {
    "duration": 83,
    "start_time": "2024-07-26T21:35:08.654Z"
   },
   {
    "duration": 106,
    "start_time": "2024-07-26T21:35:08.740Z"
   },
   {
    "duration": 731,
    "start_time": "2024-07-26T21:35:08.849Z"
   },
   {
    "duration": 32,
    "start_time": "2024-07-26T21:35:09.582Z"
   },
   {
    "duration": 527,
    "start_time": "2024-07-26T21:35:09.632Z"
   },
   {
    "duration": 119,
    "start_time": "2024-07-26T21:35:18.433Z"
   },
   {
    "duration": 420,
    "start_time": "2024-07-26T21:35:20.246Z"
   },
   {
    "duration": 30,
    "start_time": "2024-07-26T21:35:40.566Z"
   },
   {
    "duration": 1621,
    "start_time": "2024-07-26T21:36:19.491Z"
   },
   {
    "duration": 741,
    "start_time": "2024-07-26T21:36:21.116Z"
   },
   {
    "duration": 35,
    "start_time": "2024-07-26T21:36:21.860Z"
   },
   {
    "duration": 166,
    "start_time": "2024-07-26T21:36:21.898Z"
   },
   {
    "duration": 162,
    "start_time": "2024-07-26T21:36:22.070Z"
   },
   {
    "duration": 223,
    "start_time": "2024-07-26T21:36:22.235Z"
   },
   {
    "duration": 162,
    "start_time": "2024-07-26T21:36:22.462Z"
   },
   {
    "duration": 68,
    "start_time": "2024-07-26T21:36:22.626Z"
   },
   {
    "duration": 2930,
    "start_time": "2024-07-26T21:36:22.697Z"
   },
   {
    "duration": 124,
    "start_time": "2024-07-26T21:36:25.633Z"
   },
   {
    "duration": 172,
    "start_time": "2024-07-26T21:36:25.761Z"
   },
   {
    "duration": 681,
    "start_time": "2024-07-26T21:36:25.936Z"
   },
   {
    "duration": 121,
    "start_time": "2024-07-26T21:36:26.620Z"
   },
   {
    "duration": 21,
    "start_time": "2024-07-26T21:36:26.750Z"
   },
   {
    "duration": 135,
    "start_time": "2024-07-26T21:36:26.774Z"
   },
   {
    "duration": 4643,
    "start_time": "2024-07-26T21:36:26.912Z"
   },
   {
    "duration": 146,
    "start_time": "2024-07-26T21:36:31.558Z"
   },
   {
    "duration": 4928,
    "start_time": "2024-07-26T21:36:31.707Z"
   },
   {
    "duration": 449,
    "start_time": "2024-07-26T21:36:36.638Z"
   },
   {
    "duration": 152,
    "start_time": "2024-07-26T21:36:37.091Z"
   },
   {
    "duration": 10,
    "start_time": "2024-07-26T21:36:37.246Z"
   },
   {
    "duration": 4657,
    "start_time": "2024-07-26T21:36:37.259Z"
   },
   {
    "duration": 22,
    "start_time": "2024-07-26T21:36:41.919Z"
   },
   {
    "duration": 13,
    "start_time": "2024-07-26T21:36:41.945Z"
   },
   {
    "duration": 89,
    "start_time": "2024-07-26T21:36:41.961Z"
   },
   {
    "duration": 107,
    "start_time": "2024-07-26T21:36:42.053Z"
   },
   {
    "duration": 720,
    "start_time": "2024-07-26T21:36:42.163Z"
   },
   {
    "duration": 28,
    "start_time": "2024-07-26T21:36:42.886Z"
   },
   {
    "duration": 544,
    "start_time": "2024-07-26T21:36:42.917Z"
   },
   {
    "duration": 32,
    "start_time": "2024-07-26T21:36:50.981Z"
   },
   {
    "duration": 102,
    "start_time": "2024-07-26T21:37:00.048Z"
   },
   {
    "duration": 26,
    "start_time": "2024-07-26T21:37:01.891Z"
   },
   {
    "duration": 28,
    "start_time": "2024-07-26T21:37:15.165Z"
   },
   {
    "duration": 711,
    "start_time": "2024-07-26T21:37:21.956Z"
   },
   {
    "duration": 13,
    "start_time": "2024-07-26T21:38:21.425Z"
   },
   {
    "duration": 990,
    "start_time": "2024-07-26T21:38:23.378Z"
   },
   {
    "duration": 1672,
    "start_time": "2024-07-26T21:38:43.662Z"
   },
   {
    "duration": 780,
    "start_time": "2024-07-26T21:38:45.338Z"
   },
   {
    "duration": 39,
    "start_time": "2024-07-26T21:38:46.121Z"
   },
   {
    "duration": 154,
    "start_time": "2024-07-26T21:38:46.163Z"
   },
   {
    "duration": 137,
    "start_time": "2024-07-26T21:38:46.334Z"
   },
   {
    "duration": 237,
    "start_time": "2024-07-26T21:38:46.474Z"
   },
   {
    "duration": 150,
    "start_time": "2024-07-26T21:38:46.713Z"
   },
   {
    "duration": 70,
    "start_time": "2024-07-26T21:38:46.866Z"
   },
   {
    "duration": 2903,
    "start_time": "2024-07-26T21:38:46.939Z"
   },
   {
    "duration": 132,
    "start_time": "2024-07-26T21:38:49.845Z"
   },
   {
    "duration": 166,
    "start_time": "2024-07-26T21:38:49.980Z"
   },
   {
    "duration": 678,
    "start_time": "2024-07-26T21:38:50.148Z"
   },
   {
    "duration": 116,
    "start_time": "2024-07-26T21:38:50.834Z"
   },
   {
    "duration": 19,
    "start_time": "2024-07-26T21:38:50.958Z"
   },
   {
    "duration": 135,
    "start_time": "2024-07-26T21:38:50.979Z"
   },
   {
    "duration": 4702,
    "start_time": "2024-07-26T21:38:51.117Z"
   },
   {
    "duration": 141,
    "start_time": "2024-07-26T21:38:55.822Z"
   },
   {
    "duration": 4933,
    "start_time": "2024-07-26T21:38:55.966Z"
   },
   {
    "duration": 450,
    "start_time": "2024-07-26T21:39:00.902Z"
   },
   {
    "duration": 145,
    "start_time": "2024-07-26T21:39:01.359Z"
   },
   {
    "duration": 30,
    "start_time": "2024-07-26T21:39:01.507Z"
   },
   {
    "duration": 4660,
    "start_time": "2024-07-26T21:39:01.541Z"
   },
   {
    "duration": 28,
    "start_time": "2024-07-26T21:39:06.204Z"
   },
   {
    "duration": 14,
    "start_time": "2024-07-26T21:39:06.235Z"
   },
   {
    "duration": 81,
    "start_time": "2024-07-26T21:39:06.253Z"
   },
   {
    "duration": 105,
    "start_time": "2024-07-26T21:39:06.337Z"
   },
   {
    "duration": 725,
    "start_time": "2024-07-26T21:39:06.445Z"
   },
   {
    "duration": 31,
    "start_time": "2024-07-26T21:39:07.173Z"
   },
   {
    "duration": 557,
    "start_time": "2024-07-26T21:39:07.207Z"
   },
   {
    "duration": 32,
    "start_time": "2024-07-26T21:39:07.767Z"
   },
   {
    "duration": 118,
    "start_time": "2024-07-26T21:39:07.802Z"
   },
   {
    "duration": 21,
    "start_time": "2024-07-26T21:39:07.922Z"
   },
   {
    "duration": 1017,
    "start_time": "2024-07-26T21:39:07.945Z"
   },
   {
    "duration": 315,
    "start_time": "2024-07-26T21:43:15.126Z"
   },
   {
    "duration": 1698,
    "start_time": "2024-07-26T21:44:24.535Z"
   },
   {
    "duration": 760,
    "start_time": "2024-07-26T21:44:26.236Z"
   },
   {
    "duration": 45,
    "start_time": "2024-07-26T21:44:26.999Z"
   },
   {
    "duration": 165,
    "start_time": "2024-07-26T21:44:27.046Z"
   },
   {
    "duration": 150,
    "start_time": "2024-07-26T21:44:27.215Z"
   },
   {
    "duration": 228,
    "start_time": "2024-07-26T21:44:27.369Z"
   },
   {
    "duration": 156,
    "start_time": "2024-07-26T21:44:27.601Z"
   },
   {
    "duration": 77,
    "start_time": "2024-07-26T21:44:27.759Z"
   },
   {
    "duration": 3005,
    "start_time": "2024-07-26T21:44:27.840Z"
   },
   {
    "duration": 129,
    "start_time": "2024-07-26T21:44:30.848Z"
   },
   {
    "duration": 174,
    "start_time": "2024-07-26T21:44:30.980Z"
   },
   {
    "duration": 697,
    "start_time": "2024-07-26T21:44:31.159Z"
   },
   {
    "duration": 114,
    "start_time": "2024-07-26T21:44:31.859Z"
   },
   {
    "duration": 19,
    "start_time": "2024-07-26T21:44:31.978Z"
   },
   {
    "duration": 135,
    "start_time": "2024-07-26T21:44:32.000Z"
   },
   {
    "duration": 4695,
    "start_time": "2024-07-26T21:44:32.140Z"
   },
   {
    "duration": 140,
    "start_time": "2024-07-26T21:44:36.838Z"
   },
   {
    "duration": 4856,
    "start_time": "2024-07-26T21:44:36.981Z"
   },
   {
    "duration": 449,
    "start_time": "2024-07-26T21:44:41.841Z"
   },
   {
    "duration": 147,
    "start_time": "2024-07-26T21:44:42.292Z"
   },
   {
    "duration": 7,
    "start_time": "2024-07-26T21:44:46.650Z"
   },
   {
    "duration": 415,
    "start_time": "2024-07-26T21:50:55.466Z"
   },
   {
    "duration": 11,
    "start_time": "2024-07-26T21:51:11.639Z"
   },
   {
    "duration": 6,
    "start_time": "2024-07-26T21:51:28.614Z"
   },
   {
    "duration": 4078,
    "start_time": "2024-07-26T21:51:32.361Z"
   },
   {
    "duration": 12,
    "start_time": "2024-07-26T21:51:47.910Z"
   },
   {
    "duration": 13,
    "start_time": "2024-07-26T21:51:51.894Z"
   },
   {
    "duration": 50,
    "start_time": "2024-07-26T21:52:04.990Z"
   },
   {
    "duration": 97,
    "start_time": "2024-07-26T21:52:06.820Z"
   },
   {
    "duration": 741,
    "start_time": "2024-07-26T21:52:11.294Z"
   },
   {
    "duration": 29,
    "start_time": "2024-07-26T21:52:14.271Z"
   },
   {
    "duration": 524,
    "start_time": "2024-07-26T21:52:17.310Z"
   },
   {
    "duration": 32,
    "start_time": "2024-07-26T21:52:19.921Z"
   },
   {
    "duration": 101,
    "start_time": "2024-07-26T21:52:30.046Z"
   },
   {
    "duration": 12,
    "start_time": "2024-07-26T21:52:31.754Z"
   },
   {
    "duration": 995,
    "start_time": "2024-07-26T21:52:33.366Z"
   },
   {
    "duration": 1738,
    "start_time": "2024-07-26T21:53:19.817Z"
   },
   {
    "duration": 792,
    "start_time": "2024-07-26T21:53:21.558Z"
   },
   {
    "duration": 35,
    "start_time": "2024-07-26T21:53:22.354Z"
   },
   {
    "duration": 171,
    "start_time": "2024-07-26T21:53:22.393Z"
   },
   {
    "duration": 147,
    "start_time": "2024-07-26T21:53:22.567Z"
   },
   {
    "duration": 232,
    "start_time": "2024-07-26T21:53:22.716Z"
   },
   {
    "duration": 148,
    "start_time": "2024-07-26T21:53:22.951Z"
   },
   {
    "duration": 76,
    "start_time": "2024-07-26T21:53:23.102Z"
   },
   {
    "duration": 2890,
    "start_time": "2024-07-26T21:53:23.181Z"
   },
   {
    "duration": 133,
    "start_time": "2024-07-26T21:53:26.077Z"
   },
   {
    "duration": 166,
    "start_time": "2024-07-26T21:53:26.213Z"
   },
   {
    "duration": 686,
    "start_time": "2024-07-26T21:53:26.382Z"
   },
   {
    "duration": 128,
    "start_time": "2024-07-26T21:53:27.070Z"
   },
   {
    "duration": 32,
    "start_time": "2024-07-26T21:53:27.200Z"
   },
   {
    "duration": 121,
    "start_time": "2024-07-26T21:53:27.235Z"
   },
   {
    "duration": 4660,
    "start_time": "2024-07-26T21:53:27.359Z"
   },
   {
    "duration": 143,
    "start_time": "2024-07-26T21:53:32.022Z"
   },
   {
    "duration": 4865,
    "start_time": "2024-07-26T21:53:32.168Z"
   },
   {
    "duration": 453,
    "start_time": "2024-07-26T21:53:37.036Z"
   },
   {
    "duration": 144,
    "start_time": "2024-07-26T21:53:37.492Z"
   },
   {
    "duration": 7,
    "start_time": "2024-07-26T21:53:37.639Z"
   },
   {
    "duration": 11,
    "start_time": "2024-07-26T21:53:37.648Z"
   },
   {
    "duration": 5,
    "start_time": "2024-07-26T21:53:37.662Z"
   },
   {
    "duration": 4093,
    "start_time": "2024-07-26T21:53:37.670Z"
   },
   {
    "duration": 12,
    "start_time": "2024-07-26T21:53:41.769Z"
   },
   {
    "duration": 15,
    "start_time": "2024-07-26T21:53:41.784Z"
   },
   {
    "duration": 80,
    "start_time": "2024-07-26T21:53:41.801Z"
   },
   {
    "duration": 118,
    "start_time": "2024-07-26T21:53:41.887Z"
   },
   {
    "duration": 737,
    "start_time": "2024-07-26T21:53:42.011Z"
   },
   {
    "duration": 30,
    "start_time": "2024-07-26T21:53:42.751Z"
   },
   {
    "duration": 552,
    "start_time": "2024-07-26T21:53:42.784Z"
   },
   {
    "duration": 32,
    "start_time": "2024-07-26T21:53:43.338Z"
   },
   {
    "duration": 125,
    "start_time": "2024-07-26T21:53:43.373Z"
   },
   {
    "duration": 12,
    "start_time": "2024-07-26T21:53:43.501Z"
   },
   {
    "duration": 1026,
    "start_time": "2024-07-26T21:53:43.516Z"
   },
   {
    "duration": 1682,
    "start_time": "2024-07-26T21:55:14.957Z"
   },
   {
    "duration": 803,
    "start_time": "2024-07-26T21:55:16.643Z"
   },
   {
    "duration": 36,
    "start_time": "2024-07-26T21:55:17.448Z"
   },
   {
    "duration": 162,
    "start_time": "2024-07-26T21:55:17.488Z"
   },
   {
    "duration": 143,
    "start_time": "2024-07-26T21:55:17.653Z"
   },
   {
    "duration": 235,
    "start_time": "2024-07-26T21:55:17.798Z"
   },
   {
    "duration": 147,
    "start_time": "2024-07-26T21:55:18.036Z"
   },
   {
    "duration": 76,
    "start_time": "2024-07-26T21:55:18.186Z"
   },
   {
    "duration": 2862,
    "start_time": "2024-07-26T21:55:18.264Z"
   },
   {
    "duration": 146,
    "start_time": "2024-07-26T21:55:21.130Z"
   },
   {
    "duration": 181,
    "start_time": "2024-07-26T21:55:21.279Z"
   },
   {
    "duration": 700,
    "start_time": "2024-07-26T21:55:21.463Z"
   },
   {
    "duration": 115,
    "start_time": "2024-07-26T21:55:22.167Z"
   },
   {
    "duration": 21,
    "start_time": "2024-07-26T21:55:22.286Z"
   },
   {
    "duration": 147,
    "start_time": "2024-07-26T21:55:22.310Z"
   },
   {
    "duration": 4685,
    "start_time": "2024-07-26T21:55:22.463Z"
   },
   {
    "duration": 140,
    "start_time": "2024-07-26T21:55:27.152Z"
   },
   {
    "duration": 4839,
    "start_time": "2024-07-26T21:55:27.294Z"
   },
   {
    "duration": 448,
    "start_time": "2024-07-26T21:55:32.138Z"
   },
   {
    "duration": 145,
    "start_time": "2024-07-26T21:55:32.589Z"
   },
   {
    "duration": 7,
    "start_time": "2024-07-26T21:55:32.737Z"
   },
   {
    "duration": 11,
    "start_time": "2024-07-26T21:55:32.747Z"
   },
   {
    "duration": 5,
    "start_time": "2024-07-26T21:55:32.761Z"
   },
   {
    "duration": 4099,
    "start_time": "2024-07-26T21:55:32.769Z"
   },
   {
    "duration": 12,
    "start_time": "2024-07-26T21:55:36.871Z"
   },
   {
    "duration": 14,
    "start_time": "2024-07-26T21:55:36.886Z"
   },
   {
    "duration": 78,
    "start_time": "2024-07-26T21:55:36.903Z"
   },
   {
    "duration": 121,
    "start_time": "2024-07-26T21:55:36.991Z"
   },
   {
    "duration": 744,
    "start_time": "2024-07-26T21:55:37.114Z"
   },
   {
    "duration": 31,
    "start_time": "2024-07-26T21:55:37.861Z"
   },
   {
    "duration": 542,
    "start_time": "2024-07-26T21:55:37.896Z"
   },
   {
    "duration": 31,
    "start_time": "2024-07-26T21:55:38.441Z"
   },
   {
    "duration": 125,
    "start_time": "2024-07-26T21:55:38.476Z"
   },
   {
    "duration": 13,
    "start_time": "2024-07-26T21:55:38.604Z"
   },
   {
    "duration": 1022,
    "start_time": "2024-07-26T21:55:38.619Z"
   },
   {
    "duration": 1724,
    "start_time": "2024-07-27T00:02:30.289Z"
   },
   {
    "duration": 780,
    "start_time": "2024-07-27T00:02:32.017Z"
   },
   {
    "duration": 45,
    "start_time": "2024-07-27T00:02:32.799Z"
   },
   {
    "duration": 153,
    "start_time": "2024-07-27T00:02:32.847Z"
   },
   {
    "duration": 143,
    "start_time": "2024-07-27T00:02:33.004Z"
   },
   {
    "duration": 233,
    "start_time": "2024-07-27T00:02:33.150Z"
   },
   {
    "duration": 155,
    "start_time": "2024-07-27T00:02:33.386Z"
   },
   {
    "duration": 58,
    "start_time": "2024-07-27T00:02:33.544Z"
   },
   {
    "duration": 3014,
    "start_time": "2024-07-27T00:02:33.606Z"
   },
   {
    "duration": 130,
    "start_time": "2024-07-27T00:02:36.625Z"
   },
   {
    "duration": 174,
    "start_time": "2024-07-27T00:02:36.758Z"
   },
   {
    "duration": 685,
    "start_time": "2024-07-27T00:02:36.934Z"
   },
   {
    "duration": 113,
    "start_time": "2024-07-27T00:02:37.623Z"
   },
   {
    "duration": 25,
    "start_time": "2024-07-27T00:02:37.746Z"
   },
   {
    "duration": 136,
    "start_time": "2024-07-27T00:02:37.775Z"
   },
   {
    "duration": 4652,
    "start_time": "2024-07-27T00:02:37.915Z"
   },
   {
    "duration": 140,
    "start_time": "2024-07-27T00:02:42.570Z"
   },
   {
    "duration": 4901,
    "start_time": "2024-07-27T00:02:42.714Z"
   },
   {
    "duration": 445,
    "start_time": "2024-07-27T00:02:47.620Z"
   },
   {
    "duration": 148,
    "start_time": "2024-07-27T00:02:48.067Z"
   },
   {
    "duration": 6,
    "start_time": "2024-07-27T00:02:48.218Z"
   },
   {
    "duration": 13,
    "start_time": "2024-07-27T00:02:48.234Z"
   },
   {
    "duration": 6,
    "start_time": "2024-07-27T00:02:48.249Z"
   },
   {
    "duration": 4104,
    "start_time": "2024-07-27T00:02:48.258Z"
   },
   {
    "duration": 12,
    "start_time": "2024-07-27T00:02:52.364Z"
   },
   {
    "duration": 14,
    "start_time": "2024-07-27T00:02:52.379Z"
   },
   {
    "duration": 84,
    "start_time": "2024-07-27T00:02:52.396Z"
   },
   {
    "duration": 109,
    "start_time": "2024-07-27T00:02:52.484Z"
   },
   {
    "duration": 723,
    "start_time": "2024-07-27T00:02:52.596Z"
   },
   {
    "duration": 54,
    "start_time": "2024-07-27T00:02:53.323Z"
   },
   {
    "duration": 538,
    "start_time": "2024-07-27T00:02:53.384Z"
   },
   {
    "duration": 37,
    "start_time": "2024-07-27T00:02:53.924Z"
   },
   {
    "duration": 122,
    "start_time": "2024-07-27T00:02:53.964Z"
   },
   {
    "duration": 13,
    "start_time": "2024-07-27T00:02:54.089Z"
   },
   {
    "duration": 1023,
    "start_time": "2024-07-27T00:02:54.105Z"
   },
   {
    "duration": 13,
    "start_time": "2024-07-27T03:09:02.277Z"
   },
   {
    "duration": 3,
    "start_time": "2024-07-27T03:09:21.126Z"
   },
   {
    "duration": 5596,
    "start_time": "2024-07-27T16:06:21.114Z"
   },
   {
    "duration": 792,
    "start_time": "2024-07-27T16:06:26.713Z"
   },
   {
    "duration": 35,
    "start_time": "2024-07-27T16:06:29.824Z"
   },
   {
    "duration": 143,
    "start_time": "2024-07-27T16:06:30.524Z"
   },
   {
    "duration": 134,
    "start_time": "2024-07-27T16:06:30.751Z"
   },
   {
    "duration": 212,
    "start_time": "2024-07-27T16:06:30.945Z"
   },
   {
    "duration": 140,
    "start_time": "2024-07-27T16:06:32.463Z"
   },
   {
    "duration": 60,
    "start_time": "2024-07-27T16:06:33.123Z"
   },
   {
    "duration": 2889,
    "start_time": "2024-07-27T16:06:33.794Z"
   },
   {
    "duration": 132,
    "start_time": "2024-07-27T16:06:36.687Z"
   },
   {
    "duration": 158,
    "start_time": "2024-07-27T16:06:39.226Z"
   },
   {
    "duration": 673,
    "start_time": "2024-07-27T16:06:41.258Z"
   },
   {
    "duration": 114,
    "start_time": "2024-07-27T16:06:41.935Z"
   },
   {
    "duration": 19,
    "start_time": "2024-07-27T16:06:42.356Z"
   },
   {
    "duration": 112,
    "start_time": "2024-07-27T16:06:43.682Z"
   },
   {
    "duration": 4746,
    "start_time": "2024-07-27T16:06:44.864Z"
   },
   {
    "duration": 139,
    "start_time": "2024-07-27T16:06:49.614Z"
   },
   {
    "duration": 4861,
    "start_time": "2024-07-27T16:06:49.756Z"
   },
   {
    "duration": 464,
    "start_time": "2024-07-27T16:06:54.621Z"
   },
   {
    "duration": 140,
    "start_time": "2024-07-27T16:06:55.088Z"
   },
   {
    "duration": 7,
    "start_time": "2024-07-27T16:06:55.231Z"
   },
   {
    "duration": 31,
    "start_time": "2024-07-27T16:06:55.241Z"
   },
   {
    "duration": 6,
    "start_time": "2024-07-27T16:06:55.275Z"
   },
   {
    "duration": 4226,
    "start_time": "2024-07-27T16:06:55.285Z"
   },
   {
    "duration": 12,
    "start_time": "2024-07-27T16:06:59.517Z"
   },
   {
    "duration": 38,
    "start_time": "2024-07-27T16:06:59.531Z"
   },
   {
    "duration": 38,
    "start_time": "2024-07-27T16:06:59.572Z"
   },
   {
    "duration": 117,
    "start_time": "2024-07-27T16:06:59.614Z"
   },
   {
    "duration": 724,
    "start_time": "2024-07-27T16:06:59.734Z"
   },
   {
    "duration": 34,
    "start_time": "2024-07-27T16:07:00.462Z"
   },
   {
    "duration": 540,
    "start_time": "2024-07-27T16:07:00.500Z"
   },
   {
    "duration": 43,
    "start_time": "2024-07-27T16:07:01.043Z"
   },
   {
    "duration": 119,
    "start_time": "2024-07-27T16:07:01.090Z"
   },
   {
    "duration": 15,
    "start_time": "2024-07-27T16:07:01.212Z"
   },
   {
    "duration": 1017,
    "start_time": "2024-07-27T16:07:01.230Z"
   },
   {
    "duration": 1688,
    "start_time": "2024-07-27T16:07:31.036Z"
   },
   {
    "duration": 777,
    "start_time": "2024-07-27T16:07:34.242Z"
   },
   {
    "duration": 42,
    "start_time": "2024-07-27T16:07:35.872Z"
   },
   {
    "duration": 142,
    "start_time": "2024-07-27T16:07:36.048Z"
   },
   {
    "duration": 142,
    "start_time": "2024-07-27T16:07:36.427Z"
   },
   {
    "duration": 214,
    "start_time": "2024-07-27T16:07:36.857Z"
   },
   {
    "duration": 145,
    "start_time": "2024-07-27T16:07:37.442Z"
   },
   {
    "duration": 68,
    "start_time": "2024-07-27T16:07:37.852Z"
   },
   {
    "duration": 2847,
    "start_time": "2024-07-27T16:07:38.224Z"
   },
   {
    "duration": 130,
    "start_time": "2024-07-27T16:07:41.074Z"
   },
   {
    "duration": 167,
    "start_time": "2024-07-27T16:07:41.206Z"
   },
   {
    "duration": 666,
    "start_time": "2024-07-27T16:07:42.760Z"
   },
   {
    "duration": 116,
    "start_time": "2024-07-27T16:07:43.432Z"
   },
   {
    "duration": 27,
    "start_time": "2024-07-27T16:07:43.550Z"
   },
   {
    "duration": 115,
    "start_time": "2024-07-27T16:07:44.385Z"
   },
   {
    "duration": 4715,
    "start_time": "2024-07-27T16:07:45.398Z"
   },
   {
    "duration": 142,
    "start_time": "2024-07-27T16:07:50.117Z"
   },
   {
    "duration": 4808,
    "start_time": "2024-07-27T16:07:50.262Z"
   },
   {
    "duration": 453,
    "start_time": "2024-07-27T16:07:55.076Z"
   },
   {
    "duration": 143,
    "start_time": "2024-07-27T16:07:55.532Z"
   },
   {
    "duration": 8,
    "start_time": "2024-07-27T16:07:55.678Z"
   },
   {
    "duration": 11,
    "start_time": "2024-07-27T16:07:55.688Z"
   },
   {
    "duration": 5,
    "start_time": "2024-07-27T16:07:55.702Z"
   },
   {
    "duration": 4089,
    "start_time": "2024-07-27T16:07:55.710Z"
   },
   {
    "duration": 11,
    "start_time": "2024-07-27T16:07:59.804Z"
   },
   {
    "duration": 13,
    "start_time": "2024-07-27T16:07:59.818Z"
   },
   {
    "duration": 81,
    "start_time": "2024-07-27T16:07:59.834Z"
   },
   {
    "duration": 115,
    "start_time": "2024-07-27T16:07:59.918Z"
   },
   {
    "duration": 724,
    "start_time": "2024-07-27T16:08:00.036Z"
   },
   {
    "duration": 31,
    "start_time": "2024-07-27T16:08:00.763Z"
   },
   {
    "duration": 543,
    "start_time": "2024-07-27T16:08:00.798Z"
   },
   {
    "duration": 44,
    "start_time": "2024-07-27T16:08:01.344Z"
   },
   {
    "duration": 117,
    "start_time": "2024-07-27T16:08:01.391Z"
   },
   {
    "duration": 13,
    "start_time": "2024-07-27T16:08:01.511Z"
   },
   {
    "duration": 1005,
    "start_time": "2024-07-27T16:08:01.526Z"
   },
   {
    "duration": 6,
    "start_time": "2024-07-27T16:08:07.846Z"
   },
   {
    "duration": 7,
    "start_time": "2024-07-27T16:08:14.993Z"
   },
   {
    "duration": 6,
    "start_time": "2024-07-27T16:08:23.453Z"
   },
   {
    "duration": 6,
    "start_time": "2024-07-27T16:08:27.781Z"
   },
   {
    "duration": 324,
    "start_time": "2024-07-27T16:10:07.249Z"
   },
   {
    "duration": 1785,
    "start_time": "2024-07-27T16:10:15.464Z"
   },
   {
    "duration": 787,
    "start_time": "2024-07-27T16:10:17.306Z"
   },
   {
    "duration": 36,
    "start_time": "2024-07-27T16:10:18.097Z"
   },
   {
    "duration": 166,
    "start_time": "2024-07-27T16:10:18.138Z"
   },
   {
    "duration": 149,
    "start_time": "2024-07-27T16:10:18.307Z"
   },
   {
    "duration": 229,
    "start_time": "2024-07-27T16:10:18.468Z"
   },
   {
    "duration": 154,
    "start_time": "2024-07-27T16:10:18.701Z"
   },
   {
    "duration": 58,
    "start_time": "2024-07-27T16:10:18.870Z"
   },
   {
    "duration": 2858,
    "start_time": "2024-07-27T16:10:18.971Z"
   },
   {
    "duration": 134,
    "start_time": "2024-07-27T16:10:21.833Z"
   },
   {
    "duration": 168,
    "start_time": "2024-07-27T16:10:21.970Z"
   },
   {
    "duration": 712,
    "start_time": "2024-07-27T16:10:22.142Z"
   },
   {
    "duration": 115,
    "start_time": "2024-07-27T16:10:22.857Z"
   },
   {
    "duration": 20,
    "start_time": "2024-07-27T16:10:22.974Z"
   },
   {
    "duration": 137,
    "start_time": "2024-07-27T16:10:22.997Z"
   },
   {
    "duration": 5059,
    "start_time": "2024-07-27T16:10:23.138Z"
   },
   {
    "duration": 149,
    "start_time": "2024-07-27T16:10:28.200Z"
   },
   {
    "duration": 5045,
    "start_time": "2024-07-27T16:10:28.354Z"
   },
   {
    "duration": 451,
    "start_time": "2024-07-27T16:10:33.404Z"
   },
   {
    "duration": 139,
    "start_time": "2024-07-27T16:10:33.867Z"
   },
   {
    "duration": 7,
    "start_time": "2024-07-27T16:10:34.008Z"
   },
   {
    "duration": 11,
    "start_time": "2024-07-27T16:10:34.018Z"
   },
   {
    "duration": 5,
    "start_time": "2024-07-27T16:10:34.032Z"
   },
   {
    "duration": 4113,
    "start_time": "2024-07-27T16:10:34.070Z"
   },
   {
    "duration": 12,
    "start_time": "2024-07-27T16:10:38.187Z"
   },
   {
    "duration": 14,
    "start_time": "2024-07-27T16:10:38.202Z"
   },
   {
    "duration": 86,
    "start_time": "2024-07-27T16:10:38.222Z"
   },
   {
    "duration": 110,
    "start_time": "2024-07-27T16:10:38.311Z"
   },
   {
    "duration": 735,
    "start_time": "2024-07-27T16:10:38.424Z"
   },
   {
    "duration": 34,
    "start_time": "2024-07-27T16:10:39.161Z"
   },
   {
    "duration": 554,
    "start_time": "2024-07-27T16:10:39.198Z"
   },
   {
    "duration": 40,
    "start_time": "2024-07-27T16:10:39.754Z"
   },
   {
    "duration": 130,
    "start_time": "2024-07-27T16:10:39.797Z"
   },
   {
    "duration": 13,
    "start_time": "2024-07-27T16:10:39.930Z"
   },
   {
    "duration": 1010,
    "start_time": "2024-07-27T16:10:39.946Z"
   },
   {
    "duration": 11,
    "start_time": "2024-07-27T16:10:40.959Z"
   },
   {
    "duration": 13,
    "start_time": "2024-07-28T00:55:15.812Z"
   },
   {
    "duration": 5358,
    "start_time": "2024-07-29T11:58:58.724Z"
   },
   {
    "duration": 774,
    "start_time": "2024-07-29T11:59:04.086Z"
   },
   {
    "duration": 38,
    "start_time": "2024-07-29T11:59:04.863Z"
   },
   {
    "duration": 151,
    "start_time": "2024-07-29T11:59:04.930Z"
   },
   {
    "duration": 150,
    "start_time": "2024-07-29T11:59:05.084Z"
   },
   {
    "duration": 225,
    "start_time": "2024-07-29T11:59:05.238Z"
   },
   {
    "duration": 166,
    "start_time": "2024-07-29T11:59:05.465Z"
   },
   {
    "duration": 65,
    "start_time": "2024-07-29T11:59:05.634Z"
   },
   {
    "duration": 2889,
    "start_time": "2024-07-29T11:59:05.701Z"
   },
   {
    "duration": 136,
    "start_time": "2024-07-29T11:59:08.598Z"
   },
   {
    "duration": 172,
    "start_time": "2024-07-29T11:59:08.738Z"
   },
   {
    "duration": 682,
    "start_time": "2024-07-29T11:59:08.913Z"
   },
   {
    "duration": 121,
    "start_time": "2024-07-29T11:59:09.598Z"
   },
   {
    "duration": 24,
    "start_time": "2024-07-29T11:59:09.722Z"
   },
   {
    "duration": 138,
    "start_time": "2024-07-29T11:59:09.749Z"
   },
   {
    "duration": 4665,
    "start_time": "2024-07-29T11:59:09.890Z"
   },
   {
    "duration": 146,
    "start_time": "2024-07-29T11:59:14.558Z"
   },
   {
    "duration": 4797,
    "start_time": "2024-07-29T11:59:14.708Z"
   },
   {
    "duration": 453,
    "start_time": "2024-07-29T11:59:19.509Z"
   },
   {
    "duration": 150,
    "start_time": "2024-07-29T11:59:19.967Z"
   },
   {
    "duration": 14,
    "start_time": "2024-07-29T11:59:20.120Z"
   },
   {
    "duration": 11,
    "start_time": "2024-07-29T11:59:20.137Z"
   },
   {
    "duration": 6,
    "start_time": "2024-07-29T11:59:20.150Z"
   },
   {
    "duration": 4104,
    "start_time": "2024-07-29T11:59:20.159Z"
   },
   {
    "duration": 12,
    "start_time": "2024-07-29T11:59:24.266Z"
   },
   {
    "duration": 13,
    "start_time": "2024-07-29T11:59:24.281Z"
   },
   {
    "duration": 58,
    "start_time": "2024-07-29T11:59:24.331Z"
   },
   {
    "duration": 118,
    "start_time": "2024-07-29T11:59:24.395Z"
   },
   {
    "duration": 1351,
    "start_time": "2024-07-29T11:59:24.516Z"
   },
   {
    "duration": 0,
    "start_time": "2024-07-29T11:59:25.869Z"
   },
   {
    "duration": 1669,
    "start_time": "2024-07-29T12:00:47.904Z"
   },
   {
    "duration": 719,
    "start_time": "2024-07-29T12:00:49.577Z"
   },
   {
    "duration": 48,
    "start_time": "2024-07-29T12:00:50.299Z"
   },
   {
    "duration": 164,
    "start_time": "2024-07-29T12:00:50.350Z"
   },
   {
    "duration": 147,
    "start_time": "2024-07-29T12:00:50.520Z"
   },
   {
    "duration": 237,
    "start_time": "2024-07-29T12:00:50.671Z"
   },
   {
    "duration": 154,
    "start_time": "2024-07-29T12:00:50.912Z"
   },
   {
    "duration": 71,
    "start_time": "2024-07-29T12:00:51.069Z"
   },
   {
    "duration": 3004,
    "start_time": "2024-07-29T12:00:51.142Z"
   },
   {
    "duration": 132,
    "start_time": "2024-07-29T12:00:54.149Z"
   },
   {
    "duration": 172,
    "start_time": "2024-07-29T12:00:54.284Z"
   },
   {
    "duration": 682,
    "start_time": "2024-07-29T12:00:54.459Z"
   },
   {
    "duration": 118,
    "start_time": "2024-07-29T12:00:55.144Z"
   },
   {
    "duration": 18,
    "start_time": "2024-07-29T12:00:55.269Z"
   },
   {
    "duration": 141,
    "start_time": "2024-07-29T12:00:55.290Z"
   },
   {
    "duration": 4658,
    "start_time": "2024-07-29T12:00:55.434Z"
   },
   {
    "duration": 141,
    "start_time": "2024-07-29T12:01:00.095Z"
   },
   {
    "duration": 4901,
    "start_time": "2024-07-29T12:01:00.238Z"
   },
   {
    "duration": 445,
    "start_time": "2024-07-29T12:01:05.143Z"
   },
   {
    "duration": 148,
    "start_time": "2024-07-29T12:01:05.591Z"
   },
   {
    "duration": 7,
    "start_time": "2024-07-29T12:01:05.742Z"
   },
   {
    "duration": 12,
    "start_time": "2024-07-29T12:01:05.753Z"
   },
   {
    "duration": 6,
    "start_time": "2024-07-29T12:01:05.767Z"
   },
   {
    "duration": 4046,
    "start_time": "2024-07-29T12:01:05.776Z"
   },
   {
    "duration": 13,
    "start_time": "2024-07-29T12:01:09.825Z"
   },
   {
    "duration": 15,
    "start_time": "2024-07-29T12:01:09.841Z"
   },
   {
    "duration": 93,
    "start_time": "2024-07-29T12:01:09.859Z"
   },
   {
    "duration": 114,
    "start_time": "2024-07-29T12:01:09.955Z"
   },
   {
    "duration": 225,
    "start_time": "2024-07-29T12:01:10.072Z"
   },
   {
    "duration": 191,
    "start_time": "2024-07-29T12:01:10.300Z"
   },
   {
    "duration": 30,
    "start_time": "2024-07-29T12:01:22.696Z"
   },
   {
    "duration": 428,
    "start_time": "2024-07-29T12:02:27.055Z"
   },
   {
    "duration": 32,
    "start_time": "2024-07-29T12:02:29.660Z"
   },
   {
    "duration": 62,
    "start_time": "2024-07-29T12:02:38.811Z"
   },
   {
    "duration": 23,
    "start_time": "2024-07-29T12:02:59.045Z"
   },
   {
    "duration": 12,
    "start_time": "2024-07-29T12:03:00.795Z"
   },
   {
    "duration": 144,
    "start_time": "2024-07-29T12:03:02.707Z"
   },
   {
    "duration": 6,
    "start_time": "2024-07-29T12:03:04.349Z"
   },
   {
    "duration": 18,
    "start_time": "2024-07-29T12:03:43.830Z"
   },
   {
    "duration": 571,
    "start_time": "2024-07-29T12:03:43.853Z"
   },
   {
    "duration": 0,
    "start_time": "2024-07-29T12:03:44.432Z"
   },
   {
    "duration": 0,
    "start_time": "2024-07-29T12:03:44.433Z"
   },
   {
    "duration": 0,
    "start_time": "2024-07-29T12:03:44.436Z"
   },
   {
    "duration": 0,
    "start_time": "2024-07-29T12:03:44.438Z"
   },
   {
    "duration": 0,
    "start_time": "2024-07-29T12:03:44.441Z"
   },
   {
    "duration": 0,
    "start_time": "2024-07-29T12:03:44.444Z"
   },
   {
    "duration": 0,
    "start_time": "2024-07-29T12:03:44.446Z"
   },
   {
    "duration": 0,
    "start_time": "2024-07-29T12:03:44.449Z"
   },
   {
    "duration": 1,
    "start_time": "2024-07-29T12:03:44.451Z"
   },
   {
    "duration": 0,
    "start_time": "2024-07-29T12:03:44.454Z"
   },
   {
    "duration": 0,
    "start_time": "2024-07-29T12:03:44.457Z"
   },
   {
    "duration": 1631,
    "start_time": "2024-07-29T12:07:42.074Z"
   },
   {
    "duration": 723,
    "start_time": "2024-07-29T12:07:43.708Z"
   },
   {
    "duration": 37,
    "start_time": "2024-07-29T12:07:44.434Z"
   },
   {
    "duration": 171,
    "start_time": "2024-07-29T12:07:44.474Z"
   },
   {
    "duration": 146,
    "start_time": "2024-07-29T12:07:44.650Z"
   },
   {
    "duration": 241,
    "start_time": "2024-07-29T12:07:44.799Z"
   },
   {
    "duration": 162,
    "start_time": "2024-07-29T12:07:45.044Z"
   },
   {
    "duration": 73,
    "start_time": "2024-07-29T12:07:45.209Z"
   },
   {
    "duration": 2893,
    "start_time": "2024-07-29T12:07:45.285Z"
   },
   {
    "duration": 133,
    "start_time": "2024-07-29T12:07:48.181Z"
   },
   {
    "duration": 165,
    "start_time": "2024-07-29T12:07:48.317Z"
   },
   {
    "duration": 691,
    "start_time": "2024-07-29T12:07:48.485Z"
   },
   {
    "duration": 119,
    "start_time": "2024-07-29T12:07:49.179Z"
   },
   {
    "duration": 34,
    "start_time": "2024-07-29T12:07:49.306Z"
   },
   {
    "duration": 126,
    "start_time": "2024-07-29T12:07:49.343Z"
   },
   {
    "duration": 4695,
    "start_time": "2024-07-29T12:07:49.473Z"
   },
   {
    "duration": 144,
    "start_time": "2024-07-29T12:07:54.171Z"
   },
   {
    "duration": 4875,
    "start_time": "2024-07-29T12:07:54.318Z"
   },
   {
    "duration": 448,
    "start_time": "2024-07-29T12:07:59.197Z"
   },
   {
    "duration": 149,
    "start_time": "2024-07-29T12:07:59.648Z"
   },
   {
    "duration": 8,
    "start_time": "2024-07-29T12:07:59.800Z"
   },
   {
    "duration": 27,
    "start_time": "2024-07-29T12:07:59.811Z"
   },
   {
    "duration": 7,
    "start_time": "2024-07-29T12:07:59.841Z"
   },
   {
    "duration": 4138,
    "start_time": "2024-07-29T12:07:59.852Z"
   },
   {
    "duration": 12,
    "start_time": "2024-07-29T12:08:03.993Z"
   },
   {
    "duration": 33,
    "start_time": "2024-07-29T12:08:04.008Z"
   },
   {
    "duration": 55,
    "start_time": "2024-07-29T12:08:04.044Z"
   },
   {
    "duration": 131,
    "start_time": "2024-07-29T12:08:04.102Z"
   },
   {
    "duration": 214,
    "start_time": "2024-07-29T12:08:04.236Z"
   },
   {
    "duration": 214,
    "start_time": "2024-07-29T12:08:04.453Z"
   },
   {
    "duration": 27,
    "start_time": "2024-07-29T12:08:08.070Z"
   },
   {
    "duration": 403,
    "start_time": "2024-07-29T12:08:14.694Z"
   },
   {
    "duration": 31,
    "start_time": "2024-07-29T12:08:16.975Z"
   },
   {
    "duration": 32,
    "start_time": "2024-07-29T12:08:19.735Z"
   },
   {
    "duration": 19,
    "start_time": "2024-07-29T12:08:34.757Z"
   },
   {
    "duration": 12,
    "start_time": "2024-07-29T12:08:36.322Z"
   },
   {
    "duration": 118,
    "start_time": "2024-07-29T12:08:37.857Z"
   },
   {
    "duration": 5,
    "start_time": "2024-07-29T12:08:39.536Z"
   },
   {
    "duration": 6,
    "start_time": "2024-07-29T12:08:44.689Z"
   },
   {
    "duration": 653,
    "start_time": "2024-07-29T12:08:44.699Z"
   },
   {
    "duration": 3593,
    "start_time": "2024-07-29T12:08:45.355Z"
   },
   {
    "duration": 22914,
    "start_time": "2024-07-29T12:08:48.952Z"
   },
   {
    "duration": 28666,
    "start_time": "2024-07-29T12:09:11.871Z"
   },
   {
    "duration": 186982,
    "start_time": "2024-07-29T12:09:40.541Z"
   },
   {
    "duration": 1765020,
    "start_time": "2024-07-29T12:12:47.529Z"
   },
   {
    "duration": 636302,
    "start_time": "2024-07-29T12:42:12.553Z"
   },
   {
    "duration": 7,
    "start_time": "2024-07-29T14:49:27.406Z"
   },
   {
    "duration": 655,
    "start_time": "2024-07-29T14:49:27.416Z"
   },
   {
    "duration": 41,
    "start_time": "2024-07-29T14:49:28.074Z"
   },
   {
    "duration": 155,
    "start_time": "2024-07-29T14:49:28.118Z"
   },
   {
    "duration": 146,
    "start_time": "2024-07-29T14:49:28.278Z"
   },
   {
    "duration": 219,
    "start_time": "2024-07-29T14:49:28.432Z"
   },
   {
    "duration": 147,
    "start_time": "2024-07-29T14:49:28.654Z"
   },
   {
    "duration": 69,
    "start_time": "2024-07-29T14:49:28.804Z"
   },
   {
    "duration": 2829,
    "start_time": "2024-07-29T14:49:28.876Z"
   },
   {
    "duration": 144,
    "start_time": "2024-07-29T14:49:31.707Z"
   },
   {
    "duration": 163,
    "start_time": "2024-07-29T14:49:31.854Z"
   },
   {
    "duration": 678,
    "start_time": "2024-07-29T14:49:32.030Z"
   },
   {
    "duration": 109,
    "start_time": "2024-07-29T14:49:32.711Z"
   },
   {
    "duration": 19,
    "start_time": "2024-07-29T14:49:32.837Z"
   },
   {
    "duration": 130,
    "start_time": "2024-07-29T14:49:32.859Z"
   },
   {
    "duration": 4755,
    "start_time": "2024-07-29T14:49:32.992Z"
   },
   {
    "duration": 136,
    "start_time": "2024-07-29T14:49:37.749Z"
   },
   {
    "duration": 4831,
    "start_time": "2024-07-29T14:49:37.888Z"
   },
   {
    "duration": 451,
    "start_time": "2024-07-29T14:49:42.722Z"
   },
   {
    "duration": 141,
    "start_time": "2024-07-29T14:49:43.176Z"
   },
   {
    "duration": 10,
    "start_time": "2024-07-29T14:49:43.320Z"
   },
   {
    "duration": 11,
    "start_time": "2024-07-29T14:49:43.333Z"
   },
   {
    "duration": 5,
    "start_time": "2024-07-29T14:49:43.347Z"
   },
   {
    "duration": 4093,
    "start_time": "2024-07-29T14:49:43.356Z"
   },
   {
    "duration": 13,
    "start_time": "2024-07-29T14:49:47.452Z"
   },
   {
    "duration": 14,
    "start_time": "2024-07-29T14:49:47.467Z"
   },
   {
    "duration": 83,
    "start_time": "2024-07-29T14:49:47.484Z"
   },
   {
    "duration": 114,
    "start_time": "2024-07-29T14:49:47.570Z"
   },
   {
    "duration": 207,
    "start_time": "2024-07-29T14:49:47.686Z"
   },
   {
    "duration": 212,
    "start_time": "2024-07-29T14:49:47.896Z"
   },
   {
    "duration": 35,
    "start_time": "2024-07-29T14:49:48.111Z"
   },
   {
    "duration": 431,
    "start_time": "2024-07-29T14:49:48.149Z"
   },
   {
    "duration": 31,
    "start_time": "2024-07-29T14:49:48.583Z"
   },
   {
    "duration": 34,
    "start_time": "2024-07-29T14:49:48.631Z"
   },
   {
    "duration": 19,
    "start_time": "2024-07-29T14:49:48.667Z"
   },
   {
    "duration": 45,
    "start_time": "2024-07-29T14:49:48.688Z"
   },
   {
    "duration": 134,
    "start_time": "2024-07-29T14:49:48.736Z"
   },
   {
    "duration": 6,
    "start_time": "2024-07-29T14:49:48.873Z"
   },
   {
    "duration": 672,
    "start_time": "2024-07-29T14:49:48.883Z"
   },
   {
    "duration": 3602,
    "start_time": "2024-07-29T14:49:49.632Z"
   },
   {
    "duration": 1746,
    "start_time": "2024-07-29T14:50:11.004Z"
   },
   {
    "duration": 723,
    "start_time": "2024-07-29T14:50:12.753Z"
   },
   {
    "duration": 36,
    "start_time": "2024-07-29T14:50:13.478Z"
   },
   {
    "duration": 152,
    "start_time": "2024-07-29T14:50:13.532Z"
   },
   {
    "duration": 155,
    "start_time": "2024-07-29T14:50:13.688Z"
   },
   {
    "duration": 235,
    "start_time": "2024-07-29T14:50:13.850Z"
   },
   {
    "duration": 149,
    "start_time": "2024-07-29T14:50:14.089Z"
   },
   {
    "duration": 63,
    "start_time": "2024-07-29T14:50:14.241Z"
   },
   {
    "duration": 2936,
    "start_time": "2024-07-29T14:50:14.307Z"
   },
   {
    "duration": 129,
    "start_time": "2024-07-29T14:50:17.250Z"
   },
   {
    "duration": 171,
    "start_time": "2024-07-29T14:50:17.382Z"
   },
   {
    "duration": 682,
    "start_time": "2024-07-29T14:50:17.556Z"
   },
   {
    "duration": 126,
    "start_time": "2024-07-29T14:50:18.241Z"
   },
   {
    "duration": 19,
    "start_time": "2024-07-29T14:50:18.370Z"
   },
   {
    "duration": 131,
    "start_time": "2024-07-29T14:50:18.391Z"
   },
   {
    "duration": 4736,
    "start_time": "2024-07-29T14:50:18.525Z"
   },
   {
    "duration": 144,
    "start_time": "2024-07-29T14:50:23.264Z"
   },
   {
    "duration": 4824,
    "start_time": "2024-07-29T14:50:23.411Z"
   },
   {
    "duration": 455,
    "start_time": "2024-07-29T14:50:28.239Z"
   },
   {
    "duration": 138,
    "start_time": "2024-07-29T14:50:28.698Z"
   },
   {
    "duration": 7,
    "start_time": "2024-07-29T14:50:28.839Z"
   },
   {
    "duration": 11,
    "start_time": "2024-07-29T14:50:28.849Z"
   },
   {
    "duration": 5,
    "start_time": "2024-07-29T14:50:28.864Z"
   },
   {
    "duration": 4088,
    "start_time": "2024-07-29T14:50:28.872Z"
   },
   {
    "duration": 13,
    "start_time": "2024-07-29T14:50:32.963Z"
   },
   {
    "duration": 14,
    "start_time": "2024-07-29T14:50:32.978Z"
   },
   {
    "duration": 86,
    "start_time": "2024-07-29T14:50:32.995Z"
   },
   {
    "duration": 109,
    "start_time": "2024-07-29T14:50:33.088Z"
   },
   {
    "duration": 211,
    "start_time": "2024-07-29T14:50:33.199Z"
   },
   {
    "duration": 221,
    "start_time": "2024-07-29T14:50:33.413Z"
   },
   {
    "duration": 33,
    "start_time": "2024-07-29T14:50:33.638Z"
   },
   {
    "duration": 428,
    "start_time": "2024-07-29T14:50:33.674Z"
   },
   {
    "duration": 41,
    "start_time": "2024-07-29T14:50:34.105Z"
   },
   {
    "duration": 32,
    "start_time": "2024-07-29T14:50:34.149Z"
   },
   {
    "duration": 45,
    "start_time": "2024-07-29T14:50:34.185Z"
   },
   {
    "duration": 14,
    "start_time": "2024-07-29T14:50:34.233Z"
   },
   {
    "duration": 138,
    "start_time": "2024-07-29T14:50:34.249Z"
   },
   {
    "duration": 5,
    "start_time": "2024-07-29T14:50:34.390Z"
   },
   {
    "duration": 733,
    "start_time": "2024-07-29T14:50:34.398Z"
   },
   {
    "duration": 3660,
    "start_time": "2024-07-29T14:50:35.136Z"
   },
   {
    "duration": 23134,
    "start_time": "2024-07-29T14:50:38.799Z"
   },
   {
    "duration": 724,
    "start_time": "2024-07-29T14:51:12.021Z"
   },
   {
    "duration": 637,
    "start_time": "2024-07-29T14:51:32.511Z"
   },
   {
    "duration": 2308,
    "start_time": "2024-07-29T14:52:54.838Z"
   },
   {
    "duration": 56144,
    "start_time": "2024-07-29T14:54:11.907Z"
   },
   {
    "duration": 29,
    "start_time": "2024-07-29T15:09:11.860Z"
   },
   {
    "duration": 3206,
    "start_time": "2024-07-29T15:09:36.926Z"
   },
   {
    "duration": 11888,
    "start_time": "2024-07-29T15:10:49.657Z"
   },
   {
    "duration": 3605,
    "start_time": "2024-07-29T15:12:07.816Z"
   },
   {
    "duration": 45319,
    "start_time": "2024-07-29T15:13:47.548Z"
   },
   {
    "duration": 9,
    "start_time": "2024-07-29T15:14:53.406Z"
   }
  ],
  "kernelspec": {
   "display_name": "Python 3 (ipykernel)",
   "language": "python",
   "name": "python3"
  },
  "language_info": {
   "codemirror_mode": {
    "name": "ipython",
    "version": 3
   },
   "file_extension": ".py",
   "mimetype": "text/x-python",
   "name": "python",
   "nbconvert_exporter": "python",
   "pygments_lexer": "ipython3",
   "version": "3.9.19"
  },
  "toc": {
   "base_numbering": 1,
   "nav_menu": {},
   "number_sections": true,
   "sideBar": true,
   "skip_h1_title": true,
   "title_cell": "Table of Contents",
   "title_sidebar": "Contents",
   "toc_cell": false,
   "toc_position": {},
   "toc_section_display": true,
   "toc_window_display": false
  }
 },
 "nbformat": 4,
 "nbformat_minor": 2
}
